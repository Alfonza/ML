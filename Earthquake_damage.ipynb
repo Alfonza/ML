{
 "cells": [
  {
   "cell_type": "markdown",
   "metadata": {
    "colab": {},
    "colab_type": "code",
    "id": "3EQW2iAyuLYi"
   },
   "source": [
    "# Random forests algorithm\n",
    "Random forests is a supervised learning algorithm. It can be used both for classification and regression. \n",
    "It is also the most flexible and easy to use algorithm. A forest is comprised of trees. It is said that the more \n",
    "trees it has, the more robust a forest is. Random forests creates decision trees on randomly selected data samples, \n",
    "gets prediction from each tree and selects the best solution by means of voting. It also provides a pretty good indicator \n",
    "of the feature importance.\n",
    "\n",
    "It works in four steps:\n",
    "\n",
    "* Select random samples from a given dataset.\n",
    "* Construct a decision tree for each sample and get a prediction result from each decision tree.\n",
    "* Perform a vote for each predicted result.\n",
    "* Select the prediction result with the most votes as the final prediction.\n",
    "................................................\n",
    "## Advantages: \n",
    " * Random forests is considered as a highly accurate and robust method because of the number of decision trees participating in the process.\n",
    " * It does not suffer from the overfitting problem. The main reason is that it takes the average of all the predictions, which cancels out the biases.\n",
    " * The algorithm can be used in both classification and regression problems.\n",
    " * Random forests can also handle missing values.(There are two ways to handle these:using median values to  replace continuous variables, and computing the proximity-weighted average of missing values.) \n",
    " * we can get the relative feature importance, which helps in selecting the most contributing features for the classifier.\n",
    " ## Disadvantages:\n",
    " * Random forests is slow in generating predictions because it has multiple decision trees. Whenever it makes a prediction, all the trees in the forest have to make a prediction for the same given input and then perform voting on it. This whole process is time-consuming.\n",
    " * The model is difficult to interpret compared to a decision tree, where you can easily make a decision by following the path in the tree\n",
    "...............................................\n"
   ]
  },
  {
   "cell_type": "code",
   "execution_count": 3,
   "metadata": {
    "colab": {},
    "colab_type": "code",
    "id": "mGYvZYqouLYy"
   },
   "outputs": [],
   "source": [
    "#importing libraries\n",
    "import os\n",
    "import pandas as pd\n",
    "import numpy as np"
   ]
  },
  {
   "cell_type": "code",
   "execution_count": 0,
   "metadata": {
    "colab": {
     "base_uri": "https://localhost:8080/",
     "height": 34
    },
    "colab_type": "code",
    "id": "oMDWz5PauLY6",
    "outputId": "a50375db-9e53-4039-d0a7-e8b566fad0de"
   },
   "outputs": [
    {
     "name": "stdout",
     "output_type": "stream",
     "text": [
      "Drive already mounted at /content/drive; to attempt to forcibly remount, call drive.mount(\"/content/drive\", force_remount=True).\n"
     ]
    }
   ],
   "source": [
    "from google.colab import drive\n",
    "drive.mount('/content/drive')"
   ]
  },
  {
   "cell_type": "code",
   "execution_count": 0,
   "metadata": {
    "colab": {
     "base_uri": "https://localhost:8080/",
     "height": 34
    },
    "colab_type": "code",
    "id": "xVrep7kQuLZA",
    "outputId": "daff9b68-810a-4af5-acd7-32d52fdb8252"
   },
   "outputs": [
    {
     "name": "stdout",
     "output_type": "stream",
     "text": [
      "mkdir: cannot create directory ‘/content/drive/My Drive/Earthquake_damage’: File exists\n"
     ]
    }
   ],
   "source": [
    "#making new folder in the drive\n",
    "!mkdir '/content/drive/My Drive/Earthquake_damage'"
   ]
  },
  {
   "cell_type": "code",
   "execution_count": 0,
   "metadata": {
    "colab": {},
    "colab_type": "code",
    "id": "oKZM6TqWuLZI"
   },
   "outputs": [],
   "source": [
    "#if any data is zip file we want to unzip that for future purpose\n",
    "!unzip '/content/drive/My Drive/Earthquake_damage.zip' -d '/content/drive/My Drive/Earthquake_damage'"
   ]
  },
  {
   "cell_type": "markdown",
   "metadata": {
    "colab_type": "text",
    "id": "Byejc-Z1uPjL"
   },
   "source": [
    "open the dataset files and list the directories available in that dataset file"
   ]
  },
  {
   "cell_type": "code",
   "execution_count": 0,
   "metadata": {
    "colab": {
     "base_uri": "https://localhost:8080/",
     "height": 34
    },
    "colab_type": "code",
    "id": "lO49CNx_uLZl",
    "outputId": "5ce82cc3-564f-4c69-c422-fbeb98768921"
   },
   "outputs": [
    {
     "name": "stdout",
     "output_type": "stream",
     "text": [
      "['Building_Ownership_Use.csv', 'ReadMe.md', 'test.csv', 'sample_submission.csv', 'train.csv', 'Building_Structure.csv']\n"
     ]
    }
   ],
   "source": [
    "\n",
    "path=\"/content/drive/My Drive/Earthquake_damage/Earthquake_damage\"\n",
    "print(os.listdir(path))"
   ]
  },
  {
   "cell_type": "code",
   "execution_count": 2,
   "metadata": {
    "colab": {},
    "colab_type": "code",
    "id": "Mgnls_EcLsVq",
    "outputId": "ff5a9d3c-e445-4d69-daee-84486bb5e8f9"
   },
   "outputs": [
    {
     "name": "stdout",
     "output_type": "stream",
     "text": [
      "['Building_Ownership_Use.csv', 'Building_Structure.csv', 'ReadMe.md', 'sample_submission.csv', 'test.csv', 'train.csv']\n"
     ]
    }
   ],
   "source": [
    "path=\"C:\\\\Users\\\\best\\\\Downloads\\\\Earthquake_damage\\\\Earthquake_damage\"\n",
    "print(os.listdir(path))"
   ]
  },
  {
   "cell_type": "code",
   "execution_count": 3,
   "metadata": {
    "colab": {
     "base_uri": "https://localhost:8080/",
     "height": 241
    },
    "colab_type": "code",
    "id": "v1Ji-CTzuLZr",
    "outputId": "14d092f3-2a6a-4e28-cc38-22c4648bf8d6"
   },
   "outputs": [
    {
     "data": {
      "text/html": [
       "<div>\n",
       "<style scoped>\n",
       "    .dataframe tbody tr th:only-of-type {\n",
       "        vertical-align: middle;\n",
       "    }\n",
       "\n",
       "    .dataframe tbody tr th {\n",
       "        vertical-align: top;\n",
       "    }\n",
       "\n",
       "    .dataframe thead th {\n",
       "        text-align: right;\n",
       "    }\n",
       "</style>\n",
       "<table border=\"1\" class=\"dataframe\">\n",
       "  <thead>\n",
       "    <tr style=\"text-align: right;\">\n",
       "      <th></th>\n",
       "      <th>area_assesed</th>\n",
       "      <th>building_id</th>\n",
       "      <th>damage_grade</th>\n",
       "      <th>district_id</th>\n",
       "      <th>has_geotechnical_risk</th>\n",
       "      <th>has_geotechnical_risk_fault_crack</th>\n",
       "      <th>has_geotechnical_risk_flood</th>\n",
       "      <th>has_geotechnical_risk_land_settlement</th>\n",
       "      <th>has_geotechnical_risk_landslide</th>\n",
       "      <th>has_geotechnical_risk_liquefaction</th>\n",
       "      <th>has_geotechnical_risk_other</th>\n",
       "      <th>has_geotechnical_risk_rock_fall</th>\n",
       "      <th>has_repair_started</th>\n",
       "      <th>vdcmun_id</th>\n",
       "    </tr>\n",
       "  </thead>\n",
       "  <tbody>\n",
       "    <tr>\n",
       "      <th>0</th>\n",
       "      <td>Both</td>\n",
       "      <td>24385bfd2a2</td>\n",
       "      <td>Grade 4</td>\n",
       "      <td>24</td>\n",
       "      <td>0.0</td>\n",
       "      <td>0</td>\n",
       "      <td>0</td>\n",
       "      <td>0</td>\n",
       "      <td>0</td>\n",
       "      <td>0</td>\n",
       "      <td>0</td>\n",
       "      <td>0</td>\n",
       "      <td>0.0</td>\n",
       "      <td>2489</td>\n",
       "    </tr>\n",
       "    <tr>\n",
       "      <th>1</th>\n",
       "      <td>Both</td>\n",
       "      <td>405d1bbebbf</td>\n",
       "      <td>Grade 2</td>\n",
       "      <td>44</td>\n",
       "      <td>0.0</td>\n",
       "      <td>0</td>\n",
       "      <td>0</td>\n",
       "      <td>0</td>\n",
       "      <td>0</td>\n",
       "      <td>0</td>\n",
       "      <td>0</td>\n",
       "      <td>0</td>\n",
       "      <td>1.0</td>\n",
       "      <td>4423</td>\n",
       "    </tr>\n",
       "    <tr>\n",
       "      <th>2</th>\n",
       "      <td>Both</td>\n",
       "      <td>351d9bc71f6</td>\n",
       "      <td>Grade 1</td>\n",
       "      <td>36</td>\n",
       "      <td>0.0</td>\n",
       "      <td>0</td>\n",
       "      <td>0</td>\n",
       "      <td>0</td>\n",
       "      <td>0</td>\n",
       "      <td>0</td>\n",
       "      <td>0</td>\n",
       "      <td>0</td>\n",
       "      <td>0.0</td>\n",
       "      <td>3650</td>\n",
       "    </tr>\n",
       "    <tr>\n",
       "      <th>3</th>\n",
       "      <td>Building removed</td>\n",
       "      <td>2be3a971166</td>\n",
       "      <td>Grade 5</td>\n",
       "      <td>30</td>\n",
       "      <td>0.0</td>\n",
       "      <td>0</td>\n",
       "      <td>0</td>\n",
       "      <td>0</td>\n",
       "      <td>0</td>\n",
       "      <td>0</td>\n",
       "      <td>0</td>\n",
       "      <td>0</td>\n",
       "      <td>0.0</td>\n",
       "      <td>3016</td>\n",
       "    </tr>\n",
       "    <tr>\n",
       "      <th>4</th>\n",
       "      <td>Both</td>\n",
       "      <td>34c7d073ea6</td>\n",
       "      <td>Grade 3</td>\n",
       "      <td>36</td>\n",
       "      <td>0.0</td>\n",
       "      <td>0</td>\n",
       "      <td>0</td>\n",
       "      <td>0</td>\n",
       "      <td>0</td>\n",
       "      <td>0</td>\n",
       "      <td>0</td>\n",
       "      <td>0</td>\n",
       "      <td>0.0</td>\n",
       "      <td>3627</td>\n",
       "    </tr>\n",
       "  </tbody>\n",
       "</table>\n",
       "</div>"
      ],
      "text/plain": [
       "       area_assesed  building_id damage_grade  district_id  \\\n",
       "0              Both  24385bfd2a2      Grade 4           24   \n",
       "1              Both  405d1bbebbf      Grade 2           44   \n",
       "2              Both  351d9bc71f6      Grade 1           36   \n",
       "3  Building removed  2be3a971166      Grade 5           30   \n",
       "4              Both  34c7d073ea6      Grade 3           36   \n",
       "\n",
       "   has_geotechnical_risk  has_geotechnical_risk_fault_crack  \\\n",
       "0                    0.0                                  0   \n",
       "1                    0.0                                  0   \n",
       "2                    0.0                                  0   \n",
       "3                    0.0                                  0   \n",
       "4                    0.0                                  0   \n",
       "\n",
       "   has_geotechnical_risk_flood  has_geotechnical_risk_land_settlement  \\\n",
       "0                            0                                      0   \n",
       "1                            0                                      0   \n",
       "2                            0                                      0   \n",
       "3                            0                                      0   \n",
       "4                            0                                      0   \n",
       "\n",
       "   has_geotechnical_risk_landslide  has_geotechnical_risk_liquefaction  \\\n",
       "0                                0                                   0   \n",
       "1                                0                                   0   \n",
       "2                                0                                   0   \n",
       "3                                0                                   0   \n",
       "4                                0                                   0   \n",
       "\n",
       "   has_geotechnical_risk_other  has_geotechnical_risk_rock_fall  \\\n",
       "0                            0                                0   \n",
       "1                            0                                0   \n",
       "2                            0                                0   \n",
       "3                            0                                0   \n",
       "4                            0                                0   \n",
       "\n",
       "   has_repair_started  vdcmun_id  \n",
       "0                 0.0       2489  \n",
       "1                 1.0       4423  \n",
       "2                 0.0       3650  \n",
       "3                 0.0       3016  \n",
       "4                 0.0       3627  "
      ]
     },
     "execution_count": 3,
     "metadata": {},
     "output_type": "execute_result"
    }
   ],
   "source": [
    "#open the csv file ,and drop the district_id and vdcmun_id from the dataset\n",
    "data1=pd.read_csv(path+'/train.csv')      \n",
    "data1.head()\n",
    "#data1=training[:10000]\n"
   ]
  },
  {
   "cell_type": "markdown",
   "metadata": {
    "colab_type": "text",
    "id": "Vi51x040uPjW"
   },
   "source": [
    "we try to reduce the features using decoding method.we take the result in the different type of risk and store that in a same cell join that result in the different cell and store in the single cell"
   ]
  },
  {
   "cell_type": "code",
   "execution_count": 4,
   "metadata": {
    "colab": {},
    "colab_type": "code",
    "id": "6X_FXPwhuPjX"
   },
   "outputs": [],
   "source": [
    "\n",
    "data1[\"has_geotechnical_risk\"]=data1.iloc[:,4:12].astype(str).agg('-'.join,axis=1)\n",
    "data1.drop(['district_id','vdcmun_id'],axis=1,inplace=True)"
   ]
  },
  {
   "cell_type": "code",
   "execution_count": 5,
   "metadata": {
    "colab": {
     "base_uri": "https://localhost:8080/",
     "height": 723
    },
    "colab_type": "code",
    "id": "k8op_NPyuLZv",
    "outputId": "511f8c75-b886-4b0b-98e2-bf637d8de6c9"
   },
   "outputs": [
    {
     "data": {
      "text/html": [
       "<div>\n",
       "<style scoped>\n",
       "    .dataframe tbody tr th:only-of-type {\n",
       "        vertical-align: middle;\n",
       "    }\n",
       "\n",
       "    .dataframe tbody tr th {\n",
       "        vertical-align: top;\n",
       "    }\n",
       "\n",
       "    .dataframe thead th {\n",
       "        text-align: right;\n",
       "    }\n",
       "</style>\n",
       "<table border=\"1\" class=\"dataframe\">\n",
       "  <thead>\n",
       "    <tr style=\"text-align: right;\">\n",
       "      <th></th>\n",
       "      <th>area_assesed</th>\n",
       "      <th>building_id</th>\n",
       "      <th>damage_grade</th>\n",
       "      <th>has_geotechnical_risk</th>\n",
       "      <th>has_geotechnical_risk_fault_crack</th>\n",
       "      <th>has_geotechnical_risk_flood</th>\n",
       "      <th>has_geotechnical_risk_land_settlement</th>\n",
       "      <th>has_geotechnical_risk_landslide</th>\n",
       "      <th>has_geotechnical_risk_liquefaction</th>\n",
       "      <th>has_geotechnical_risk_other</th>\n",
       "      <th>has_geotechnical_risk_rock_fall</th>\n",
       "      <th>has_repair_started</th>\n",
       "    </tr>\n",
       "  </thead>\n",
       "  <tbody>\n",
       "    <tr>\n",
       "      <th>0</th>\n",
       "      <td>Both</td>\n",
       "      <td>24385bfd2a2</td>\n",
       "      <td>Grade 4</td>\n",
       "      <td>0.0-0-0-0-0-0-0-0</td>\n",
       "      <td>0</td>\n",
       "      <td>0</td>\n",
       "      <td>0</td>\n",
       "      <td>0</td>\n",
       "      <td>0</td>\n",
       "      <td>0</td>\n",
       "      <td>0</td>\n",
       "      <td>0.0</td>\n",
       "    </tr>\n",
       "    <tr>\n",
       "      <th>1</th>\n",
       "      <td>Both</td>\n",
       "      <td>405d1bbebbf</td>\n",
       "      <td>Grade 2</td>\n",
       "      <td>0.0-0-0-0-0-0-0-0</td>\n",
       "      <td>0</td>\n",
       "      <td>0</td>\n",
       "      <td>0</td>\n",
       "      <td>0</td>\n",
       "      <td>0</td>\n",
       "      <td>0</td>\n",
       "      <td>0</td>\n",
       "      <td>1.0</td>\n",
       "    </tr>\n",
       "    <tr>\n",
       "      <th>2</th>\n",
       "      <td>Both</td>\n",
       "      <td>351d9bc71f6</td>\n",
       "      <td>Grade 1</td>\n",
       "      <td>0.0-0-0-0-0-0-0-0</td>\n",
       "      <td>0</td>\n",
       "      <td>0</td>\n",
       "      <td>0</td>\n",
       "      <td>0</td>\n",
       "      <td>0</td>\n",
       "      <td>0</td>\n",
       "      <td>0</td>\n",
       "      <td>0.0</td>\n",
       "    </tr>\n",
       "    <tr>\n",
       "      <th>3</th>\n",
       "      <td>Building removed</td>\n",
       "      <td>2be3a971166</td>\n",
       "      <td>Grade 5</td>\n",
       "      <td>0.0-0-0-0-0-0-0-0</td>\n",
       "      <td>0</td>\n",
       "      <td>0</td>\n",
       "      <td>0</td>\n",
       "      <td>0</td>\n",
       "      <td>0</td>\n",
       "      <td>0</td>\n",
       "      <td>0</td>\n",
       "      <td>0.0</td>\n",
       "    </tr>\n",
       "    <tr>\n",
       "      <th>4</th>\n",
       "      <td>Both</td>\n",
       "      <td>34c7d073ea6</td>\n",
       "      <td>Grade 3</td>\n",
       "      <td>0.0-0-0-0-0-0-0-0</td>\n",
       "      <td>0</td>\n",
       "      <td>0</td>\n",
       "      <td>0</td>\n",
       "      <td>0</td>\n",
       "      <td>0</td>\n",
       "      <td>0</td>\n",
       "      <td>0</td>\n",
       "      <td>0.0</td>\n",
       "    </tr>\n",
       "  </tbody>\n",
       "</table>\n",
       "</div>"
      ],
      "text/plain": [
       "       area_assesed  building_id damage_grade has_geotechnical_risk  \\\n",
       "0              Both  24385bfd2a2      Grade 4     0.0-0-0-0-0-0-0-0   \n",
       "1              Both  405d1bbebbf      Grade 2     0.0-0-0-0-0-0-0-0   \n",
       "2              Both  351d9bc71f6      Grade 1     0.0-0-0-0-0-0-0-0   \n",
       "3  Building removed  2be3a971166      Grade 5     0.0-0-0-0-0-0-0-0   \n",
       "4              Both  34c7d073ea6      Grade 3     0.0-0-0-0-0-0-0-0   \n",
       "\n",
       "   has_geotechnical_risk_fault_crack  has_geotechnical_risk_flood  \\\n",
       "0                                  0                            0   \n",
       "1                                  0                            0   \n",
       "2                                  0                            0   \n",
       "3                                  0                            0   \n",
       "4                                  0                            0   \n",
       "\n",
       "   has_geotechnical_risk_land_settlement  has_geotechnical_risk_landslide  \\\n",
       "0                                      0                                0   \n",
       "1                                      0                                0   \n",
       "2                                      0                                0   \n",
       "3                                      0                                0   \n",
       "4                                      0                                0   \n",
       "\n",
       "   has_geotechnical_risk_liquefaction  has_geotechnical_risk_other  \\\n",
       "0                                   0                            0   \n",
       "1                                   0                            0   \n",
       "2                                   0                            0   \n",
       "3                                   0                            0   \n",
       "4                                   0                            0   \n",
       "\n",
       "   has_geotechnical_risk_rock_fall  has_repair_started  \n",
       "0                                0                 0.0  \n",
       "1                                0                 1.0  \n",
       "2                                0                 0.0  \n",
       "3                                0                 0.0  \n",
       "4                                0                 0.0  "
      ]
     },
     "execution_count": 5,
     "metadata": {},
     "output_type": "execute_result"
    }
   ],
   "source": [
    "data1.head()"
   ]
  },
  {
   "cell_type": "code",
   "execution_count": 6,
   "metadata": {
    "colab": {},
    "colab_type": "code",
    "id": "E74vOuejuPjf"
   },
   "outputs": [],
   "source": [
    "data1.drop(data1.columns[4:11],axis=1,inplace=True)"
   ]
  },
  {
   "cell_type": "code",
   "execution_count": 7,
   "metadata": {
    "colab": {
     "base_uri": "https://localhost:8080/",
     "height": 204
    },
    "colab_type": "code",
    "id": "-vY2pTdXuPjj",
    "outputId": "372f19be-6399-4dde-ffa3-c49675a89579"
   },
   "outputs": [
    {
     "data": {
      "text/html": [
       "<div>\n",
       "<style scoped>\n",
       "    .dataframe tbody tr th:only-of-type {\n",
       "        vertical-align: middle;\n",
       "    }\n",
       "\n",
       "    .dataframe tbody tr th {\n",
       "        vertical-align: top;\n",
       "    }\n",
       "\n",
       "    .dataframe thead th {\n",
       "        text-align: right;\n",
       "    }\n",
       "</style>\n",
       "<table border=\"1\" class=\"dataframe\">\n",
       "  <thead>\n",
       "    <tr style=\"text-align: right;\">\n",
       "      <th></th>\n",
       "      <th>area_assesed</th>\n",
       "      <th>building_id</th>\n",
       "      <th>damage_grade</th>\n",
       "      <th>has_geotechnical_risk</th>\n",
       "      <th>has_repair_started</th>\n",
       "    </tr>\n",
       "  </thead>\n",
       "  <tbody>\n",
       "    <tr>\n",
       "      <th>0</th>\n",
       "      <td>Both</td>\n",
       "      <td>24385bfd2a2</td>\n",
       "      <td>Grade 4</td>\n",
       "      <td>0.0-0-0-0-0-0-0-0</td>\n",
       "      <td>0.0</td>\n",
       "    </tr>\n",
       "    <tr>\n",
       "      <th>1</th>\n",
       "      <td>Both</td>\n",
       "      <td>405d1bbebbf</td>\n",
       "      <td>Grade 2</td>\n",
       "      <td>0.0-0-0-0-0-0-0-0</td>\n",
       "      <td>1.0</td>\n",
       "    </tr>\n",
       "    <tr>\n",
       "      <th>2</th>\n",
       "      <td>Both</td>\n",
       "      <td>351d9bc71f6</td>\n",
       "      <td>Grade 1</td>\n",
       "      <td>0.0-0-0-0-0-0-0-0</td>\n",
       "      <td>0.0</td>\n",
       "    </tr>\n",
       "    <tr>\n",
       "      <th>3</th>\n",
       "      <td>Building removed</td>\n",
       "      <td>2be3a971166</td>\n",
       "      <td>Grade 5</td>\n",
       "      <td>0.0-0-0-0-0-0-0-0</td>\n",
       "      <td>0.0</td>\n",
       "    </tr>\n",
       "    <tr>\n",
       "      <th>4</th>\n",
       "      <td>Both</td>\n",
       "      <td>34c7d073ea6</td>\n",
       "      <td>Grade 3</td>\n",
       "      <td>0.0-0-0-0-0-0-0-0</td>\n",
       "      <td>0.0</td>\n",
       "    </tr>\n",
       "  </tbody>\n",
       "</table>\n",
       "</div>"
      ],
      "text/plain": [
       "       area_assesed  building_id damage_grade has_geotechnical_risk  \\\n",
       "0              Both  24385bfd2a2      Grade 4     0.0-0-0-0-0-0-0-0   \n",
       "1              Both  405d1bbebbf      Grade 2     0.0-0-0-0-0-0-0-0   \n",
       "2              Both  351d9bc71f6      Grade 1     0.0-0-0-0-0-0-0-0   \n",
       "3  Building removed  2be3a971166      Grade 5     0.0-0-0-0-0-0-0-0   \n",
       "4              Both  34c7d073ea6      Grade 3     0.0-0-0-0-0-0-0-0   \n",
       "\n",
       "   has_repair_started  \n",
       "0                 0.0  \n",
       "1                 1.0  \n",
       "2                 0.0  \n",
       "3                 0.0  \n",
       "4                 0.0  "
      ]
     },
     "execution_count": 7,
     "metadata": {},
     "output_type": "execute_result"
    }
   ],
   "source": [
    "data1.head()"
   ]
  },
  {
   "cell_type": "code",
   "execution_count": 9,
   "metadata": {
    "colab": {
     "base_uri": "https://localhost:8080/",
     "height": 224
    },
    "colab_type": "code",
    "id": "Ve19H7mJuLZz",
    "outputId": "5e08eb23-0daf-4b34-9c2c-87d69cfc970a"
   },
   "outputs": [
    {
     "data": {
      "text/html": [
       "<div>\n",
       "<style scoped>\n",
       "    .dataframe tbody tr th:only-of-type {\n",
       "        vertical-align: middle;\n",
       "    }\n",
       "\n",
       "    .dataframe tbody tr th {\n",
       "        vertical-align: top;\n",
       "    }\n",
       "\n",
       "    .dataframe thead th {\n",
       "        text-align: right;\n",
       "    }\n",
       "</style>\n",
       "<table border=\"1\" class=\"dataframe\">\n",
       "  <thead>\n",
       "    <tr style=\"text-align: right;\">\n",
       "      <th></th>\n",
       "      <th>building_id</th>\n",
       "      <th>district_id</th>\n",
       "      <th>vdcmun_id</th>\n",
       "      <th>ward_id</th>\n",
       "      <th>legal_ownership_status</th>\n",
       "      <th>count_families</th>\n",
       "      <th>has_secondary_use</th>\n",
       "      <th>has_secondary_use_agriculture</th>\n",
       "      <th>has_secondary_use_hotel</th>\n",
       "      <th>has_secondary_use_rental</th>\n",
       "      <th>has_secondary_use_institution</th>\n",
       "      <th>has_secondary_use_school</th>\n",
       "      <th>has_secondary_use_industry</th>\n",
       "      <th>has_secondary_use_health_post</th>\n",
       "      <th>has_secondary_use_gov_office</th>\n",
       "      <th>has_secondary_use_use_police</th>\n",
       "      <th>has_secondary_use_other</th>\n",
       "    </tr>\n",
       "  </thead>\n",
       "  <tbody>\n",
       "    <tr>\n",
       "      <th>0</th>\n",
       "      <td>a3380c4f75</td>\n",
       "      <td>7</td>\n",
       "      <td>701</td>\n",
       "      <td>70102</td>\n",
       "      <td>Private</td>\n",
       "      <td>1.0</td>\n",
       "      <td>0.0</td>\n",
       "      <td>0</td>\n",
       "      <td>0</td>\n",
       "      <td>0</td>\n",
       "      <td>0</td>\n",
       "      <td>0</td>\n",
       "      <td>0</td>\n",
       "      <td>0</td>\n",
       "      <td>0</td>\n",
       "      <td>0</td>\n",
       "      <td>0</td>\n",
       "    </tr>\n",
       "    <tr>\n",
       "      <th>1</th>\n",
       "      <td>a3380c4fd9</td>\n",
       "      <td>7</td>\n",
       "      <td>701</td>\n",
       "      <td>70102</td>\n",
       "      <td>Private</td>\n",
       "      <td>1.0</td>\n",
       "      <td>0.0</td>\n",
       "      <td>0</td>\n",
       "      <td>0</td>\n",
       "      <td>0</td>\n",
       "      <td>0</td>\n",
       "      <td>0</td>\n",
       "      <td>0</td>\n",
       "      <td>0</td>\n",
       "      <td>0</td>\n",
       "      <td>0</td>\n",
       "      <td>0</td>\n",
       "    </tr>\n",
       "    <tr>\n",
       "      <th>2</th>\n",
       "      <td>a3380c503e</td>\n",
       "      <td>7</td>\n",
       "      <td>701</td>\n",
       "      <td>70102</td>\n",
       "      <td>Private</td>\n",
       "      <td>1.0</td>\n",
       "      <td>0.0</td>\n",
       "      <td>0</td>\n",
       "      <td>0</td>\n",
       "      <td>0</td>\n",
       "      <td>0</td>\n",
       "      <td>0</td>\n",
       "      <td>0</td>\n",
       "      <td>0</td>\n",
       "      <td>0</td>\n",
       "      <td>0</td>\n",
       "      <td>0</td>\n",
       "    </tr>\n",
       "    <tr>\n",
       "      <th>3</th>\n",
       "      <td>a338a4e5f2</td>\n",
       "      <td>7</td>\n",
       "      <td>701</td>\n",
       "      <td>70103</td>\n",
       "      <td>Private</td>\n",
       "      <td>1.0</td>\n",
       "      <td>0.0</td>\n",
       "      <td>0</td>\n",
       "      <td>0</td>\n",
       "      <td>0</td>\n",
       "      <td>0</td>\n",
       "      <td>0</td>\n",
       "      <td>0</td>\n",
       "      <td>0</td>\n",
       "      <td>0</td>\n",
       "      <td>0</td>\n",
       "      <td>0</td>\n",
       "    </tr>\n",
       "    <tr>\n",
       "      <th>4</th>\n",
       "      <td>a338a4e653</td>\n",
       "      <td>7</td>\n",
       "      <td>701</td>\n",
       "      <td>70103</td>\n",
       "      <td>Private</td>\n",
       "      <td>1.0</td>\n",
       "      <td>0.0</td>\n",
       "      <td>0</td>\n",
       "      <td>0</td>\n",
       "      <td>0</td>\n",
       "      <td>0</td>\n",
       "      <td>0</td>\n",
       "      <td>0</td>\n",
       "      <td>0</td>\n",
       "      <td>0</td>\n",
       "      <td>0</td>\n",
       "      <td>0</td>\n",
       "    </tr>\n",
       "  </tbody>\n",
       "</table>\n",
       "</div>"
      ],
      "text/plain": [
       "  building_id  district_id  vdcmun_id  ward_id legal_ownership_status  \\\n",
       "0  a3380c4f75            7        701    70102                Private   \n",
       "1  a3380c4fd9            7        701    70102                Private   \n",
       "2  a3380c503e            7        701    70102                Private   \n",
       "3  a338a4e5f2            7        701    70103                Private   \n",
       "4  a338a4e653            7        701    70103                Private   \n",
       "\n",
       "   count_families  has_secondary_use  has_secondary_use_agriculture  \\\n",
       "0             1.0                0.0                              0   \n",
       "1             1.0                0.0                              0   \n",
       "2             1.0                0.0                              0   \n",
       "3             1.0                0.0                              0   \n",
       "4             1.0                0.0                              0   \n",
       "\n",
       "   has_secondary_use_hotel  has_secondary_use_rental  \\\n",
       "0                        0                         0   \n",
       "1                        0                         0   \n",
       "2                        0                         0   \n",
       "3                        0                         0   \n",
       "4                        0                         0   \n",
       "\n",
       "   has_secondary_use_institution  has_secondary_use_school  \\\n",
       "0                              0                         0   \n",
       "1                              0                         0   \n",
       "2                              0                         0   \n",
       "3                              0                         0   \n",
       "4                              0                         0   \n",
       "\n",
       "   has_secondary_use_industry  has_secondary_use_health_post  \\\n",
       "0                           0                              0   \n",
       "1                           0                              0   \n",
       "2                           0                              0   \n",
       "3                           0                              0   \n",
       "4                           0                              0   \n",
       "\n",
       "   has_secondary_use_gov_office  has_secondary_use_use_police  \\\n",
       "0                             0                             0   \n",
       "1                             0                             0   \n",
       "2                             0                             0   \n",
       "3                             0                             0   \n",
       "4                             0                             0   \n",
       "\n",
       "   has_secondary_use_other  \n",
       "0                        0  \n",
       "1                        0  \n",
       "2                        0  \n",
       "3                        0  \n",
       "4                        0  "
      ]
     },
     "execution_count": 9,
     "metadata": {},
     "output_type": "execute_result"
    }
   ],
   "source": [
    "data2=pd.read_csv(path+'/Building_Ownership_Use.csv')\n",
    "data2.head()\n"
   ]
  },
  {
   "cell_type": "markdown",
   "metadata": {
    "colab_type": "text",
    "id": "DPrDl39nuPjq"
   },
   "source": [
    "we try to reduce the features using decoding method.we take the result in the different type of users and store that in a same cell join that result in the different cell and store in the single cell"
   ]
  },
  {
   "cell_type": "code",
   "execution_count": 10,
   "metadata": {
    "colab": {},
    "colab_type": "code",
    "id": "8JVGRSd3uPjq"
   },
   "outputs": [],
   "source": [
    "data2[\"has_secondary_use\"]=data2.iloc[:,6:].astype(str).agg('-'.join,axis=1)\n",
    "data2.drop(['district_id','vdcmun_id'],axis=1,inplace=True)"
   ]
  },
  {
   "cell_type": "code",
   "execution_count": 11,
   "metadata": {
    "colab": {
     "base_uri": "https://localhost:8080/",
     "height": 309
    },
    "colab_type": "code",
    "id": "9aD1PmwruPjt",
    "outputId": "8d49bead-2785-4dbb-b78f-a58f79483c18"
   },
   "outputs": [
    {
     "data": {
      "text/html": [
       "<div>\n",
       "<style scoped>\n",
       "    .dataframe tbody tr th:only-of-type {\n",
       "        vertical-align: middle;\n",
       "    }\n",
       "\n",
       "    .dataframe tbody tr th {\n",
       "        vertical-align: top;\n",
       "    }\n",
       "\n",
       "    .dataframe thead th {\n",
       "        text-align: right;\n",
       "    }\n",
       "</style>\n",
       "<table border=\"1\" class=\"dataframe\">\n",
       "  <thead>\n",
       "    <tr style=\"text-align: right;\">\n",
       "      <th></th>\n",
       "      <th>building_id</th>\n",
       "      <th>ward_id</th>\n",
       "      <th>legal_ownership_status</th>\n",
       "      <th>count_families</th>\n",
       "      <th>has_secondary_use</th>\n",
       "      <th>has_secondary_use_agriculture</th>\n",
       "      <th>has_secondary_use_hotel</th>\n",
       "      <th>has_secondary_use_rental</th>\n",
       "      <th>has_secondary_use_institution</th>\n",
       "      <th>has_secondary_use_school</th>\n",
       "      <th>has_secondary_use_industry</th>\n",
       "      <th>has_secondary_use_health_post</th>\n",
       "      <th>has_secondary_use_gov_office</th>\n",
       "      <th>has_secondary_use_use_police</th>\n",
       "      <th>has_secondary_use_other</th>\n",
       "    </tr>\n",
       "  </thead>\n",
       "  <tbody>\n",
       "    <tr>\n",
       "      <th>0</th>\n",
       "      <td>a3380c4f75</td>\n",
       "      <td>70102</td>\n",
       "      <td>Private</td>\n",
       "      <td>1.0</td>\n",
       "      <td>0.0-0-0-0-0-0-0-0-0-0-0</td>\n",
       "      <td>0</td>\n",
       "      <td>0</td>\n",
       "      <td>0</td>\n",
       "      <td>0</td>\n",
       "      <td>0</td>\n",
       "      <td>0</td>\n",
       "      <td>0</td>\n",
       "      <td>0</td>\n",
       "      <td>0</td>\n",
       "      <td>0</td>\n",
       "    </tr>\n",
       "    <tr>\n",
       "      <th>1</th>\n",
       "      <td>a3380c4fd9</td>\n",
       "      <td>70102</td>\n",
       "      <td>Private</td>\n",
       "      <td>1.0</td>\n",
       "      <td>0.0-0-0-0-0-0-0-0-0-0-0</td>\n",
       "      <td>0</td>\n",
       "      <td>0</td>\n",
       "      <td>0</td>\n",
       "      <td>0</td>\n",
       "      <td>0</td>\n",
       "      <td>0</td>\n",
       "      <td>0</td>\n",
       "      <td>0</td>\n",
       "      <td>0</td>\n",
       "      <td>0</td>\n",
       "    </tr>\n",
       "    <tr>\n",
       "      <th>2</th>\n",
       "      <td>a3380c503e</td>\n",
       "      <td>70102</td>\n",
       "      <td>Private</td>\n",
       "      <td>1.0</td>\n",
       "      <td>0.0-0-0-0-0-0-0-0-0-0-0</td>\n",
       "      <td>0</td>\n",
       "      <td>0</td>\n",
       "      <td>0</td>\n",
       "      <td>0</td>\n",
       "      <td>0</td>\n",
       "      <td>0</td>\n",
       "      <td>0</td>\n",
       "      <td>0</td>\n",
       "      <td>0</td>\n",
       "      <td>0</td>\n",
       "    </tr>\n",
       "    <tr>\n",
       "      <th>3</th>\n",
       "      <td>a338a4e5f2</td>\n",
       "      <td>70103</td>\n",
       "      <td>Private</td>\n",
       "      <td>1.0</td>\n",
       "      <td>0.0-0-0-0-0-0-0-0-0-0-0</td>\n",
       "      <td>0</td>\n",
       "      <td>0</td>\n",
       "      <td>0</td>\n",
       "      <td>0</td>\n",
       "      <td>0</td>\n",
       "      <td>0</td>\n",
       "      <td>0</td>\n",
       "      <td>0</td>\n",
       "      <td>0</td>\n",
       "      <td>0</td>\n",
       "    </tr>\n",
       "    <tr>\n",
       "      <th>4</th>\n",
       "      <td>a338a4e653</td>\n",
       "      <td>70103</td>\n",
       "      <td>Private</td>\n",
       "      <td>1.0</td>\n",
       "      <td>0.0-0-0-0-0-0-0-0-0-0-0</td>\n",
       "      <td>0</td>\n",
       "      <td>0</td>\n",
       "      <td>0</td>\n",
       "      <td>0</td>\n",
       "      <td>0</td>\n",
       "      <td>0</td>\n",
       "      <td>0</td>\n",
       "      <td>0</td>\n",
       "      <td>0</td>\n",
       "      <td>0</td>\n",
       "    </tr>\n",
       "  </tbody>\n",
       "</table>\n",
       "</div>"
      ],
      "text/plain": [
       "  building_id  ward_id legal_ownership_status  count_families  \\\n",
       "0  a3380c4f75    70102                Private             1.0   \n",
       "1  a3380c4fd9    70102                Private             1.0   \n",
       "2  a3380c503e    70102                Private             1.0   \n",
       "3  a338a4e5f2    70103                Private             1.0   \n",
       "4  a338a4e653    70103                Private             1.0   \n",
       "\n",
       "         has_secondary_use  has_secondary_use_agriculture  \\\n",
       "0  0.0-0-0-0-0-0-0-0-0-0-0                              0   \n",
       "1  0.0-0-0-0-0-0-0-0-0-0-0                              0   \n",
       "2  0.0-0-0-0-0-0-0-0-0-0-0                              0   \n",
       "3  0.0-0-0-0-0-0-0-0-0-0-0                              0   \n",
       "4  0.0-0-0-0-0-0-0-0-0-0-0                              0   \n",
       "\n",
       "   has_secondary_use_hotel  has_secondary_use_rental  \\\n",
       "0                        0                         0   \n",
       "1                        0                         0   \n",
       "2                        0                         0   \n",
       "3                        0                         0   \n",
       "4                        0                         0   \n",
       "\n",
       "   has_secondary_use_institution  has_secondary_use_school  \\\n",
       "0                              0                         0   \n",
       "1                              0                         0   \n",
       "2                              0                         0   \n",
       "3                              0                         0   \n",
       "4                              0                         0   \n",
       "\n",
       "   has_secondary_use_industry  has_secondary_use_health_post  \\\n",
       "0                           0                              0   \n",
       "1                           0                              0   \n",
       "2                           0                              0   \n",
       "3                           0                              0   \n",
       "4                           0                              0   \n",
       "\n",
       "   has_secondary_use_gov_office  has_secondary_use_use_police  \\\n",
       "0                             0                             0   \n",
       "1                             0                             0   \n",
       "2                             0                             0   \n",
       "3                             0                             0   \n",
       "4                             0                             0   \n",
       "\n",
       "   has_secondary_use_other  \n",
       "0                        0  \n",
       "1                        0  \n",
       "2                        0  \n",
       "3                        0  \n",
       "4                        0  "
      ]
     },
     "execution_count": 11,
     "metadata": {},
     "output_type": "execute_result"
    }
   ],
   "source": [
    "data2.head()"
   ]
  },
  {
   "cell_type": "code",
   "execution_count": 12,
   "metadata": {
    "colab": {},
    "colab_type": "code",
    "id": "0yPzydFyuPjx"
   },
   "outputs": [],
   "source": [
    "data2.drop(data2.columns[5:],axis=1,inplace=True)"
   ]
  },
  {
   "cell_type": "code",
   "execution_count": 13,
   "metadata": {
    "colab": {
     "base_uri": "https://localhost:8080/",
     "height": 204
    },
    "colab_type": "code",
    "id": "_sZMf7A6uPj1",
    "outputId": "365af8da-414a-4244-fc49-d3c90c461623"
   },
   "outputs": [
    {
     "data": {
      "text/html": [
       "<div>\n",
       "<style scoped>\n",
       "    .dataframe tbody tr th:only-of-type {\n",
       "        vertical-align: middle;\n",
       "    }\n",
       "\n",
       "    .dataframe tbody tr th {\n",
       "        vertical-align: top;\n",
       "    }\n",
       "\n",
       "    .dataframe thead th {\n",
       "        text-align: right;\n",
       "    }\n",
       "</style>\n",
       "<table border=\"1\" class=\"dataframe\">\n",
       "  <thead>\n",
       "    <tr style=\"text-align: right;\">\n",
       "      <th></th>\n",
       "      <th>building_id</th>\n",
       "      <th>ward_id</th>\n",
       "      <th>legal_ownership_status</th>\n",
       "      <th>count_families</th>\n",
       "      <th>has_secondary_use</th>\n",
       "    </tr>\n",
       "  </thead>\n",
       "  <tbody>\n",
       "    <tr>\n",
       "      <th>0</th>\n",
       "      <td>a3380c4f75</td>\n",
       "      <td>70102</td>\n",
       "      <td>Private</td>\n",
       "      <td>1.0</td>\n",
       "      <td>0.0-0-0-0-0-0-0-0-0-0-0</td>\n",
       "    </tr>\n",
       "    <tr>\n",
       "      <th>1</th>\n",
       "      <td>a3380c4fd9</td>\n",
       "      <td>70102</td>\n",
       "      <td>Private</td>\n",
       "      <td>1.0</td>\n",
       "      <td>0.0-0-0-0-0-0-0-0-0-0-0</td>\n",
       "    </tr>\n",
       "    <tr>\n",
       "      <th>2</th>\n",
       "      <td>a3380c503e</td>\n",
       "      <td>70102</td>\n",
       "      <td>Private</td>\n",
       "      <td>1.0</td>\n",
       "      <td>0.0-0-0-0-0-0-0-0-0-0-0</td>\n",
       "    </tr>\n",
       "    <tr>\n",
       "      <th>3</th>\n",
       "      <td>a338a4e5f2</td>\n",
       "      <td>70103</td>\n",
       "      <td>Private</td>\n",
       "      <td>1.0</td>\n",
       "      <td>0.0-0-0-0-0-0-0-0-0-0-0</td>\n",
       "    </tr>\n",
       "    <tr>\n",
       "      <th>4</th>\n",
       "      <td>a338a4e653</td>\n",
       "      <td>70103</td>\n",
       "      <td>Private</td>\n",
       "      <td>1.0</td>\n",
       "      <td>0.0-0-0-0-0-0-0-0-0-0-0</td>\n",
       "    </tr>\n",
       "  </tbody>\n",
       "</table>\n",
       "</div>"
      ],
      "text/plain": [
       "  building_id  ward_id legal_ownership_status  count_families  \\\n",
       "0  a3380c4f75    70102                Private             1.0   \n",
       "1  a3380c4fd9    70102                Private             1.0   \n",
       "2  a3380c503e    70102                Private             1.0   \n",
       "3  a338a4e5f2    70103                Private             1.0   \n",
       "4  a338a4e653    70103                Private             1.0   \n",
       "\n",
       "         has_secondary_use  \n",
       "0  0.0-0-0-0-0-0-0-0-0-0-0  \n",
       "1  0.0-0-0-0-0-0-0-0-0-0-0  \n",
       "2  0.0-0-0-0-0-0-0-0-0-0-0  \n",
       "3  0.0-0-0-0-0-0-0-0-0-0-0  \n",
       "4  0.0-0-0-0-0-0-0-0-0-0-0  "
      ]
     },
     "execution_count": 13,
     "metadata": {},
     "output_type": "execute_result"
    }
   ],
   "source": [
    "data2.head()"
   ]
  },
  {
   "cell_type": "code",
   "execution_count": 18,
   "metadata": {
    "colab": {},
    "colab_type": "code",
    "id": "izk15ZKUuLZ3"
   },
   "outputs": [],
   "source": [
    "#we have different csv file so that we want compain all table together .there merge the data tables based building_id\n",
    "data3 = pd.merge(data2,data1,on=['building_id'])"
   ]
  },
  {
   "cell_type": "code",
   "execution_count": 19,
   "metadata": {
    "colab": {},
    "colab_type": "code",
    "id": "QrQMbbfiuLZ7"
   },
   "outputs": [],
   "source": [
    "data4=pd.read_csv(path+'/Building_Structure.csv')\n",
    "data4.head()\n",
    "data4.drop(['district_id','vdcmun_id','ward_id'],axis=1,inplace=True)"
   ]
  },
  {
   "cell_type": "code",
   "execution_count": 20,
   "metadata": {
    "colab": {},
    "colab_type": "code",
    "id": "cyKnwqLnuLaA"
   },
   "outputs": [],
   "source": [
    "data= pd.merge(data4,data3,on=['building_id'])"
   ]
  },
  {
   "cell_type": "code",
   "execution_count": 21,
   "metadata": {
    "colab": {
     "base_uri": "https://localhost:8080/",
     "height": 309
    },
    "colab_type": "code",
    "id": "R46Y96W_uLaE",
    "outputId": "f5176b27-80f2-4f1d-c52c-da8bc7735fe4"
   },
   "outputs": [
    {
     "data": {
      "text/html": [
       "<div>\n",
       "<style scoped>\n",
       "    .dataframe tbody tr th:only-of-type {\n",
       "        vertical-align: middle;\n",
       "    }\n",
       "\n",
       "    .dataframe tbody tr th {\n",
       "        vertical-align: top;\n",
       "    }\n",
       "\n",
       "    .dataframe thead th {\n",
       "        text-align: right;\n",
       "    }\n",
       "</style>\n",
       "<table border=\"1\" class=\"dataframe\">\n",
       "  <thead>\n",
       "    <tr style=\"text-align: right;\">\n",
       "      <th></th>\n",
       "      <th>building_id</th>\n",
       "      <th>count_floors_pre_eq</th>\n",
       "      <th>count_floors_post_eq</th>\n",
       "      <th>age_building</th>\n",
       "      <th>plinth_area_sq_ft</th>\n",
       "      <th>height_ft_pre_eq</th>\n",
       "      <th>height_ft_post_eq</th>\n",
       "      <th>land_surface_condition</th>\n",
       "      <th>foundation_type</th>\n",
       "      <th>roof_type</th>\n",
       "      <th>...</th>\n",
       "      <th>has_superstructure_other</th>\n",
       "      <th>condition_post_eq</th>\n",
       "      <th>ward_id</th>\n",
       "      <th>legal_ownership_status</th>\n",
       "      <th>count_families</th>\n",
       "      <th>has_secondary_use</th>\n",
       "      <th>area_assesed</th>\n",
       "      <th>damage_grade</th>\n",
       "      <th>has_geotechnical_risk</th>\n",
       "      <th>has_repair_started</th>\n",
       "    </tr>\n",
       "  </thead>\n",
       "  <tbody>\n",
       "    <tr>\n",
       "      <th>0</th>\n",
       "      <td>a3380c4fd9</td>\n",
       "      <td>1</td>\n",
       "      <td>1</td>\n",
       "      <td>32</td>\n",
       "      <td>324</td>\n",
       "      <td>9</td>\n",
       "      <td>9</td>\n",
       "      <td>Moderate slope</td>\n",
       "      <td>Mud mortar-Stone/Brick</td>\n",
       "      <td>Bamboo/Timber-Light roof</td>\n",
       "      <td>...</td>\n",
       "      <td>1</td>\n",
       "      <td>Damaged-Repaired and used</td>\n",
       "      <td>70102</td>\n",
       "      <td>Private</td>\n",
       "      <td>1.0</td>\n",
       "      <td>0.0-0-0-0-0-0-0-0-0-0-0</td>\n",
       "      <td>Both</td>\n",
       "      <td>Grade 2</td>\n",
       "      <td>0.0-0-0-0-0-0-0-0</td>\n",
       "      <td>1.0</td>\n",
       "    </tr>\n",
       "    <tr>\n",
       "      <th>1</th>\n",
       "      <td>a3380c503e</td>\n",
       "      <td>2</td>\n",
       "      <td>2</td>\n",
       "      <td>34</td>\n",
       "      <td>456</td>\n",
       "      <td>18</td>\n",
       "      <td>18</td>\n",
       "      <td>Moderate slope</td>\n",
       "      <td>Mud mortar-Stone/Brick</td>\n",
       "      <td>Bamboo/Timber-Light roof</td>\n",
       "      <td>...</td>\n",
       "      <td>1</td>\n",
       "      <td>Damaged-Repaired and used</td>\n",
       "      <td>70102</td>\n",
       "      <td>Private</td>\n",
       "      <td>1.0</td>\n",
       "      <td>0.0-0-0-0-0-0-0-0-0-0-0</td>\n",
       "      <td>Both</td>\n",
       "      <td>Grade 3</td>\n",
       "      <td>0.0-0-0-0-0-0-0-0</td>\n",
       "      <td>1.0</td>\n",
       "    </tr>\n",
       "    <tr>\n",
       "      <th>2</th>\n",
       "      <td>a338a4e5f2</td>\n",
       "      <td>2</td>\n",
       "      <td>2</td>\n",
       "      <td>20</td>\n",
       "      <td>452</td>\n",
       "      <td>18</td>\n",
       "      <td>18</td>\n",
       "      <td>Moderate slope</td>\n",
       "      <td>Mud mortar-Stone/Brick</td>\n",
       "      <td>Bamboo/Timber-Light roof</td>\n",
       "      <td>...</td>\n",
       "      <td>1</td>\n",
       "      <td>Damaged-Repaired and used</td>\n",
       "      <td>70103</td>\n",
       "      <td>Private</td>\n",
       "      <td>1.0</td>\n",
       "      <td>0.0-0-0-0-0-0-0-0-0-0-0</td>\n",
       "      <td>Both</td>\n",
       "      <td>Grade 3</td>\n",
       "      <td>0.0-0-0-0-0-0-0-0</td>\n",
       "      <td>1.0</td>\n",
       "    </tr>\n",
       "    <tr>\n",
       "      <th>3</th>\n",
       "      <td>a338a4e71f</td>\n",
       "      <td>1</td>\n",
       "      <td>1</td>\n",
       "      <td>44</td>\n",
       "      <td>546</td>\n",
       "      <td>9</td>\n",
       "      <td>9</td>\n",
       "      <td>Moderate slope</td>\n",
       "      <td>Mud mortar-Stone/Brick</td>\n",
       "      <td>Bamboo/Timber-Light roof</td>\n",
       "      <td>...</td>\n",
       "      <td>0</td>\n",
       "      <td>Damaged-Not used</td>\n",
       "      <td>70103</td>\n",
       "      <td>Private</td>\n",
       "      <td>1.0</td>\n",
       "      <td>0.0-0-0-0-0-0-0-0-0-0-0</td>\n",
       "      <td>Both</td>\n",
       "      <td>Grade 4</td>\n",
       "      <td>0.0-0-0-0-0-0-0-0</td>\n",
       "      <td>1.0</td>\n",
       "    </tr>\n",
       "    <tr>\n",
       "      <th>4</th>\n",
       "      <td>a339d612f3</td>\n",
       "      <td>1</td>\n",
       "      <td>1</td>\n",
       "      <td>25</td>\n",
       "      <td>324</td>\n",
       "      <td>9</td>\n",
       "      <td>9</td>\n",
       "      <td>Moderate slope</td>\n",
       "      <td>Mud mortar-Stone/Brick</td>\n",
       "      <td>Bamboo/Timber-Light roof</td>\n",
       "      <td>...</td>\n",
       "      <td>1</td>\n",
       "      <td>Damaged-Not used</td>\n",
       "      <td>70105</td>\n",
       "      <td>Private</td>\n",
       "      <td>1.0</td>\n",
       "      <td>0.0-0-0-0-0-0-0-0-0-0-0</td>\n",
       "      <td>Both</td>\n",
       "      <td>Grade 3</td>\n",
       "      <td>0.0-0-0-0-0-0-0-0</td>\n",
       "      <td>1.0</td>\n",
       "    </tr>\n",
       "  </tbody>\n",
       "</table>\n",
       "<p>5 rows × 34 columns</p>\n",
       "</div>"
      ],
      "text/plain": [
       "  building_id  count_floors_pre_eq  count_floors_post_eq  age_building  \\\n",
       "0  a3380c4fd9                    1                     1            32   \n",
       "1  a3380c503e                    2                     2            34   \n",
       "2  a338a4e5f2                    2                     2            20   \n",
       "3  a338a4e71f                    1                     1            44   \n",
       "4  a339d612f3                    1                     1            25   \n",
       "\n",
       "   plinth_area_sq_ft  height_ft_pre_eq  height_ft_post_eq  \\\n",
       "0                324                 9                  9   \n",
       "1                456                18                 18   \n",
       "2                452                18                 18   \n",
       "3                546                 9                  9   \n",
       "4                324                 9                  9   \n",
       "\n",
       "  land_surface_condition         foundation_type                 roof_type  \\\n",
       "0         Moderate slope  Mud mortar-Stone/Brick  Bamboo/Timber-Light roof   \n",
       "1         Moderate slope  Mud mortar-Stone/Brick  Bamboo/Timber-Light roof   \n",
       "2         Moderate slope  Mud mortar-Stone/Brick  Bamboo/Timber-Light roof   \n",
       "3         Moderate slope  Mud mortar-Stone/Brick  Bamboo/Timber-Light roof   \n",
       "4         Moderate slope  Mud mortar-Stone/Brick  Bamboo/Timber-Light roof   \n",
       "\n",
       "   ... has_superstructure_other          condition_post_eq ward_id  \\\n",
       "0  ...                        1  Damaged-Repaired and used   70102   \n",
       "1  ...                        1  Damaged-Repaired and used   70102   \n",
       "2  ...                        1  Damaged-Repaired and used   70103   \n",
       "3  ...                        0           Damaged-Not used   70103   \n",
       "4  ...                        1           Damaged-Not used   70105   \n",
       "\n",
       "  legal_ownership_status  count_families        has_secondary_use  \\\n",
       "0                Private             1.0  0.0-0-0-0-0-0-0-0-0-0-0   \n",
       "1                Private             1.0  0.0-0-0-0-0-0-0-0-0-0-0   \n",
       "2                Private             1.0  0.0-0-0-0-0-0-0-0-0-0-0   \n",
       "3                Private             1.0  0.0-0-0-0-0-0-0-0-0-0-0   \n",
       "4                Private             1.0  0.0-0-0-0-0-0-0-0-0-0-0   \n",
       "\n",
       "   area_assesed  damage_grade  has_geotechnical_risk  has_repair_started  \n",
       "0          Both       Grade 2      0.0-0-0-0-0-0-0-0                 1.0  \n",
       "1          Both       Grade 3      0.0-0-0-0-0-0-0-0                 1.0  \n",
       "2          Both       Grade 3      0.0-0-0-0-0-0-0-0                 1.0  \n",
       "3          Both       Grade 4      0.0-0-0-0-0-0-0-0                 1.0  \n",
       "4          Both       Grade 3      0.0-0-0-0-0-0-0-0                 1.0  \n",
       "\n",
       "[5 rows x 34 columns]"
      ]
     },
     "execution_count": 21,
     "metadata": {},
     "output_type": "execute_result"
    }
   ],
   "source": [
    "data.head()"
   ]
  },
  {
   "cell_type": "code",
   "execution_count": 22,
   "metadata": {
    "colab": {},
    "colab_type": "code",
    "id": "hcWIIhkyuLaI"
   },
   "outputs": [],
   "source": [
    "data.drop(['legal_ownership_status','building_id'],axis=1,inplace=True)"
   ]
  },
  {
   "cell_type": "code",
   "execution_count": 23,
   "metadata": {
    "colab": {},
    "colab_type": "code",
    "id": "KGsvfqIIuPkK"
   },
   "outputs": [],
   "source": [
    "#correlation method is used to find the relationship between the features.that range -1 to 1.if corelaton value near to -1 and 1 that features\n",
    "# have relationship each other but that value become 0 there is no relation ship\n",
    "relation=data.corr(method ='pearson')"
   ]
  },
  {
   "cell_type": "code",
   "execution_count": 24,
   "metadata": {
    "colab": {
     "base_uri": "https://localhost:8080/",
     "height": 1000
    },
    "colab_type": "code",
    "id": "nuXhb21DuPkN",
    "outputId": "051ca545-9863-4fc2-c0ce-6d599918841c"
   },
   "outputs": [
    {
     "data": {
      "image/png": "[encoded data removed]",
      "text/plain": [
       "<Figure size 1440x1080 with 2 Axes>"
      ]
     },
     "metadata": {
      "needs_background": "light"
     },
     "output_type": "display_data"
    }
   ],
   "source": [
    "\n",
    "# importing the required module \n",
    "import matplotlib.pyplot as plt\n",
    "import seaborn as sbn\n",
    "plt.subplots(figsize=(20,15))\n",
    "a=sbn.heatmap(relation,linewidth=0.5)"
   ]
  },
  {
   "cell_type": "code",
   "execution_count": 25,
   "metadata": {
    "colab": {},
    "colab_type": "code",
    "id": "wc7iJqJxuPkR"
   },
   "outputs": [],
   "source": [
    "#based on the correlation removing the related features from the dataset\n",
    "data.drop(['count_floors_pre_eq'],axis=1,inplace=True)"
   ]
  },
  {
   "cell_type": "code",
   "execution_count": 26,
   "metadata": {},
   "outputs": [
    {
     "data": {
      "text/html": [
       "<div>\n",
       "<style scoped>\n",
       "    .dataframe tbody tr th:only-of-type {\n",
       "        vertical-align: middle;\n",
       "    }\n",
       "\n",
       "    .dataframe tbody tr th {\n",
       "        vertical-align: top;\n",
       "    }\n",
       "\n",
       "    .dataframe thead th {\n",
       "        text-align: right;\n",
       "    }\n",
       "</style>\n",
       "<table border=\"1\" class=\"dataframe\">\n",
       "  <thead>\n",
       "    <tr style=\"text-align: right;\">\n",
       "      <th></th>\n",
       "      <th>count_floors_post_eq</th>\n",
       "      <th>age_building</th>\n",
       "      <th>plinth_area_sq_ft</th>\n",
       "      <th>height_ft_pre_eq</th>\n",
       "      <th>height_ft_post_eq</th>\n",
       "      <th>land_surface_condition</th>\n",
       "      <th>foundation_type</th>\n",
       "      <th>roof_type</th>\n",
       "      <th>ground_floor_type</th>\n",
       "      <th>other_floor_type</th>\n",
       "      <th>...</th>\n",
       "      <th>has_superstructure_rc_engineered</th>\n",
       "      <th>has_superstructure_other</th>\n",
       "      <th>condition_post_eq</th>\n",
       "      <th>ward_id</th>\n",
       "      <th>count_families</th>\n",
       "      <th>has_secondary_use</th>\n",
       "      <th>area_assesed</th>\n",
       "      <th>damage_grade</th>\n",
       "      <th>has_geotechnical_risk</th>\n",
       "      <th>has_repair_started</th>\n",
       "    </tr>\n",
       "  </thead>\n",
       "  <tbody>\n",
       "    <tr>\n",
       "      <th>0</th>\n",
       "      <td>1</td>\n",
       "      <td>32</td>\n",
       "      <td>324</td>\n",
       "      <td>9</td>\n",
       "      <td>9</td>\n",
       "      <td>Moderate slope</td>\n",
       "      <td>Mud mortar-Stone/Brick</td>\n",
       "      <td>Bamboo/Timber-Light roof</td>\n",
       "      <td>Mud</td>\n",
       "      <td>Not applicable</td>\n",
       "      <td>...</td>\n",
       "      <td>0</td>\n",
       "      <td>1</td>\n",
       "      <td>Damaged-Repaired and used</td>\n",
       "      <td>70102</td>\n",
       "      <td>1.0</td>\n",
       "      <td>0.0-0-0-0-0-0-0-0-0-0-0</td>\n",
       "      <td>Both</td>\n",
       "      <td>Grade 2</td>\n",
       "      <td>0.0-0-0-0-0-0-0-0</td>\n",
       "      <td>1.0</td>\n",
       "    </tr>\n",
       "    <tr>\n",
       "      <th>1</th>\n",
       "      <td>2</td>\n",
       "      <td>34</td>\n",
       "      <td>456</td>\n",
       "      <td>18</td>\n",
       "      <td>18</td>\n",
       "      <td>Moderate slope</td>\n",
       "      <td>Mud mortar-Stone/Brick</td>\n",
       "      <td>Bamboo/Timber-Light roof</td>\n",
       "      <td>Mud</td>\n",
       "      <td>TImber/Bamboo-Mud</td>\n",
       "      <td>...</td>\n",
       "      <td>0</td>\n",
       "      <td>1</td>\n",
       "      <td>Damaged-Repaired and used</td>\n",
       "      <td>70102</td>\n",
       "      <td>1.0</td>\n",
       "      <td>0.0-0-0-0-0-0-0-0-0-0-0</td>\n",
       "      <td>Both</td>\n",
       "      <td>Grade 3</td>\n",
       "      <td>0.0-0-0-0-0-0-0-0</td>\n",
       "      <td>1.0</td>\n",
       "    </tr>\n",
       "    <tr>\n",
       "      <th>2</th>\n",
       "      <td>2</td>\n",
       "      <td>20</td>\n",
       "      <td>452</td>\n",
       "      <td>18</td>\n",
       "      <td>18</td>\n",
       "      <td>Moderate slope</td>\n",
       "      <td>Mud mortar-Stone/Brick</td>\n",
       "      <td>Bamboo/Timber-Light roof</td>\n",
       "      <td>Mud</td>\n",
       "      <td>TImber/Bamboo-Mud</td>\n",
       "      <td>...</td>\n",
       "      <td>0</td>\n",
       "      <td>1</td>\n",
       "      <td>Damaged-Repaired and used</td>\n",
       "      <td>70103</td>\n",
       "      <td>1.0</td>\n",
       "      <td>0.0-0-0-0-0-0-0-0-0-0-0</td>\n",
       "      <td>Both</td>\n",
       "      <td>Grade 3</td>\n",
       "      <td>0.0-0-0-0-0-0-0-0</td>\n",
       "      <td>1.0</td>\n",
       "    </tr>\n",
       "    <tr>\n",
       "      <th>3</th>\n",
       "      <td>1</td>\n",
       "      <td>44</td>\n",
       "      <td>546</td>\n",
       "      <td>9</td>\n",
       "      <td>9</td>\n",
       "      <td>Moderate slope</td>\n",
       "      <td>Mud mortar-Stone/Brick</td>\n",
       "      <td>Bamboo/Timber-Light roof</td>\n",
       "      <td>Mud</td>\n",
       "      <td>Not applicable</td>\n",
       "      <td>...</td>\n",
       "      <td>0</td>\n",
       "      <td>0</td>\n",
       "      <td>Damaged-Not used</td>\n",
       "      <td>70103</td>\n",
       "      <td>1.0</td>\n",
       "      <td>0.0-0-0-0-0-0-0-0-0-0-0</td>\n",
       "      <td>Both</td>\n",
       "      <td>Grade 4</td>\n",
       "      <td>0.0-0-0-0-0-0-0-0</td>\n",
       "      <td>1.0</td>\n",
       "    </tr>\n",
       "    <tr>\n",
       "      <th>4</th>\n",
       "      <td>1</td>\n",
       "      <td>25</td>\n",
       "      <td>324</td>\n",
       "      <td>9</td>\n",
       "      <td>9</td>\n",
       "      <td>Moderate slope</td>\n",
       "      <td>Mud mortar-Stone/Brick</td>\n",
       "      <td>Bamboo/Timber-Light roof</td>\n",
       "      <td>Mud</td>\n",
       "      <td>Not applicable</td>\n",
       "      <td>...</td>\n",
       "      <td>0</td>\n",
       "      <td>1</td>\n",
       "      <td>Damaged-Not used</td>\n",
       "      <td>70105</td>\n",
       "      <td>1.0</td>\n",
       "      <td>0.0-0-0-0-0-0-0-0-0-0-0</td>\n",
       "      <td>Both</td>\n",
       "      <td>Grade 3</td>\n",
       "      <td>0.0-0-0-0-0-0-0-0</td>\n",
       "      <td>1.0</td>\n",
       "    </tr>\n",
       "  </tbody>\n",
       "</table>\n",
       "<p>5 rows × 31 columns</p>\n",
       "</div>"
      ],
      "text/plain": [
       "   count_floors_post_eq  age_building  plinth_area_sq_ft  height_ft_pre_eq  \\\n",
       "0                     1            32                324                 9   \n",
       "1                     2            34                456                18   \n",
       "2                     2            20                452                18   \n",
       "3                     1            44                546                 9   \n",
       "4                     1            25                324                 9   \n",
       "\n",
       "   height_ft_post_eq land_surface_condition         foundation_type  \\\n",
       "0                  9         Moderate slope  Mud mortar-Stone/Brick   \n",
       "1                 18         Moderate slope  Mud mortar-Stone/Brick   \n",
       "2                 18         Moderate slope  Mud mortar-Stone/Brick   \n",
       "3                  9         Moderate slope  Mud mortar-Stone/Brick   \n",
       "4                  9         Moderate slope  Mud mortar-Stone/Brick   \n",
       "\n",
       "                  roof_type ground_floor_type   other_floor_type  ...  \\\n",
       "0  Bamboo/Timber-Light roof               Mud     Not applicable  ...   \n",
       "1  Bamboo/Timber-Light roof               Mud  TImber/Bamboo-Mud  ...   \n",
       "2  Bamboo/Timber-Light roof               Mud  TImber/Bamboo-Mud  ...   \n",
       "3  Bamboo/Timber-Light roof               Mud     Not applicable  ...   \n",
       "4  Bamboo/Timber-Light roof               Mud     Not applicable  ...   \n",
       "\n",
       "  has_superstructure_rc_engineered has_superstructure_other  \\\n",
       "0                                0                        1   \n",
       "1                                0                        1   \n",
       "2                                0                        1   \n",
       "3                                0                        0   \n",
       "4                                0                        1   \n",
       "\n",
       "           condition_post_eq  ward_id  count_families  \\\n",
       "0  Damaged-Repaired and used    70102             1.0   \n",
       "1  Damaged-Repaired and used    70102             1.0   \n",
       "2  Damaged-Repaired and used    70103             1.0   \n",
       "3           Damaged-Not used    70103             1.0   \n",
       "4           Damaged-Not used    70105             1.0   \n",
       "\n",
       "         has_secondary_use  area_assesed  damage_grade  has_geotechnical_risk  \\\n",
       "0  0.0-0-0-0-0-0-0-0-0-0-0          Both       Grade 2      0.0-0-0-0-0-0-0-0   \n",
       "1  0.0-0-0-0-0-0-0-0-0-0-0          Both       Grade 3      0.0-0-0-0-0-0-0-0   \n",
       "2  0.0-0-0-0-0-0-0-0-0-0-0          Both       Grade 3      0.0-0-0-0-0-0-0-0   \n",
       "3  0.0-0-0-0-0-0-0-0-0-0-0          Both       Grade 4      0.0-0-0-0-0-0-0-0   \n",
       "4  0.0-0-0-0-0-0-0-0-0-0-0          Both       Grade 3      0.0-0-0-0-0-0-0-0   \n",
       "\n",
       "   has_repair_started  \n",
       "0                 1.0  \n",
       "1                 1.0  \n",
       "2                 1.0  \n",
       "3                 1.0  \n",
       "4                 1.0  \n",
       "\n",
       "[5 rows x 31 columns]"
      ]
     },
     "execution_count": 26,
     "metadata": {},
     "output_type": "execute_result"
    }
   ],
   "source": [
    "data.head()"
   ]
  },
  {
   "cell_type": "markdown",
   "metadata": {},
   "source": [
    "    info()used to know the columns and their corresponding data types,along with finding whether they contain null values or not.\n",
    "    In this dataset has_repair_started and count_families we can find null values.\n"
   ]
  },
  {
   "cell_type": "code",
   "execution_count": 27,
   "metadata": {
    "colab": {
     "base_uri": "https://localhost:8080/",
     "height": 663
    },
    "colab_type": "code",
    "id": "Cs3Fk3P-LsXL",
    "outputId": "f1222b5e-6242-43d1-c9b0-0c242594471a"
   },
   "outputs": [
    {
     "name": "stdout",
     "output_type": "stream",
     "text": [
      "<class 'pandas.core.frame.DataFrame'>\n",
      "Int64Index: 631761 entries, 0 to 631760\n",
      "Data columns (total 31 columns):\n",
      "count_floors_post_eq                      631761 non-null int64\n",
      "age_building                              631761 non-null int64\n",
      "plinth_area_sq_ft                         631761 non-null int64\n",
      "height_ft_pre_eq                          631761 non-null int64\n",
      "height_ft_post_eq                         631761 non-null int64\n",
      "land_surface_condition                    631761 non-null object\n",
      "foundation_type                           631761 non-null object\n",
      "roof_type                                 631761 non-null object\n",
      "ground_floor_type                         631761 non-null object\n",
      "other_floor_type                          631761 non-null object\n",
      "position                                  631761 non-null object\n",
      "plan_configuration                        631761 non-null object\n",
      "has_superstructure_adobe_mud              631761 non-null int64\n",
      "has_superstructure_mud_mortar_stone       631761 non-null int64\n",
      "has_superstructure_stone_flag             631761 non-null int64\n",
      "has_superstructure_cement_mortar_stone    631761 non-null int64\n",
      "has_superstructure_mud_mortar_brick       631761 non-null int64\n",
      "has_superstructure_cement_mortar_brick    631761 non-null int64\n",
      "has_superstructure_timber                 631761 non-null int64\n",
      "has_superstructure_bamboo                 631761 non-null int64\n",
      "has_superstructure_rc_non_engineered      631761 non-null int64\n",
      "has_superstructure_rc_engineered          631761 non-null int64\n",
      "has_superstructure_other                  631761 non-null int64\n",
      "condition_post_eq                         631761 non-null object\n",
      "ward_id                                   631761 non-null int64\n",
      "count_families                            631760 non-null float64\n",
      "has_secondary_use                         631761 non-null object\n",
      "area_assesed                              631761 non-null object\n",
      "damage_grade                              631761 non-null object\n",
      "has_geotechnical_risk                     631761 non-null object\n",
      "has_repair_started                        598344 non-null float64\n",
      "dtypes: float64(2), int64(17), object(12)\n",
      "memory usage: 154.2+ MB\n"
     ]
    }
   ],
   "source": [
    "data.info() "
   ]
  },
  {
   "cell_type": "markdown",
   "metadata": {},
   "source": [
    "The describe() function in pandas is very handy in getting various summary statistics.This function returns the count, mean, standard deviation, minimum and maximum values and the quantiles of the data."
   ]
  },
  {
   "cell_type": "code",
   "execution_count": 28,
   "metadata": {
    "colab": {
     "base_uri": "https://localhost:8080/",
     "height": 317
    },
    "colab_type": "code",
    "id": "XXuMXGHdLsXR",
    "outputId": "bb6278a3-0f2b-4c6a-b4bc-0e2e60b9283f"
   },
   "outputs": [
    {
     "data": {
      "text/html": [
       "<div>\n",
       "<style scoped>\n",
       "    .dataframe tbody tr th:only-of-type {\n",
       "        vertical-align: middle;\n",
       "    }\n",
       "\n",
       "    .dataframe tbody tr th {\n",
       "        vertical-align: top;\n",
       "    }\n",
       "\n",
       "    .dataframe thead th {\n",
       "        text-align: right;\n",
       "    }\n",
       "</style>\n",
       "<table border=\"1\" class=\"dataframe\">\n",
       "  <thead>\n",
       "    <tr style=\"text-align: right;\">\n",
       "      <th></th>\n",
       "      <th>count_floors_post_eq</th>\n",
       "      <th>age_building</th>\n",
       "      <th>plinth_area_sq_ft</th>\n",
       "      <th>height_ft_pre_eq</th>\n",
       "      <th>height_ft_post_eq</th>\n",
       "      <th>has_superstructure_adobe_mud</th>\n",
       "      <th>has_superstructure_mud_mortar_stone</th>\n",
       "      <th>has_superstructure_stone_flag</th>\n",
       "      <th>has_superstructure_cement_mortar_stone</th>\n",
       "      <th>has_superstructure_mud_mortar_brick</th>\n",
       "      <th>has_superstructure_cement_mortar_brick</th>\n",
       "      <th>has_superstructure_timber</th>\n",
       "      <th>has_superstructure_bamboo</th>\n",
       "      <th>has_superstructure_rc_non_engineered</th>\n",
       "      <th>has_superstructure_rc_engineered</th>\n",
       "      <th>has_superstructure_other</th>\n",
       "      <th>ward_id</th>\n",
       "      <th>count_families</th>\n",
       "      <th>has_repair_started</th>\n",
       "    </tr>\n",
       "  </thead>\n",
       "  <tbody>\n",
       "    <tr>\n",
       "      <th>count</th>\n",
       "      <td>631761.000000</td>\n",
       "      <td>631761.000000</td>\n",
       "      <td>631761.000000</td>\n",
       "      <td>631761.000000</td>\n",
       "      <td>631761.000000</td>\n",
       "      <td>631761.000000</td>\n",
       "      <td>631761.000000</td>\n",
       "      <td>631761.000000</td>\n",
       "      <td>631761.000000</td>\n",
       "      <td>631761.000000</td>\n",
       "      <td>631761.000000</td>\n",
       "      <td>631761.000000</td>\n",
       "      <td>631761.000000</td>\n",
       "      <td>631761.000000</td>\n",
       "      <td>631761.000000</td>\n",
       "      <td>631761.000000</td>\n",
       "      <td>631761.000000</td>\n",
       "      <td>631760.000000</td>\n",
       "      <td>598344.000000</td>\n",
       "    </tr>\n",
       "    <tr>\n",
       "      <th>mean</th>\n",
       "      <td>1.335641</td>\n",
       "      <td>27.805518</td>\n",
       "      <td>417.907500</td>\n",
       "      <td>16.308984</td>\n",
       "      <td>10.383541</td>\n",
       "      <td>0.089029</td>\n",
       "      <td>0.761429</td>\n",
       "      <td>0.034189</td>\n",
       "      <td>0.018613</td>\n",
       "      <td>0.068186</td>\n",
       "      <td>0.075619</td>\n",
       "      <td>0.253346</td>\n",
       "      <td>0.083660</td>\n",
       "      <td>0.042874</td>\n",
       "      <td>0.016079</td>\n",
       "      <td>0.014969</td>\n",
       "      <td>271224.334601</td>\n",
       "      <td>0.984075</td>\n",
       "      <td>0.316076</td>\n",
       "    </tr>\n",
       "    <tr>\n",
       "      <th>std</th>\n",
       "      <td>1.097094</td>\n",
       "      <td>72.942364</td>\n",
       "      <td>231.192299</td>\n",
       "      <td>5.793634</td>\n",
       "      <td>8.644051</td>\n",
       "      <td>0.284786</td>\n",
       "      <td>0.426210</td>\n",
       "      <td>0.181713</td>\n",
       "      <td>0.135154</td>\n",
       "      <td>0.252064</td>\n",
       "      <td>0.264387</td>\n",
       "      <td>0.434928</td>\n",
       "      <td>0.276877</td>\n",
       "      <td>0.202573</td>\n",
       "      <td>0.125779</td>\n",
       "      <td>0.121430</td>\n",
       "      <td>77750.671303</td>\n",
       "      <td>0.419209</td>\n",
       "      <td>0.464943</td>\n",
       "    </tr>\n",
       "    <tr>\n",
       "      <th>min</th>\n",
       "      <td>0.000000</td>\n",
       "      <td>0.000000</td>\n",
       "      <td>70.000000</td>\n",
       "      <td>6.000000</td>\n",
       "      <td>0.000000</td>\n",
       "      <td>0.000000</td>\n",
       "      <td>0.000000</td>\n",
       "      <td>0.000000</td>\n",
       "      <td>0.000000</td>\n",
       "      <td>0.000000</td>\n",
       "      <td>0.000000</td>\n",
       "      <td>0.000000</td>\n",
       "      <td>0.000000</td>\n",
       "      <td>0.000000</td>\n",
       "      <td>0.000000</td>\n",
       "      <td>0.000000</td>\n",
       "      <td>70102.000000</td>\n",
       "      <td>0.000000</td>\n",
       "      <td>0.000000</td>\n",
       "    </tr>\n",
       "    <tr>\n",
       "      <th>25%</th>\n",
       "      <td>0.000000</td>\n",
       "      <td>10.000000</td>\n",
       "      <td>284.000000</td>\n",
       "      <td>13.000000</td>\n",
       "      <td>0.000000</td>\n",
       "      <td>0.000000</td>\n",
       "      <td>1.000000</td>\n",
       "      <td>0.000000</td>\n",
       "      <td>0.000000</td>\n",
       "      <td>0.000000</td>\n",
       "      <td>0.000000</td>\n",
       "      <td>0.000000</td>\n",
       "      <td>0.000000</td>\n",
       "      <td>0.000000</td>\n",
       "      <td>0.000000</td>\n",
       "      <td>0.000000</td>\n",
       "      <td>224201.000000</td>\n",
       "      <td>1.000000</td>\n",
       "      <td>0.000000</td>\n",
       "    </tr>\n",
       "    <tr>\n",
       "      <th>50%</th>\n",
       "      <td>2.000000</td>\n",
       "      <td>18.000000</td>\n",
       "      <td>364.000000</td>\n",
       "      <td>16.000000</td>\n",
       "      <td>12.000000</td>\n",
       "      <td>0.000000</td>\n",
       "      <td>1.000000</td>\n",
       "      <td>0.000000</td>\n",
       "      <td>0.000000</td>\n",
       "      <td>0.000000</td>\n",
       "      <td>0.000000</td>\n",
       "      <td>0.000000</td>\n",
       "      <td>0.000000</td>\n",
       "      <td>0.000000</td>\n",
       "      <td>0.000000</td>\n",
       "      <td>0.000000</td>\n",
       "      <td>270301.000000</td>\n",
       "      <td>1.000000</td>\n",
       "      <td>0.000000</td>\n",
       "    </tr>\n",
       "    <tr>\n",
       "      <th>75%</th>\n",
       "      <td>2.000000</td>\n",
       "      <td>30.000000</td>\n",
       "      <td>493.000000</td>\n",
       "      <td>19.000000</td>\n",
       "      <td>16.000000</td>\n",
       "      <td>0.000000</td>\n",
       "      <td>1.000000</td>\n",
       "      <td>0.000000</td>\n",
       "      <td>0.000000</td>\n",
       "      <td>0.000000</td>\n",
       "      <td>0.000000</td>\n",
       "      <td>1.000000</td>\n",
       "      <td>0.000000</td>\n",
       "      <td>0.000000</td>\n",
       "      <td>0.000000</td>\n",
       "      <td>0.000000</td>\n",
       "      <td>311901.000000</td>\n",
       "      <td>1.000000</td>\n",
       "      <td>1.000000</td>\n",
       "    </tr>\n",
       "    <tr>\n",
       "      <th>max</th>\n",
       "      <td>9.000000</td>\n",
       "      <td>999.000000</td>\n",
       "      <td>5220.000000</td>\n",
       "      <td>99.000000</td>\n",
       "      <td>206.000000</td>\n",
       "      <td>1.000000</td>\n",
       "      <td>1.000000</td>\n",
       "      <td>1.000000</td>\n",
       "      <td>1.000000</td>\n",
       "      <td>1.000000</td>\n",
       "      <td>1.000000</td>\n",
       "      <td>1.000000</td>\n",
       "      <td>1.000000</td>\n",
       "      <td>1.000000</td>\n",
       "      <td>1.000000</td>\n",
       "      <td>1.000000</td>\n",
       "      <td>514209.000000</td>\n",
       "      <td>11.000000</td>\n",
       "      <td>1.000000</td>\n",
       "    </tr>\n",
       "  </tbody>\n",
       "</table>\n",
       "</div>"
      ],
      "text/plain": [
       "       count_floors_post_eq   age_building  plinth_area_sq_ft  \\\n",
       "count         631761.000000  631761.000000      631761.000000   \n",
       "mean               1.335641      27.805518         417.907500   \n",
       "std                1.097094      72.942364         231.192299   \n",
       "min                0.000000       0.000000          70.000000   \n",
       "25%                0.000000      10.000000         284.000000   \n",
       "50%                2.000000      18.000000         364.000000   \n",
       "75%                2.000000      30.000000         493.000000   \n",
       "max                9.000000     999.000000        5220.000000   \n",
       "\n",
       "       height_ft_pre_eq  height_ft_post_eq  has_superstructure_adobe_mud  \\\n",
       "count     631761.000000      631761.000000                 631761.000000   \n",
       "mean          16.308984          10.383541                      0.089029   \n",
       "std            5.793634           8.644051                      0.284786   \n",
       "min            6.000000           0.000000                      0.000000   \n",
       "25%           13.000000           0.000000                      0.000000   \n",
       "50%           16.000000          12.000000                      0.000000   \n",
       "75%           19.000000          16.000000                      0.000000   \n",
       "max           99.000000         206.000000                      1.000000   \n",
       "\n",
       "       has_superstructure_mud_mortar_stone  has_superstructure_stone_flag  \\\n",
       "count                        631761.000000                  631761.000000   \n",
       "mean                              0.761429                       0.034189   \n",
       "std                               0.426210                       0.181713   \n",
       "min                               0.000000                       0.000000   \n",
       "25%                               1.000000                       0.000000   \n",
       "50%                               1.000000                       0.000000   \n",
       "75%                               1.000000                       0.000000   \n",
       "max                               1.000000                       1.000000   \n",
       "\n",
       "       has_superstructure_cement_mortar_stone  \\\n",
       "count                           631761.000000   \n",
       "mean                                 0.018613   \n",
       "std                                  0.135154   \n",
       "min                                  0.000000   \n",
       "25%                                  0.000000   \n",
       "50%                                  0.000000   \n",
       "75%                                  0.000000   \n",
       "max                                  1.000000   \n",
       "\n",
       "       has_superstructure_mud_mortar_brick  \\\n",
       "count                        631761.000000   \n",
       "mean                              0.068186   \n",
       "std                               0.252064   \n",
       "min                               0.000000   \n",
       "25%                               0.000000   \n",
       "50%                               0.000000   \n",
       "75%                               0.000000   \n",
       "max                               1.000000   \n",
       "\n",
       "       has_superstructure_cement_mortar_brick  has_superstructure_timber  \\\n",
       "count                           631761.000000              631761.000000   \n",
       "mean                                 0.075619                   0.253346   \n",
       "std                                  0.264387                   0.434928   \n",
       "min                                  0.000000                   0.000000   \n",
       "25%                                  0.000000                   0.000000   \n",
       "50%                                  0.000000                   0.000000   \n",
       "75%                                  0.000000                   1.000000   \n",
       "max                                  1.000000                   1.000000   \n",
       "\n",
       "       has_superstructure_bamboo  has_superstructure_rc_non_engineered  \\\n",
       "count              631761.000000                         631761.000000   \n",
       "mean                    0.083660                              0.042874   \n",
       "std                     0.276877                              0.202573   \n",
       "min                     0.000000                              0.000000   \n",
       "25%                     0.000000                              0.000000   \n",
       "50%                     0.000000                              0.000000   \n",
       "75%                     0.000000                              0.000000   \n",
       "max                     1.000000                              1.000000   \n",
       "\n",
       "       has_superstructure_rc_engineered  has_superstructure_other  \\\n",
       "count                     631761.000000             631761.000000   \n",
       "mean                           0.016079                  0.014969   \n",
       "std                            0.125779                  0.121430   \n",
       "min                            0.000000                  0.000000   \n",
       "25%                            0.000000                  0.000000   \n",
       "50%                            0.000000                  0.000000   \n",
       "75%                            0.000000                  0.000000   \n",
       "max                            1.000000                  1.000000   \n",
       "\n",
       "             ward_id  count_families  has_repair_started  \n",
       "count  631761.000000   631760.000000       598344.000000  \n",
       "mean   271224.334601        0.984075            0.316076  \n",
       "std     77750.671303        0.419209            0.464943  \n",
       "min     70102.000000        0.000000            0.000000  \n",
       "25%    224201.000000        1.000000            0.000000  \n",
       "50%    270301.000000        1.000000            0.000000  \n",
       "75%    311901.000000        1.000000            1.000000  \n",
       "max    514209.000000       11.000000            1.000000  "
      ]
     },
     "execution_count": 28,
     "metadata": {},
     "output_type": "execute_result"
    }
   ],
   "source": [
    "outlir=data.describe()\n",
    "outlir"
   ]
  },
  {
   "cell_type": "code",
   "execution_count": 29,
   "metadata": {},
   "outputs": [
    {
     "data": {
      "text/plain": [
       "'\\'outlier_data=outlir.loc[\"max\"]\\noutlier_data'"
      ]
     },
     "execution_count": 29,
     "metadata": {},
     "output_type": "execute_result"
    }
   ],
   "source": [
    "''''outlier_data=outlir.loc[\"max\"]\n",
    "outlier_data'''"
   ]
  },
  {
   "cell_type": "markdown",
   "metadata": {},
   "source": [
    "value_counts()tells us vote count of each quality score of column values in descending order.There show the grade values count"
   ]
  },
  {
   "cell_type": "code",
   "execution_count": 30,
   "metadata": {
    "colab": {
     "base_uri": "https://localhost:8080/",
     "height": 119
    },
    "colab_type": "code",
    "id": "x8zZRvuDLsXV",
    "outputId": "41ab96e9-e10a-4191-df26-ed90a02c0ba3"
   },
   "outputs": [
    {
     "data": {
      "text/plain": [
       "Grade 5    210825\n",
       "Grade 4    152244\n",
       "Grade 3    122288\n",
       "Grade 2     85084\n",
       "Grade 1     61320\n",
       "Name: damage_grade, dtype: int64"
      ]
     },
     "execution_count": 30,
     "metadata": {},
     "output_type": "execute_result"
    }
   ],
   "source": [
    "data.damage_grade.value_counts()"
   ]
  },
  {
   "cell_type": "markdown",
   "metadata": {},
   "source": [
    "total number of null/missing values in the each column"
   ]
  },
  {
   "cell_type": "code",
   "execution_count": 31,
   "metadata": {
    "colab": {
     "base_uri": "https://localhost:8080/",
     "height": 561
    },
    "colab_type": "code",
    "id": "o66Fl7IGLsXc",
    "outputId": "1febc792-fe34-4731-e91c-f71c680fccf4"
   },
   "outputs": [
    {
     "data": {
      "text/plain": [
       "count_floors_post_eq                          0\n",
       "age_building                                  0\n",
       "plinth_area_sq_ft                             0\n",
       "height_ft_pre_eq                              0\n",
       "height_ft_post_eq                             0\n",
       "land_surface_condition                        0\n",
       "foundation_type                               0\n",
       "roof_type                                     0\n",
       "ground_floor_type                             0\n",
       "other_floor_type                              0\n",
       "position                                      0\n",
       "plan_configuration                            0\n",
       "has_superstructure_adobe_mud                  0\n",
       "has_superstructure_mud_mortar_stone           0\n",
       "has_superstructure_stone_flag                 0\n",
       "has_superstructure_cement_mortar_stone        0\n",
       "has_superstructure_mud_mortar_brick           0\n",
       "has_superstructure_cement_mortar_brick        0\n",
       "has_superstructure_timber                     0\n",
       "has_superstructure_bamboo                     0\n",
       "has_superstructure_rc_non_engineered          0\n",
       "has_superstructure_rc_engineered              0\n",
       "has_superstructure_other                      0\n",
       "condition_post_eq                             0\n",
       "ward_id                                       0\n",
       "count_families                                1\n",
       "has_secondary_use                             0\n",
       "area_assesed                                  0\n",
       "damage_grade                                  0\n",
       "has_geotechnical_risk                         0\n",
       "has_repair_started                        33417\n",
       "dtype: int64"
      ]
     },
     "execution_count": 31,
     "metadata": {},
     "output_type": "execute_result"
    }
   ],
   "source": [
    "data.isnull().sum()"
   ]
  },
  {
   "cell_type": "markdown",
   "metadata": {},
   "source": [
    "    display heatmap based on the presents of null value.actuly it display violet background ,if any null value present it show colour changes\n",
    "    In this dataset has_repair_started we can find the colour differents that means there null values is present"
   ]
  },
  {
   "cell_type": "code",
   "execution_count": 32,
   "metadata": {
    "colab": {
     "base_uri": "https://localhost:8080/",
     "height": 483
    },
    "colab_type": "code",
    "id": "--wiXgqgLsXj",
    "outputId": "21690d16-116f-4d69-f28a-af396b18343d"
   },
   "outputs": [
    {
     "data": {
      "text/plain": [
       "<matplotlib.axes._subplots.AxesSubplot at 0x23b9b61b588>"
      ]
     },
     "execution_count": 32,
     "metadata": {},
     "output_type": "execute_result"
    },
    {
     "data": {
      "image/png": "[encoded data removed]",
      "text/plain": [
       "<Figure size 432x288 with 1 Axes>"
      ]
     },
     "metadata": {
      "needs_background": "light"
     },
     "output_type": "display_data"
    }
   ],
   "source": [
    "import seaborn as sns\n",
    "sns.heatmap(data.isnull(),cbar=False,yticklabels=False,cmap = 'viridis')"
   ]
  },
  {
   "cell_type": "code",
   "execution_count": 33,
   "metadata": {
    "colab": {
     "base_uri": "https://localhost:8080/",
     "height": 561
    },
    "colab_type": "code",
    "id": "qqHFVB8hLsXq",
    "outputId": "f8c289ac-3058-442e-a7c0-111816bc99a7"
   },
   "outputs": [
    {
     "data": {
      "text/plain": [
       "count_floors_post_eq                        int64\n",
       "age_building                                int64\n",
       "plinth_area_sq_ft                           int64\n",
       "height_ft_pre_eq                            int64\n",
       "height_ft_post_eq                           int64\n",
       "land_surface_condition                     object\n",
       "foundation_type                            object\n",
       "roof_type                                  object\n",
       "ground_floor_type                          object\n",
       "other_floor_type                           object\n",
       "position                                   object\n",
       "plan_configuration                         object\n",
       "has_superstructure_adobe_mud                int64\n",
       "has_superstructure_mud_mortar_stone         int64\n",
       "has_superstructure_stone_flag               int64\n",
       "has_superstructure_cement_mortar_stone      int64\n",
       "has_superstructure_mud_mortar_brick         int64\n",
       "has_superstructure_cement_mortar_brick      int64\n",
       "has_superstructure_timber                   int64\n",
       "has_superstructure_bamboo                   int64\n",
       "has_superstructure_rc_non_engineered        int64\n",
       "has_superstructure_rc_engineered            int64\n",
       "has_superstructure_other                    int64\n",
       "condition_post_eq                          object\n",
       "ward_id                                     int64\n",
       "count_families                            float64\n",
       "has_secondary_use                          object\n",
       "area_assesed                               object\n",
       "damage_grade                               object\n",
       "has_geotechnical_risk                      object\n",
       "has_repair_started                        float64\n",
       "dtype: object"
      ]
     },
     "execution_count": 33,
     "metadata": {},
     "output_type": "execute_result"
    }
   ],
   "source": [
    "data.dtypes"
   ]
  },
  {
   "cell_type": "code",
   "execution_count": 34,
   "metadata": {},
   "outputs": [
    {
     "data": {
      "text/plain": [
       "1.0     547837\n",
       "0.0      50659\n",
       "2.0      27771\n",
       "3.0       4185\n",
       "4.0        939\n",
       "5.0        262\n",
       "6.0         73\n",
       "7.0         19\n",
       "8.0          9\n",
       "9.0          5\n",
       "11.0         1\n",
       "Name: count_families, dtype: int64"
      ]
     },
     "execution_count": 34,
     "metadata": {},
     "output_type": "execute_result"
    }
   ],
   "source": [
    "data.count_families.value_counts()"
   ]
  },
  {
   "cell_type": "markdown",
   "metadata": {},
   "source": [
    "plot the box plot by using dataset variables.object  type data we can't directly plot by using box plot that's why we apply labelencoding.total variables we don't want to plot,which are  not required that variable listed in the one array.compair this array value with main dataset varible .If it is same don't want to plot. "
   ]
  },
  {
   "cell_type": "code",
   "execution_count": 36,
   "metadata": {},
   "outputs": [
    {
     "data": {
      "image/png": "[encoded data removed]",
      "text/plain": [
       "<Figure size 1440x720 with 1 Axes>"
      ]
     },
     "metadata": {
      "needs_background": "light"
     },
     "output_type": "display_data"
    },
    {
     "data": {
      "image/png": "[encoded data removed]",
      "text/plain": [
       "<Figure size 1440x720 with 1 Axes>"
      ]
     },
     "metadata": {
      "needs_background": "light"
     },
     "output_type": "display_data"
    },
    {
     "data": {
      "image/png": "[encoded data removed]",
      "text/plain": [
       "<Figure size 1440x720 with 1 Axes>"
      ]
     },
     "metadata": {
      "needs_background": "light"
     },
     "output_type": "display_data"
    },
    {
     "data": {
      "image/png": "[encoded data removed]",
      "text/plain": [
       "<Figure size 1440x720 with 1 Axes>"
      ]
     },
     "metadata": {
      "needs_background": "light"
     },
     "output_type": "display_data"
    },
    {
     "data": {
      "image/png": "[encoded data removed]",
      "text/plain": [
       "<Figure size 1440x720 with 1 Axes>"
      ]
     },
     "metadata": {
      "needs_background": "light"
     },
     "output_type": "display_data"
    },
    {
     "data": {
      "image/png": "[encoded data removed]",
      "text/plain": [
       "<Figure size 1440x720 with 1 Axes>"
      ]
     },
     "metadata": {
      "needs_background": "light"
     },
     "output_type": "display_data"
    },
    {
     "data": {
      "image/png": "[encoded data removed]",
      "text/plain": [
       "<Figure size 1440x720 with 1 Axes>"
      ]
     },
     "metadata": {
      "needs_background": "light"
     },
     "output_type": "display_data"
    },
    {
     "data": {
      "image/png": "[encoded data removed]",
      "text/plain": [
       "<Figure size 1440x720 with 1 Axes>"
      ]
     },
     "metadata": {
      "needs_background": "light"
     },
     "output_type": "display_data"
    },
    {
     "data": {
      "image/png": "[encoded data removed]",
      "text/plain": [
       "<Figure size 1440x720 with 1 Axes>"
      ]
     },
     "metadata": {
      "needs_background": "light"
     },
     "output_type": "display_data"
    },
    {
     "data": {
      "image/png": "[encoded data removed]",
      "text/plain": [
       "<Figure size 1440x720 with 1 Axes>"
      ]
     },
     "metadata": {
      "needs_background": "light"
     },
     "output_type": "display_data"
    },
    {
     "data": {
      "image/png": "[encoded data removed]",
      "text/plain": [
       "<Figure size 1440x720 with 1 Axes>"
      ]
     },
     "metadata": {
      "needs_background": "light"
     },
     "output_type": "display_data"
    },
    {
     "data": {
      "image/png": "[encoded data removed]",
      "text/plain": [
       "<Figure size 1440x720 with 1 Axes>"
      ]
     },
     "metadata": {
      "needs_background": "light"
     },
     "output_type": "display_data"
    },
    {
     "data": {
      "image/png": "[encoded data removed]",
      "text/plain": [
       "<Figure size 1440x720 with 1 Axes>"
      ]
     },
     "metadata": {
      "needs_background": "light"
     },
     "output_type": "display_data"
    },
    {
     "data": {
      "image/png": "[encoded data removed]",
      "text/plain": [
       "<Figure size 1440x720 with 1 Axes>"
      ]
     },
     "metadata": {
      "needs_background": "light"
     },
     "output_type": "display_data"
    },
    {
     "data": {
      "image/png": "[encoded data removed]",
      "text/plain": [
       "<Figure size 1440x720 with 1 Axes>"
      ]
     },
     "metadata": {
      "needs_background": "light"
     },
     "output_type": "display_data"
    },
    {
     "data": {
      "image/png": "[encoded data removed]",
      "text/plain": [
       "<Figure size 1440x720 with 1 Axes>"
      ]
     },
     "metadata": {
      "needs_background": "light"
     },
     "output_type": "display_data"
    },
    {
     "data": {
      "image/png": "[encoded data removed]",
      "text/plain": [
       "<Figure size 1440x720 with 1 Axes>"
      ]
     },
     "metadata": {
      "needs_background": "light"
     },
     "output_type": "display_data"
    },
    {
     "data": {
      "image/png": "[encoded data removed]",
      "text/plain": [
       "<Figure size 1440x720 with 1 Axes>"
      ]
     },
     "metadata": {
      "needs_background": "light"
     },
     "output_type": "display_data"
    },
    {
     "data": {
      "image/png": "[encoded data removed]",
      "text/plain": [
       "<Figure size 1440x720 with 1 Axes>"
      ]
     },
     "metadata": {
      "needs_background": "light"
     },
     "output_type": "display_data"
    },
    {
     "data": {
      "image/png": "[encoded data removed]",
      "text/plain": [
       "<Figure size 1440x720 with 1 Axes>"
      ]
     },
     "metadata": {
      "needs_background": "light"
     },
     "output_type": "display_data"
    }
   ],
   "source": [
    "from sklearn.preprocessing import LabelEncoder\n",
    "import matplotlib.pyplot as plt\n",
    "import seaborn as sns\n",
    "i=1\n",
    "le = LabelEncoder()\n",
    "avoid_data=['has_superstructure_adobe_mud','has_superstructure_mud_mortar_stone','has_superstructure_stone_flag',               \n",
    "             'has_superstructure_cement_mortar_stone','has_superstructure_mud_mortar_brick','has_superstructure_cement_mortar_brick',\n",
    "              'has_superstructure_timber','has_superstructure_bamboo','has_superstructure_rc_non_engineered',\n",
    "              'has_superstructure_rc_engineered','has_superstructure_other']\n",
    "for col in data.columns:\n",
    "    if col not in avoid_data:\n",
    "        if data[col].dtypes==object:\n",
    "            val=pd.DataFrame(le.fit_transform(data[col]))\n",
    "            plt.figure(figsize=(20,10))\n",
    "            plt.subplot(5,4,i)\n",
    "            i=i+1\n",
    "            val.boxplot()\n",
    "            plt.xlabel(col)\n",
    "        else:\n",
    "            plt.figure(figsize=(20,10))\n",
    "            plt.subplot(5,4,i)\n",
    "            i=i+1\n",
    "            data.boxplot(col)\n",
    "            #plt.xlabel(col)"
   ]
  },
  {
   "cell_type": "markdown",
   "metadata": {},
   "source": [
    "box ploting of individual dataset variable "
   ]
  },
  {
   "cell_type": "code",
   "execution_count": 37,
   "metadata": {},
   "outputs": [
    {
     "data": {
      "text/plain": [
       "<matplotlib.axes._subplots.AxesSubplot at 0x23bc4309b88>"
      ]
     },
     "execution_count": 37,
     "metadata": {},
     "output_type": "execute_result"
    },
    {
     "data": {
      "image/png": "[encoded data removed]",
      "text/plain": [
       "<Figure size 432x288 with 1 Axes>"
      ]
     },
     "metadata": {
      "needs_background": "light"
     },
     "output_type": "display_data"
    }
   ],
   "source": [
    "val=pd.DataFrame(le.fit_transform(data['plan_configuration']))\n",
    "\n",
    "val.boxplot()\n"
   ]
  },
  {
   "cell_type": "markdown",
   "metadata": {},
   "source": [
    " \n",
    "plot the scatter plot based on the  two variable in the dataset."
   ]
  },
  {
   "cell_type": "code",
   "execution_count": 38,
   "metadata": {},
   "outputs": [
    {
     "data": {
      "image/png": "[encoded data removed]",
      "text/plain": [
       "<Figure size 432x288 with 1 Axes>"
      ]
     },
     "metadata": {
      "needs_background": "light"
     },
     "output_type": "display_data"
    }
   ],
   "source": [
    "sctpt=data.plot.scatter(x='count_families',\n",
    "                      y='count_floors_post_eq',\n",
    "                      c='DarkBlue')"
   ]
  },
  {
   "cell_type": "code",
   "execution_count": 102,
   "metadata": {},
   "outputs": [
    {
     "data": {
      "text/plain": [
       "Grade 5    209933\n",
       "Grade 4    151562\n",
       "Grade 3    121600\n",
       "Grade 2     84494\n",
       "Grade 1     60871\n",
       "Name: damage_grade, dtype: int64"
      ]
     },
     "execution_count": 102,
     "metadata": {},
     "output_type": "execute_result"
    }
   ],
   "source": [
    "data.damage_grade.value_counts()"
   ]
  },
  {
   "cell_type": "markdown",
   "metadata": {},
   "source": [
    "In the dataset age_building contain value 999, this value contain data placed far from the box plot.so it consider as the outlier. we can remove that points but that decision should take after analizing  real life situvation.In this part  listing the all  data from the dataset contain building age 999"
   ]
  },
  {
   "cell_type": "code",
   "execution_count": 43,
   "metadata": {},
   "outputs": [
    {
     "data": {
      "text/plain": [
       "[2428,\n",
       " 3219,\n",
       " 3549,\n",
       " 3550,\n",
       " 3551,\n",
       " 3554,\n",
       " 3586,\n",
       " 3587,\n",
       " 3589,\n",
       " 3597,\n",
       " 3598,\n",
       " 3600,\n",
       " 3601,\n",
       " 3603,\n",
       " 3609,\n",
       " 3610,\n",
       " 3612,\n",
       " 3614,\n",
       " 3615,\n",
       " 3616,\n",
       " 3618,\n",
       " 3619,\n",
       " 3620,\n",
       " 3621,\n",
       " 3622,\n",
       " 3623,\n",
       " 3624,\n",
       " 3625,\n",
       " 3626,\n",
       " 3627,\n",
       " 3628,\n",
       " 3629,\n",
       " 3630,\n",
       " 3631,\n",
       " 3632,\n",
       " 3634,\n",
       " 3635,\n",
       " 3638,\n",
       " 3639,\n",
       " 3641,\n",
       " 3642,\n",
       " 3644,\n",
       " 3647,\n",
       " 3648,\n",
       " 3651,\n",
       " 3652,\n",
       " 3653,\n",
       " 3654,\n",
       " 3656,\n",
       " 3657,\n",
       " 3658,\n",
       " 3659,\n",
       " 3660,\n",
       " 3661,\n",
       " 3662,\n",
       " 3791,\n",
       " 3793,\n",
       " 3794,\n",
       " 3795,\n",
       " 3796,\n",
       " 3797,\n",
       " 3798,\n",
       " 3799,\n",
       " 3800,\n",
       " 3801,\n",
       " 3802,\n",
       " 3803,\n",
       " 3804,\n",
       " 3805,\n",
       " 3806,\n",
       " 3807,\n",
       " 3809,\n",
       " 4643,\n",
       " 4649,\n",
       " 4651,\n",
       " 4659,\n",
       " 4665,\n",
       " 4666,\n",
       " 4672,\n",
       " 4686,\n",
       " 4687,\n",
       " 4694,\n",
       " 4696,\n",
       " 4702,\n",
       " 4705,\n",
       " 4713,\n",
       " 4715,\n",
       " 4717,\n",
       " 4719,\n",
       " 4722,\n",
       " 4723,\n",
       " 4724,\n",
       " 4726,\n",
       " 4728,\n",
       " 4730,\n",
       " 4734,\n",
       " 4735,\n",
       " 4736,\n",
       " 4737,\n",
       " 4738,\n",
       " 4741,\n",
       " 4742,\n",
       " 4743,\n",
       " 4745,\n",
       " 4747,\n",
       " 4751,\n",
       " 4753,\n",
       " 4754,\n",
       " 4760,\n",
       " 4764,\n",
       " 4765,\n",
       " 4839,\n",
       " 4844,\n",
       " 4849,\n",
       " 4850,\n",
       " 4851,\n",
       " 4861,\n",
       " 4863,\n",
       " 4868,\n",
       " 4869,\n",
       " 4885,\n",
       " 4886,\n",
       " 4890,\n",
       " 4891,\n",
       " 4892,\n",
       " 4893,\n",
       " 4896,\n",
       " 4901,\n",
       " 4905,\n",
       " 4908,\n",
       " 4909,\n",
       " 4912,\n",
       " 4914,\n",
       " 4915,\n",
       " 4919,\n",
       " 4921,\n",
       " 4922,\n",
       " 4926,\n",
       " 4927,\n",
       " 4929,\n",
       " 4931,\n",
       " 4948,\n",
       " 4954,\n",
       " 4989,\n",
       " 5012,\n",
       " 5015,\n",
       " 5016,\n",
       " 5024,\n",
       " 7942,\n",
       " 7959,\n",
       " 7966,\n",
       " 8828,\n",
       " 8839,\n",
       " 10463,\n",
       " 10466,\n",
       " 10988,\n",
       " 10993,\n",
       " 11684,\n",
       " 24001,\n",
       " 24006,\n",
       " 24013,\n",
       " 24014,\n",
       " 24016,\n",
       " 24026,\n",
       " 24028,\n",
       " 24031,\n",
       " 24036,\n",
       " 24043,\n",
       " 24048,\n",
       " 24052,\n",
       " 24078,\n",
       " 24080,\n",
       " 24098,\n",
       " 24110,\n",
       " 24113,\n",
       " 24114,\n",
       " 24116,\n",
       " 24123,\n",
       " 24124,\n",
       " 25198,\n",
       " 25551,\n",
       " 25552,\n",
       " 25553,\n",
       " 25554,\n",
       " 25555,\n",
       " 25556,\n",
       " 25557,\n",
       " 25559,\n",
       " 25560,\n",
       " 25561,\n",
       " 25562,\n",
       " 25563,\n",
       " 25564,\n",
       " 25565,\n",
       " 25566,\n",
       " 25567,\n",
       " 25568,\n",
       " 25569,\n",
       " 25570,\n",
       " 25571,\n",
       " 25572,\n",
       " 25573,\n",
       " 25574,\n",
       " 25575,\n",
       " 25577,\n",
       " 25582,\n",
       " 25583,\n",
       " 25584,\n",
       " 25585,\n",
       " 25586,\n",
       " 25587,\n",
       " 25588,\n",
       " 25589,\n",
       " 25590,\n",
       " 25591,\n",
       " 25592,\n",
       " 25593,\n",
       " 25595,\n",
       " 25596,\n",
       " 25597,\n",
       " 25599,\n",
       " 25600,\n",
       " 25601,\n",
       " 25602,\n",
       " 25603,\n",
       " 25604,\n",
       " 25606,\n",
       " 25607,\n",
       " 25608,\n",
       " 25609,\n",
       " 25611,\n",
       " 25614,\n",
       " 25625,\n",
       " 25626,\n",
       " 25628,\n",
       " 25641,\n",
       " 25642,\n",
       " 25643,\n",
       " 25644,\n",
       " 25647,\n",
       " 25648,\n",
       " 25651,\n",
       " 25652,\n",
       " 25653,\n",
       " 25656,\n",
       " 25657,\n",
       " 25658,\n",
       " 25659,\n",
       " 25660,\n",
       " 25661,\n",
       " 25667,\n",
       " 25668,\n",
       " 25669,\n",
       " 25670,\n",
       " 25671,\n",
       " 25672,\n",
       " 25673,\n",
       " 25676,\n",
       " 25677,\n",
       " 25678,\n",
       " 25679,\n",
       " 25680,\n",
       " 25681,\n",
       " 25684,\n",
       " 25685,\n",
       " 25686,\n",
       " 25687,\n",
       " 25689,\n",
       " 25690,\n",
       " 25693,\n",
       " 25694,\n",
       " 25695,\n",
       " 25696,\n",
       " 25697,\n",
       " 25700,\n",
       " 25701,\n",
       " 25702,\n",
       " 25703,\n",
       " 25704,\n",
       " 25705,\n",
       " 25706,\n",
       " 25707,\n",
       " 25708,\n",
       " 25709,\n",
       " 25710,\n",
       " 25711,\n",
       " 25712,\n",
       " 25713,\n",
       " 25714,\n",
       " 25715,\n",
       " 25716,\n",
       " 25717,\n",
       " 25718,\n",
       " 25719,\n",
       " 25720,\n",
       " 25721,\n",
       " 25722,\n",
       " 25723,\n",
       " 25724,\n",
       " 25725,\n",
       " 25728,\n",
       " 25730,\n",
       " 25732,\n",
       " 25735,\n",
       " 25738,\n",
       " 25740,\n",
       " 25741,\n",
       " 25742,\n",
       " 25745,\n",
       " 25746,\n",
       " 25747,\n",
       " 25749,\n",
       " 25750,\n",
       " 25751,\n",
       " 25845,\n",
       " 27243,\n",
       " 27271,\n",
       " 27287,\n",
       " 27289,\n",
       " 27294,\n",
       " 27296,\n",
       " 27300,\n",
       " 27301,\n",
       " 27304,\n",
       " 27305,\n",
       " 27307,\n",
       " 27308,\n",
       " 27309,\n",
       " 27310,\n",
       " 27315,\n",
       " 27321,\n",
       " 27323,\n",
       " 27326,\n",
       " 27327,\n",
       " 27329,\n",
       " 27330,\n",
       " 27331,\n",
       " 32286,\n",
       " 38651,\n",
       " 38737,\n",
       " 38756,\n",
       " 38757,\n",
       " 38758,\n",
       " 38771,\n",
       " 38778,\n",
       " 38779,\n",
       " 38833,\n",
       " 38836,\n",
       " 38840,\n",
       " 38853,\n",
       " 38866,\n",
       " 38880,\n",
       " 38890,\n",
       " 38892,\n",
       " 38908,\n",
       " 38912,\n",
       " 39346,\n",
       " 39347,\n",
       " 39349,\n",
       " 39350,\n",
       " 39351,\n",
       " 39352,\n",
       " 39353,\n",
       " 39354,\n",
       " 39355,\n",
       " 39356,\n",
       " 39357,\n",
       " 39358,\n",
       " 39359,\n",
       " 39360,\n",
       " 39361,\n",
       " 39362,\n",
       " 39363,\n",
       " 39364,\n",
       " 39365,\n",
       " 39366,\n",
       " 39367,\n",
       " 39368,\n",
       " 39369,\n",
       " 39370,\n",
       " 39371,\n",
       " 39392,\n",
       " 39394,\n",
       " 39395,\n",
       " 39396,\n",
       " 39397,\n",
       " 39398,\n",
       " 39399,\n",
       " 39400,\n",
       " 39401,\n",
       " 39402,\n",
       " 39403,\n",
       " 39404,\n",
       " 39405,\n",
       " 39406,\n",
       " 39407,\n",
       " 39408,\n",
       " 39409,\n",
       " 39410,\n",
       " 39411,\n",
       " 39412,\n",
       " 39413,\n",
       " 39414,\n",
       " 39415,\n",
       " 39416,\n",
       " 39417,\n",
       " 39418,\n",
       " 39419,\n",
       " 39420,\n",
       " 39421,\n",
       " 39422,\n",
       " 39423,\n",
       " 39424,\n",
       " 39425,\n",
       " 39426,\n",
       " 39427,\n",
       " 39428,\n",
       " 39429,\n",
       " 39430,\n",
       " 39431,\n",
       " 39432,\n",
       " 39433,\n",
       " 39434,\n",
       " 39435,\n",
       " 39436,\n",
       " 39437,\n",
       " 39438,\n",
       " 39439,\n",
       " 39440,\n",
       " 39441,\n",
       " 39442,\n",
       " 39443,\n",
       " 39444,\n",
       " 39446,\n",
       " 39447,\n",
       " 39448,\n",
       " 39449,\n",
       " 39450,\n",
       " 39451,\n",
       " 39452,\n",
       " 39453,\n",
       " 39454,\n",
       " 39455,\n",
       " 39456,\n",
       " 39457,\n",
       " 39458,\n",
       " 39459,\n",
       " 39460,\n",
       " 39461,\n",
       " 39462,\n",
       " 39463,\n",
       " 39464,\n",
       " 39465,\n",
       " 39466,\n",
       " 39467,\n",
       " 39468,\n",
       " 39469,\n",
       " 39470,\n",
       " 39471,\n",
       " 39472,\n",
       " 39473,\n",
       " 39474,\n",
       " 39475,\n",
       " 39476,\n",
       " 39477,\n",
       " 39478,\n",
       " 39479,\n",
       " 39481,\n",
       " 39482,\n",
       " 39483,\n",
       " 39484,\n",
       " 39485,\n",
       " 39486,\n",
       " 39487,\n",
       " 39488,\n",
       " 39489,\n",
       " 39490,\n",
       " 39491,\n",
       " 39492,\n",
       " 39493,\n",
       " 39494,\n",
       " 39495,\n",
       " 39496,\n",
       " 39497,\n",
       " 39498,\n",
       " 39499,\n",
       " 39500,\n",
       " 39501,\n",
       " 39502,\n",
       " 39503,\n",
       " 39504,\n",
       " 39506,\n",
       " 39508,\n",
       " 39509,\n",
       " 39510,\n",
       " 39511,\n",
       " 39512,\n",
       " 39513,\n",
       " 39514,\n",
       " 39515,\n",
       " 39516,\n",
       " 39517,\n",
       " 39518,\n",
       " 39519,\n",
       " 39520,\n",
       " 39521,\n",
       " 39522,\n",
       " 39523,\n",
       " 39524,\n",
       " 39525,\n",
       " 39526,\n",
       " 39527,\n",
       " 39528,\n",
       " 39529,\n",
       " 39530,\n",
       " 39531,\n",
       " 39532,\n",
       " 39533,\n",
       " 39534,\n",
       " 39535,\n",
       " 39536,\n",
       " 39537,\n",
       " 39538,\n",
       " 39539,\n",
       " 39540,\n",
       " 39541,\n",
       " 39542,\n",
       " 48821,\n",
       " 61767,\n",
       " 62130,\n",
       " 62241,\n",
       " 62273,\n",
       " 62274,\n",
       " 62275,\n",
       " 62276,\n",
       " 62277,\n",
       " 62283,\n",
       " 62285,\n",
       " 62288,\n",
       " 62289,\n",
       " 62290,\n",
       " 62303,\n",
       " 62304,\n",
       " 62306,\n",
       " 62310,\n",
       " 62327,\n",
       " 62330,\n",
       " 63031,\n",
       " 63032,\n",
       " 63034,\n",
       " 63035,\n",
       " 63036,\n",
       " 63045,\n",
       " 63046,\n",
       " 63047,\n",
       " 63051,\n",
       " 63052,\n",
       " 63073,\n",
       " 63077,\n",
       " 63085,\n",
       " 63096,\n",
       " 63099,\n",
       " 63100,\n",
       " 63102,\n",
       " 63103,\n",
       " 63104,\n",
       " 63113,\n",
       " 63114,\n",
       " 63115,\n",
       " 63116,\n",
       " 63117,\n",
       " 63119,\n",
       " 63120,\n",
       " 63121,\n",
       " 63122,\n",
       " 63128,\n",
       " 63134,\n",
       " 63139,\n",
       " 63142,\n",
       " 63145,\n",
       " 63148,\n",
       " 63150,\n",
       " 63160,\n",
       " 63165,\n",
       " 63167,\n",
       " 63168,\n",
       " 63170,\n",
       " 63171,\n",
       " 63175,\n",
       " 63177,\n",
       " 63178,\n",
       " 63182,\n",
       " 63188,\n",
       " 63190,\n",
       " 63199,\n",
       " 63217,\n",
       " 63223,\n",
       " 63226,\n",
       " 63236,\n",
       " 63237,\n",
       " 63239,\n",
       " 63240,\n",
       " 63487,\n",
       " 64688,\n",
       " 64689,\n",
       " 64693,\n",
       " 64695,\n",
       " 64699,\n",
       " 64700,\n",
       " 64702,\n",
       " 64703,\n",
       " 64704,\n",
       " 64705,\n",
       " 64706,\n",
       " 64708,\n",
       " 64712,\n",
       " 64713,\n",
       " 64714,\n",
       " 64715,\n",
       " 64720,\n",
       " 64724,\n",
       " 64739,\n",
       " 64758,\n",
       " 64770,\n",
       " 64772,\n",
       " 64783,\n",
       " 64788,\n",
       " 64790,\n",
       " 64794,\n",
       " 64798,\n",
       " 64800,\n",
       " 64801,\n",
       " 64804,\n",
       " 64818,\n",
       " 64821,\n",
       " 64825,\n",
       " 64829,\n",
       " 64833,\n",
       " 64834,\n",
       " 64837,\n",
       " 64841,\n",
       " 64842,\n",
       " 64858,\n",
       " 64861,\n",
       " 66422,\n",
       " 66511,\n",
       " 66549,\n",
       " 66560,\n",
       " 66619,\n",
       " 66620,\n",
       " 68504,\n",
       " 69870,\n",
       " 71510,\n",
       " 71511,\n",
       " 71518,\n",
       " 71520,\n",
       " 71528,\n",
       " 71535,\n",
       " 71536,\n",
       " 71546,\n",
       " 71550,\n",
       " 71553,\n",
       " 71556,\n",
       " 71564,\n",
       " 71568,\n",
       " 71570,\n",
       " 71571,\n",
       " 71579,\n",
       " 71592,\n",
       " 71597,\n",
       " 71599,\n",
       " 71608,\n",
       " 71612,\n",
       " 71616,\n",
       " 71626,\n",
       " 71639,\n",
       " 71645,\n",
       " 71646,\n",
       " 71657,\n",
       " 71661,\n",
       " 71677,\n",
       " 71679,\n",
       " 71687,\n",
       " 71691,\n",
       " 71695,\n",
       " 71698,\n",
       " 71706,\n",
       " 71707,\n",
       " 71708,\n",
       " 71711,\n",
       " 71715,\n",
       " 71717,\n",
       " 71719,\n",
       " 71722,\n",
       " 71727,\n",
       " 71729,\n",
       " 71731,\n",
       " 71732,\n",
       " 71734,\n",
       " 76150,\n",
       " 76365,\n",
       " 77124,\n",
       " 77128,\n",
       " 77507,\n",
       " 77698,\n",
       " 77718,\n",
       " 77786,\n",
       " 77787,\n",
       " 77789,\n",
       " 77790,\n",
       " 77804,\n",
       " 77805,\n",
       " 77808,\n",
       " 77810,\n",
       " 77811,\n",
       " 77837,\n",
       " 77838,\n",
       " 77839,\n",
       " 77840,\n",
       " 77841,\n",
       " 77842,\n",
       " 77843,\n",
       " 77844,\n",
       " 77845,\n",
       " 77846,\n",
       " 77847,\n",
       " 77848,\n",
       " 77850,\n",
       " 80071,\n",
       " 80101,\n",
       " 80102,\n",
       " 80104,\n",
       " 80105,\n",
       " 80106,\n",
       " 80107,\n",
       " 80109,\n",
       " 80110,\n",
       " 80111,\n",
       " 80112,\n",
       " 80163,\n",
       " 80164,\n",
       " 80165,\n",
       " 80166,\n",
       " 80167,\n",
       " 80168,\n",
       " 80172,\n",
       " 80175,\n",
       " 80179,\n",
       " 80323,\n",
       " 80325,\n",
       " 80326,\n",
       " 80327,\n",
       " 80328,\n",
       " 80329,\n",
       " 80330,\n",
       " 80332,\n",
       " 91836,\n",
       " 91853,\n",
       " 91912,\n",
       " 91913,\n",
       " 91916,\n",
       " 91942,\n",
       " 92046,\n",
       " 92048,\n",
       " 92050,\n",
       " 92054,\n",
       " 92057,\n",
       " 92060,\n",
       " 92064,\n",
       " 92066,\n",
       " 92070,\n",
       " 92071,\n",
       " 92072,\n",
       " 92073,\n",
       " 92074,\n",
       " 92075,\n",
       " 92077,\n",
       " 92081,\n",
       " 92082,\n",
       " 92083,\n",
       " 92084,\n",
       " 92085,\n",
       " 92088,\n",
       " 92090,\n",
       " 92091,\n",
       " 92092,\n",
       " 92093,\n",
       " 92094,\n",
       " 92095,\n",
       " 92096,\n",
       " 92100,\n",
       " 92104,\n",
       " 92106,\n",
       " 92109,\n",
       " 92110,\n",
       " 92189,\n",
       " 92190,\n",
       " 92191,\n",
       " 92192,\n",
       " 92193,\n",
       " 92194,\n",
       " 92195,\n",
       " 92196,\n",
       " 92197,\n",
       " 92198,\n",
       " 92199,\n",
       " 92200,\n",
       " 92201,\n",
       " 92202,\n",
       " 92203,\n",
       " 92204,\n",
       " 92206,\n",
       " 92207,\n",
       " 92208,\n",
       " 92209,\n",
       " 92210,\n",
       " 92211,\n",
       " 92212,\n",
       " 92219,\n",
       " 92220,\n",
       " 92221,\n",
       " 92222,\n",
       " 92223,\n",
       " 92224,\n",
       " 92228,\n",
       " 92229,\n",
       " 92230,\n",
       " 92233,\n",
       " 92243,\n",
       " 92249,\n",
       " 92251,\n",
       " 92252,\n",
       " 92254,\n",
       " 92255,\n",
       " 92256,\n",
       " 92257,\n",
       " 92259,\n",
       " 92260,\n",
       " 92261,\n",
       " 92262,\n",
       " 92264,\n",
       " 92265,\n",
       " 92267,\n",
       " 92268,\n",
       " 92273,\n",
       " 92276,\n",
       " 92282,\n",
       " 92283,\n",
       " 92296,\n",
       " 92297,\n",
       " 92300,\n",
       " 92302,\n",
       " 92317,\n",
       " 92318,\n",
       " 92319,\n",
       " 92322,\n",
       " 92326,\n",
       " 92332,\n",
       " 92339,\n",
       " 92340,\n",
       " 92343,\n",
       " 92347,\n",
       " 92349,\n",
       " 92350,\n",
       " 92351,\n",
       " 92352,\n",
       " 92353,\n",
       " 92354,\n",
       " 92355,\n",
       " 92356,\n",
       " 92357,\n",
       " 92358,\n",
       " 92359,\n",
       " 92360,\n",
       " 92361,\n",
       " 92362,\n",
       " 92363,\n",
       " 92912,\n",
       " 93201,\n",
       " 93207,\n",
       " 93318,\n",
       " 93592,\n",
       " 93633,\n",
       " 93959,\n",
       " 94516,\n",
       " 94605,\n",
       " 94670,\n",
       " 97080,\n",
       " 97084,\n",
       " 97094,\n",
       " 97100,\n",
       " 97102,\n",
       " 97111,\n",
       " 97121,\n",
       " 97125,\n",
       " 97152,\n",
       " 97154,\n",
       " 97157,\n",
       " 97183,\n",
       " 97192,\n",
       " 97196,\n",
       " 97202,\n",
       " 97203,\n",
       " 97422,\n",
       " 97426,\n",
       " 97437,\n",
       " 97484,\n",
       " 97490,\n",
       " 97492,\n",
       " 97494,\n",
       " 97500,\n",
       " 97507,\n",
       " 97515,\n",
       " 97518,\n",
       " 97519,\n",
       " 97520,\n",
       " 97521,\n",
       " 97522,\n",
       " 97523,\n",
       " 97526,\n",
       " 97530,\n",
       " 97531,\n",
       " 97533,\n",
       " 97535,\n",
       " 97536,\n",
       " 97537,\n",
       " 97539,\n",
       " 97541,\n",
       " 97542,\n",
       " 97543,\n",
       " 97544,\n",
       " 97545,\n",
       " 97546,\n",
       " 97547,\n",
       " 97548,\n",
       " 97562,\n",
       " 97563,\n",
       " 97571,\n",
       " 97578,\n",
       " 97582,\n",
       " 97586,\n",
       " 97588,\n",
       " 97591,\n",
       " 97595,\n",
       " 97599,\n",
       " 97606,\n",
       " 97607,\n",
       " 97610,\n",
       " 97612,\n",
       " 97614,\n",
       " 97618,\n",
       " 98081,\n",
       " 98342,\n",
       " 98374,\n",
       " 98380,\n",
       " 98390,\n",
       " 98391,\n",
       " 98396,\n",
       " 98401,\n",
       " 98411,\n",
       " 99758,\n",
       " 99759,\n",
       " 100725,\n",
       " 100730,\n",
       " 100732,\n",
       " 100733,\n",
       " 100734,\n",
       " 100736,\n",
       " 100741,\n",
       " 100742,\n",
       " 100743,\n",
       " 100745,\n",
       " 100746,\n",
       " 100748,\n",
       " 100749,\n",
       " 100750,\n",
       " 100752,\n",
       " 100753,\n",
       " 100754,\n",
       " 100755,\n",
       " 100757,\n",
       " 100758,\n",
       " 100759,\n",
       " 100761,\n",
       " 100762,\n",
       " 100763,\n",
       " 100793,\n",
       " 100834,\n",
       " 100900,\n",
       " 101047,\n",
       " 101195,\n",
       " 101196,\n",
       " 101197,\n",
       " 101198,\n",
       " 101203,\n",
       " 101206,\n",
       " 101207,\n",
       " 101234,\n",
       " 101235,\n",
       " 101236,\n",
       " ...]"
      ]
     },
     "execution_count": 43,
     "metadata": {},
     "output_type": "execute_result"
    }
   ],
   "source": [
    "data_indx=data[data['age_building']==999].index.tolist() \n",
    "data_indx"
   ]
  },
  {
   "cell_type": "markdown",
   "metadata": {},
   "source": [
    "remove data from dataset based on the building age is 999"
   ]
  },
  {
   "cell_type": "code",
   "execution_count": 44,
   "metadata": {},
   "outputs": [],
   "source": [
    "data = data.loc[~((data['age_building']==999))]"
   ]
  },
  {
   "cell_type": "markdown",
   "metadata": {},
   "source": [
    "checking any data present in the dataset with buliding age is 999"
   ]
  },
  {
   "cell_type": "code",
   "execution_count": 45,
   "metadata": {},
   "outputs": [
    {
     "name": "stdout",
     "output_type": "stream",
     "text": [
      "0\n"
     ]
    }
   ],
   "source": [
    "print(data[data.age_building == 999].shape[0])"
   ]
  },
  {
   "cell_type": "markdown",
   "metadata": {},
   "source": [
    "  \n",
    "    if data type of the data in the datset is object then we can't plot the distribution plot so that it plot after finishing encoding.other datatype data is directly ploted."
   ]
  },
  {
   "cell_type": "code",
   "execution_count": 51,
   "metadata": {},
   "outputs": [
    {
     "data": {
      "image/png": "[encoded data removed]",
      "text/plain": [
       "<Figure size 432x288 with 1 Axes>"
      ]
     },
     "metadata": {
      "needs_background": "light"
     },
     "output_type": "display_data"
    },
    {
     "data": {
      "image/png": "[encoded data removed]",
      "text/plain": [
       "<Figure size 432x288 with 1 Axes>"
      ]
     },
     "metadata": {
      "needs_background": "light"
     },
     "output_type": "display_data"
    },
    {
     "data": {
      "image/png": "[encoded data removed]",
      "text/plain": [
       "<Figure size 432x288 with 1 Axes>"
      ]
     },
     "metadata": {
      "needs_background": "light"
     },
     "output_type": "display_data"
    },
    {
     "data": {
      "image/png": "[encoded data removed]",
      "text/plain": [
       "<Figure size 432x288 with 1 Axes>"
      ]
     },
     "metadata": {
      "needs_background": "light"
     },
     "output_type": "display_data"
    },
    {
     "data": {
      "image/png": "[encoded data removed]",
      "text/plain": [
       "<Figure size 432x288 with 1 Axes>"
      ]
     },
     "metadata": {
      "needs_background": "light"
     },
     "output_type": "display_data"
    },
    {
     "data": {
      "image/png": "[encoded data removed]",
      "text/plain": [
       "<Figure size 432x288 with 1 Axes>"
      ]
     },
     "metadata": {
      "needs_background": "light"
     },
     "output_type": "display_data"
    },
    {
     "data": {
      "image/png": "[encoded data removed]",
      "text/plain": [
       "<Figure size 432x288 with 1 Axes>"
      ]
     },
     "metadata": {
      "needs_background": "light"
     },
     "output_type": "display_data"
    },
    {
     "data": {
      "image/png": "[encoded data removed]",
      "text/plain": [
       "<Figure size 432x288 with 1 Axes>"
      ]
     },
     "metadata": {
      "needs_background": "light"
     },
     "output_type": "display_data"
    },
    {
     "data": {
      "image/png": "[encoded data removed]",
      "text/plain": [
       "<Figure size 432x288 with 1 Axes>"
      ]
     },
     "metadata": {
      "needs_background": "light"
     },
     "output_type": "display_data"
    },
    {
     "data": {
      "image/png": "[encoded data removed]",
      "text/plain": [
       "<Figure size 432x288 with 1 Axes>"
      ]
     },
     "metadata": {
      "needs_background": "light"
     },
     "output_type": "display_data"
    },
    {
     "data": {
      "image/png": "[encoded data removed]",
      "text/plain": [
       "<Figure size 432x288 with 1 Axes>"
      ]
     },
     "metadata": {
      "needs_background": "light"
     },
     "output_type": "display_data"
    },
    {
     "data": {
      "image/png": "[encoded data removed]",
      "text/plain": [
       "<Figure size 432x288 with 1 Axes>"
      ]
     },
     "metadata": {
      "needs_background": "light"
     },
     "output_type": "display_data"
    },
    {
     "data": {
      "image/png": "[encoded data removed]",
      "text/plain": [
       "<Figure size 432x288 with 1 Axes>"
      ]
     },
     "metadata": {
      "needs_background": "light"
     },
     "output_type": "display_data"
    }
   ],
   "source": [
    "for col in data.columns:\n",
    "    if data[col].dtypes==object:\n",
    "        val=pd.DataFrame(le.fit_transform(data[col]))\n",
    "        ax=val.plot.kde()\n",
    "        plt.xlabel(col)\n",
    "    else:\n",
    "        ax=data[col].plot.kde()\n",
    "        plt.xlabel(col)"
   ]
  },
  {
   "cell_type": "code",
   "execution_count": 45,
   "metadata": {},
   "outputs": [
    {
     "data": {
      "image/png": "[encoded data removed]",
      "text/plain": [
       "<Figure size 432x288 with 1 Axes>"
      ]
     },
     "metadata": {
      "needs_background": "light"
     },
     "output_type": "display_data"
    }
   ],
   "source": [
    "ax = data['age_building'].plot.hist(bins=10, alpha=0.5)"
   ]
  },
  {
   "cell_type": "code",
   "execution_count": 96,
   "metadata": {},
   "outputs": [
    {
     "data": {
      "text/plain": [
       "Both                   380951\n",
       "Building removed       130813\n",
       "Exterior                98384\n",
       "Not able to inspect     16504\n",
       "Interior                 1808\n",
       "Name: area_assesed, dtype: int64"
      ]
     },
     "execution_count": 96,
     "metadata": {},
     "output_type": "execute_result"
    }
   ],
   "source": [
    "df1 = data[['area_assesed']]\n",
    "df1.area_assesed.value_counts()"
   ]
  },
  {
   "cell_type": "code",
   "execution_count": 111,
   "metadata": {},
   "outputs": [
    {
     "data": {
      "text/plain": [
       "<matplotlib.axes._subplots.AxesSubplot at 0x23bc5081b08>"
      ]
     },
     "execution_count": 111,
     "metadata": {},
     "output_type": "execute_result"
    },
    {
     "data": {
      "image/png": "[encoded data removed]",
      "text/plain": [
       "<Figure size 432x288 with 1 Axes>"
      ]
     },
     "metadata": {
      "needs_background": "light"
     },
     "output_type": "display_data"
    }
   ],
   "source": [
    "slice = data[['land_surface_condition',\n",
    "'foundation_type']]\n",
    "slice.groupby(['land_surface_condition',\n",
    "'foundation_type']).size().plot.bar()\n"
   ]
  },
  {
   "cell_type": "markdown",
   "metadata": {},
   "source": [
    "\n",
    "In this part we plot the bar graph grade and other selected dataset variable.There create a new dataset it contain grade and selected variable .after consider that variable create a group and find the size by using that bar plot is constructed"
   ]
  },
  {
   "cell_type": "code",
   "execution_count": 101,
   "metadata": {},
   "outputs": [
    {
     "data": {
      "image/png": "[encoded data removed]",
      "text/plain": [
       "<Figure size 3600x1440 with 1 Axes>"
      ]
     },
     "metadata": {
      "needs_background": "light"
     },
     "output_type": "display_data"
    },
    {
     "data": {
      "image/png": "[encoded data removed]",
      "text/plain": [
       "<Figure size 3600x1440 with 1 Axes>"
      ]
     },
     "metadata": {
      "needs_background": "light"
     },
     "output_type": "display_data"
    },
    {
     "data": {
      "image/png": "[encoded data removed]",
      "text/plain": [
       "<Figure size 3600x1440 with 1 Axes>"
      ]
     },
     "metadata": {
      "needs_background": "light"
     },
     "output_type": "display_data"
    },
    {
     "data": {
      "image/png": "[encoded data removed]",
      "text/plain": [
       "<Figure size 3600x1440 with 1 Axes>"
      ]
     },
     "metadata": {
      "needs_background": "light"
     },
     "output_type": "display_data"
    },
    {
     "data": {
      "image/png": "[encoded data removed]",
      "text/plain": [
       "<Figure size 3600x1440 with 1 Axes>"
      ]
     },
     "metadata": {
      "needs_background": "light"
     },
     "output_type": "display_data"
    },
    {
     "data": {
      "image/png": "[encoded data removed]",
      "text/plain": [
       "<Figure size 3600x1440 with 1 Axes>"
      ]
     },
     "metadata": {
      "needs_background": "light"
     },
     "output_type": "display_data"
    },
    {
     "data": {
      "image/png": "[encoded data removed]",
      "text/plain": [
       "<Figure size 3600x1440 with 1 Axes>"
      ]
     },
     "metadata": {
      "needs_background": "light"
     },
     "output_type": "display_data"
    },
    {
     "data": {
      "image/png": "[encoded data removed]",
      "text/plain": [
       "<Figure size 3600x1440 with 1 Axes>"
      ]
     },
     "metadata": {
      "needs_background": "light"
     },
     "output_type": "display_data"
    },
    {
     "data": {
      "image/png": "[encoded data removed]",
      "text/plain": [
       "<Figure size 3600x1440 with 1 Axes>"
      ]
     },
     "metadata": {
      "needs_background": "light"
     },
     "output_type": "display_data"
    },
    {
     "data": {
      "image/png": "[encoded data removed]",
      "text/plain": [
       "<Figure size 3600x1440 with 1 Axes>"
      ]
     },
     "metadata": {
      "needs_background": "light"
     },
     "output_type": "display_data"
    },
    {
     "data": {
      "image/png": "[encoded data removed]",
      "text/plain": [
       "<Figure size 3600x1440 with 1 Axes>"
      ]
     },
     "metadata": {
      "needs_background": "light"
     },
     "output_type": "display_data"
    },
    {
     "data": {
      "image/png": "[encoded data removed]",
      "text/plain": [
       "<Figure size 3600x1440 with 1 Axes>"
      ]
     },
     "metadata": {
      "needs_background": "light"
     },
     "output_type": "display_data"
    },
    {
     "data": {
      "image/png": "[encoded data removed]",
      "text/plain": [
       "<Figure size 3600x1440 with 1 Axes>"
      ]
     },
     "metadata": {
      "needs_background": "light"
     },
     "output_type": "display_data"
    },
    {
     "data": {
      "image/png": "[encoded data removed]",
      "text/plain": [
       "<Figure size 3600x1440 with 1 Axes>"
      ]
     },
     "metadata": {
      "needs_background": "light"
     },
     "output_type": "display_data"
    }
   ],
   "source": [
    "#import plotly.express as px\n",
    "columns=['land_surface_condition',\n",
    "       'foundation_type', 'roof_type', 'ground_floor_type', 'other_floor_type',\n",
    "       'position','has_superstructure_adobe_mud',\n",
    "       'has_superstructure_mud_mortar_stone', 'has_superstructure_stone_flag',\n",
    "       'has_superstructure_cement_mortar_stone','count_families','area_assesed','condition_post_eq',\n",
    "       'has_repair_started']\n",
    "i=1\n",
    "for col in columns:\n",
    "    slice = data[['damage_grade',col]]\n",
    "    a=slice.groupby([col,'damage_grade']).size()\n",
    "    plt.figure(figsize=(50,20))\n",
    "    plt.subplot(4,5,i)\n",
    "    i=i+1\n",
    "    a.plot.bar()\n",
    "\n",
    "    "
   ]
  },
  {
   "cell_type": "code",
   "execution_count": 112,
   "metadata": {},
   "outputs": [
    {
     "data": {
      "text/plain": [
       "<matplotlib.axes._subplots.AxesSubplot at 0x23bc50eaec8>"
      ]
     },
     "execution_count": 112,
     "metadata": {},
     "output_type": "execute_result"
    },
    {
     "data": {
      "image/png": "[encoded data removed]",
      "text/plain": [
       "<Figure size 432x288 with 1 Axes>"
      ]
     },
     "metadata": {
      "needs_background": "light"
     },
     "output_type": "display_data"
    }
   ],
   "source": [
    "sns.stripplot(x=\"has_repair_started\", y=\"age_building\", data=data)"
   ]
  },
  {
   "cell_type": "code",
   "execution_count": 113,
   "metadata": {},
   "outputs": [
    {
     "data": {
      "text/plain": [
       "<matplotlib.axes._subplots.AxesSubplot at 0x23bc3584f08>"
      ]
     },
     "execution_count": 113,
     "metadata": {},
     "output_type": "execute_result"
    },
    {
     "data": {
      "image/png": "[encoded data removed]",
      "text/plain": [
       "<Figure size 432x288 with 1 Axes>"
      ]
     },
     "metadata": {
      "needs_background": "light"
     },
     "output_type": "display_data"
    }
   ],
   "source": [
    "sns.stripplot(x=\"land_surface_condition\", y=\"age_building\", data=data)"
   ]
  },
  {
   "cell_type": "code",
   "execution_count": 114,
   "metadata": {},
   "outputs": [
    {
     "data": {
      "text/plain": [
       "<matplotlib.axes._subplots.AxesSubplot at 0x23be17fb308>"
      ]
     },
     "execution_count": 114,
     "metadata": {},
     "output_type": "execute_result"
    },
    {
     "data": {
      "image/png": "[encoded data removed]",
      "text/plain": [
       "<Figure size 432x288 with 1 Axes>"
      ]
     },
     "metadata": {
      "needs_background": "light"
     },
     "output_type": "display_data"
    }
   ],
   "source": [
    "sns.stripplot(x=\"foundation_type\", y=\"age_building\", data=data)"
   ]
  },
  {
   "cell_type": "markdown",
   "metadata": {},
   "source": [
    "     *from this data visualization we can conclude that the building material and land surface also very closely related with grade.\n",
    "     *when the building surface is flat and building foundation is done with mudmortar-storn/brick then age of the building increases.  \n",
    "     *the building repairing will not happening when building age will increses .\n",
    "     *when building repairing not happen then grade count increases grade1 to grade 5 "
   ]
  },
  {
   "cell_type": "raw",
   "metadata": {},
   "source": [
    "'''for col in data.columns:\n",
    "    if data[col].dtypes!=object:\n",
    "        age =data.groupby([data[col]]).mean().reset_index()\n",
    "        fig = px.bar(grade,\n",
    "             x='damage_grade',\n",
    "             y= col,\n",
    "             color='damage_grade',\n",
    "             title = \"grade analysis\")\n",
    "    \n",
    "    \n",
    "        fig.show()'''"
   ]
  },
  {
   "cell_type": "code",
   "execution_count": 115,
   "metadata": {
    "colab": {},
    "colab_type": "code",
    "id": "cmF0S0PPuPkd"
   },
   "outputs": [],
   "source": [
    "\n",
    "train_label=data['damage_grade']\n",
    "data.drop('damage_grade',axis=1,inplace=True)"
   ]
  },
  {
   "cell_type": "code",
   "execution_count": 116,
   "metadata": {
    "colab": {},
    "colab_type": "code",
    "id": "uewNpMT4uPkf"
   },
   "outputs": [],
   "source": [
    "from sklearn.model_selection import train_test_split\n",
    "train, test,train_labl, test_labl = train_test_split(data, train_label, test_size = 0.2,train_size=0.8)"
   ]
  },
  {
   "cell_type": "code",
   "execution_count": 117,
   "metadata": {
    "colab": {
     "base_uri": "https://localhost:8080/",
     "height": 54
    },
    "colab_type": "code",
    "id": "-n0lwu9wuPki",
    "outputId": "bb97ae21-5444-4bea-f604-dc4c4626963c"
   },
   "outputs": [
    {
     "name": "stdout",
     "output_type": "stream",
     "text": [
      "['count_floors_post_eq', 'age_building', 'plinth_area_sq_ft', 'height_ft_pre_eq', 'height_ft_post_eq', 'land_surface_condition', 'foundation_type', 'roof_type', 'ground_floor_type', 'other_floor_type', 'position', 'plan_configuration', 'has_superstructure_adobe_mud', 'has_superstructure_mud_mortar_stone', 'has_superstructure_stone_flag', 'has_superstructure_cement_mortar_stone', 'has_superstructure_mud_mortar_brick', 'has_superstructure_cement_mortar_brick', 'has_superstructure_timber', 'has_superstructure_bamboo', 'has_superstructure_rc_non_engineered', 'has_superstructure_rc_engineered', 'has_superstructure_other', 'condition_post_eq', 'ward_id', 'count_families', 'has_secondary_use', 'area_assesed', 'has_geotechnical_risk', 'has_repair_started']\n"
     ]
    }
   ],
   "source": [
    "#list the what are the featuers consider for training\n",
    "features=list(train)\n",
    "print(features)"
   ]
  },
  {
   "cell_type": "code",
   "execution_count": 118,
   "metadata": {
    "colab": {},
    "colab_type": "code",
    "id": "6I3EyLrVuPkm"
   },
   "outputs": [],
   "source": [
    "feature_test=list(test)"
   ]
  },
  {
   "cell_type": "code",
   "execution_count": 119,
   "metadata": {
    "colab": {
     "base_uri": "https://localhost:8080/",
     "height": 139
    },
    "colab_type": "code",
    "id": "WoLNUtuRrApz",
    "outputId": "7234153a-d89a-48b8-954d-0fdd34d4180e"
   },
   "outputs": [
    {
     "name": "stderr",
     "output_type": "stream",
     "text": [
      "C:\\Users\\best\\Anaconda3\\lib\\site-packages\\ipykernel_launcher.py:7: SettingWithCopyWarning:\n",
      "\n",
      "\n",
      "A value is trying to be set on a copy of a slice from a DataFrame.\n",
      "Try using .loc[row_indexer,col_indexer] = value instead\n",
      "\n",
      "See the caveats in the documentation: http://pandas.pydata.org/pandas-docs/stable/user_guide/indexing.html#returning-a-view-versus-a-copy\n",
      "\n"
     ]
    }
   ],
   "source": [
    "#there we apply encoding  the data using LabelEncoding,how mony classes are there based on the label is giving\n",
    "from sklearn.preprocessing import LabelEncoder\n",
    "# Instatniate LabelEncoder\n",
    "le = LabelEncoder()\n",
    "for feature in features:\n",
    "  # LabelEncode damage_grade of data\n",
    "  train[feature] = le.fit_transform(train[feature])\n",
    "  # Inspecting encoded data\n",
    "  data.head()"
   ]
  },
  {
   "cell_type": "code",
   "execution_count": 120,
   "metadata": {
    "colab": {
     "base_uri": "https://localhost:8080/",
     "height": 139
    },
    "colab_type": "code",
    "id": "tiVDLLf3uPkr",
    "outputId": "93070ed1-c804-4326-83fb-ab24aa910400"
   },
   "outputs": [
    {
     "name": "stderr",
     "output_type": "stream",
     "text": [
      "C:\\Users\\best\\Anaconda3\\lib\\site-packages\\ipykernel_launcher.py:4: SettingWithCopyWarning:\n",
      "\n",
      "\n",
      "A value is trying to be set on a copy of a slice from a DataFrame.\n",
      "Try using .loc[row_indexer,col_indexer] = value instead\n",
      "\n",
      "See the caveats in the documentation: http://pandas.pydata.org/pandas-docs/stable/user_guide/indexing.html#returning-a-view-versus-a-copy\n",
      "\n"
     ]
    }
   ],
   "source": [
    "#there we apply encoding  the data using LabelEncoding,how mony classes are there based on the label is giving\n",
    "for ftr in feature_test:\n",
    "  # LabelEncode damage_grade of data\n",
    "  test[ftr] = le.fit_transform(test[ftr])\n",
    "  # Inspecting encoded data\n",
    "  data.head()"
   ]
  },
  {
   "cell_type": "code",
   "execution_count": 121,
   "metadata": {
    "colab": {
     "base_uri": "https://localhost:8080/",
     "height": 224
    },
    "colab_type": "code",
    "id": "_fkbctsKrr2m",
    "outputId": "ee0a630e-b053-4877-ec59-454171068150"
   },
   "outputs": [
    {
     "data": {
      "text/html": [
       "<div>\n",
       "<style scoped>\n",
       "    .dataframe tbody tr th:only-of-type {\n",
       "        vertical-align: middle;\n",
       "    }\n",
       "\n",
       "    .dataframe tbody tr th {\n",
       "        vertical-align: top;\n",
       "    }\n",
       "\n",
       "    .dataframe thead th {\n",
       "        text-align: right;\n",
       "    }\n",
       "</style>\n",
       "<table border=\"1\" class=\"dataframe\">\n",
       "  <thead>\n",
       "    <tr style=\"text-align: right;\">\n",
       "      <th></th>\n",
       "      <th>count_floors_post_eq</th>\n",
       "      <th>age_building</th>\n",
       "      <th>plinth_area_sq_ft</th>\n",
       "      <th>height_ft_pre_eq</th>\n",
       "      <th>height_ft_post_eq</th>\n",
       "      <th>land_surface_condition</th>\n",
       "      <th>foundation_type</th>\n",
       "      <th>roof_type</th>\n",
       "      <th>ground_floor_type</th>\n",
       "      <th>other_floor_type</th>\n",
       "      <th>...</th>\n",
       "      <th>has_superstructure_rc_non_engineered</th>\n",
       "      <th>has_superstructure_rc_engineered</th>\n",
       "      <th>has_superstructure_other</th>\n",
       "      <th>condition_post_eq</th>\n",
       "      <th>ward_id</th>\n",
       "      <th>count_families</th>\n",
       "      <th>has_secondary_use</th>\n",
       "      <th>area_assesed</th>\n",
       "      <th>has_geotechnical_risk</th>\n",
       "      <th>has_repair_started</th>\n",
       "    </tr>\n",
       "  </thead>\n",
       "  <tbody>\n",
       "    <tr>\n",
       "      <th>268132</th>\n",
       "      <td>2</td>\n",
       "      <td>25</td>\n",
       "      <td>248</td>\n",
       "      <td>10</td>\n",
       "      <td>11</td>\n",
       "      <td>0</td>\n",
       "      <td>2</td>\n",
       "      <td>1</td>\n",
       "      <td>1</td>\n",
       "      <td>2</td>\n",
       "      <td>...</td>\n",
       "      <td>0</td>\n",
       "      <td>0</td>\n",
       "      <td>0</td>\n",
       "      <td>1</td>\n",
       "      <td>3271</td>\n",
       "      <td>1</td>\n",
       "      <td>0</td>\n",
       "      <td>2</td>\n",
       "      <td>0</td>\n",
       "      <td>0</td>\n",
       "    </tr>\n",
       "    <tr>\n",
       "      <th>475958</th>\n",
       "      <td>0</td>\n",
       "      <td>3</td>\n",
       "      <td>428</td>\n",
       "      <td>6</td>\n",
       "      <td>0</td>\n",
       "      <td>1</td>\n",
       "      <td>2</td>\n",
       "      <td>1</td>\n",
       "      <td>1</td>\n",
       "      <td>3</td>\n",
       "      <td>...</td>\n",
       "      <td>0</td>\n",
       "      <td>0</td>\n",
       "      <td>0</td>\n",
       "      <td>3</td>\n",
       "      <td>6636</td>\n",
       "      <td>1</td>\n",
       "      <td>0</td>\n",
       "      <td>1</td>\n",
       "      <td>0</td>\n",
       "      <td>1</td>\n",
       "    </tr>\n",
       "    <tr>\n",
       "      <th>365805</th>\n",
       "      <td>5</td>\n",
       "      <td>25</td>\n",
       "      <td>268</td>\n",
       "      <td>39</td>\n",
       "      <td>40</td>\n",
       "      <td>0</td>\n",
       "      <td>4</td>\n",
       "      <td>2</td>\n",
       "      <td>3</td>\n",
       "      <td>1</td>\n",
       "      <td>...</td>\n",
       "      <td>0</td>\n",
       "      <td>0</td>\n",
       "      <td>0</td>\n",
       "      <td>7</td>\n",
       "      <td>4572</td>\n",
       "      <td>1</td>\n",
       "      <td>13</td>\n",
       "      <td>0</td>\n",
       "      <td>0</td>\n",
       "      <td>7162</td>\n",
       "    </tr>\n",
       "    <tr>\n",
       "      <th>288618</th>\n",
       "      <td>0</td>\n",
       "      <td>10</td>\n",
       "      <td>248</td>\n",
       "      <td>6</td>\n",
       "      <td>0</td>\n",
       "      <td>1</td>\n",
       "      <td>2</td>\n",
       "      <td>1</td>\n",
       "      <td>1</td>\n",
       "      <td>0</td>\n",
       "      <td>...</td>\n",
       "      <td>0</td>\n",
       "      <td>0</td>\n",
       "      <td>0</td>\n",
       "      <td>5</td>\n",
       "      <td>3546</td>\n",
       "      <td>0</td>\n",
       "      <td>0</td>\n",
       "      <td>1</td>\n",
       "      <td>0</td>\n",
       "      <td>0</td>\n",
       "    </tr>\n",
       "    <tr>\n",
       "      <th>541074</th>\n",
       "      <td>1</td>\n",
       "      <td>10</td>\n",
       "      <td>528</td>\n",
       "      <td>3</td>\n",
       "      <td>4</td>\n",
       "      <td>0</td>\n",
       "      <td>1</td>\n",
       "      <td>1</td>\n",
       "      <td>1</td>\n",
       "      <td>0</td>\n",
       "      <td>...</td>\n",
       "      <td>0</td>\n",
       "      <td>0</td>\n",
       "      <td>0</td>\n",
       "      <td>7</td>\n",
       "      <td>7189</td>\n",
       "      <td>1</td>\n",
       "      <td>0</td>\n",
       "      <td>0</td>\n",
       "      <td>0</td>\n",
       "      <td>7163</td>\n",
       "    </tr>\n",
       "  </tbody>\n",
       "</table>\n",
       "<p>5 rows × 30 columns</p>\n",
       "</div>"
      ],
      "text/plain": [
       "        count_floors_post_eq  age_building  plinth_area_sq_ft  \\\n",
       "268132                     2            25                248   \n",
       "475958                     0             3                428   \n",
       "365805                     5            25                268   \n",
       "288618                     0            10                248   \n",
       "541074                     1            10                528   \n",
       "\n",
       "        height_ft_pre_eq  height_ft_post_eq  land_surface_condition  \\\n",
       "268132                10                 11                       0   \n",
       "475958                 6                  0                       1   \n",
       "365805                39                 40                       0   \n",
       "288618                 6                  0                       1   \n",
       "541074                 3                  4                       0   \n",
       "\n",
       "        foundation_type  roof_type  ground_floor_type  other_floor_type  ...  \\\n",
       "268132                2          1                  1                 2  ...   \n",
       "475958                2          1                  1                 3  ...   \n",
       "365805                4          2                  3                 1  ...   \n",
       "288618                2          1                  1                 0  ...   \n",
       "541074                1          1                  1                 0  ...   \n",
       "\n",
       "        has_superstructure_rc_non_engineered  \\\n",
       "268132                                     0   \n",
       "475958                                     0   \n",
       "365805                                     0   \n",
       "288618                                     0   \n",
       "541074                                     0   \n",
       "\n",
       "        has_superstructure_rc_engineered  has_superstructure_other  \\\n",
       "268132                                 0                         0   \n",
       "475958                                 0                         0   \n",
       "365805                                 0                         0   \n",
       "288618                                 0                         0   \n",
       "541074                                 0                         0   \n",
       "\n",
       "        condition_post_eq  ward_id  count_families  has_secondary_use  \\\n",
       "268132                  1     3271               1                  0   \n",
       "475958                  3     6636               1                  0   \n",
       "365805                  7     4572               1                 13   \n",
       "288618                  5     3546               0                  0   \n",
       "541074                  7     7189               1                  0   \n",
       "\n",
       "        area_assesed  has_geotechnical_risk  has_repair_started  \n",
       "268132             2                      0                   0  \n",
       "475958             1                      0                   1  \n",
       "365805             0                      0                7162  \n",
       "288618             1                      0                   0  \n",
       "541074             0                      0                7163  \n",
       "\n",
       "[5 rows x 30 columns]"
      ]
     },
     "execution_count": 121,
     "metadata": {},
     "output_type": "execute_result"
    }
   ],
   "source": [
    "train.head()"
   ]
  },
  {
   "cell_type": "markdown",
   "metadata": {
    "colab_type": "text",
    "id": "qtGVIynnuPkz"
   },
   "source": [
    "apply the onehotencoding method ,this method produces a vector with length equal to the number of categories in the data set.  If a data point belongs to the ith category then components of this vector are assigned the value 0 except for the ith component, which is assigned a value of 1.  In this way one can keep track of the categories in a numerically meaningful way."
   ]
  },
  {
   "cell_type": "code",
   "execution_count": 122,
   "metadata": {
    "colab": {
     "base_uri": "https://localhost:8080/",
     "height": 224
    },
    "colab_type": "code",
    "id": "1D8DWnVbuLbF",
    "outputId": "b9c737f2-9eda-4fb5-c9b8-9645e12bd7c1"
   },
   "outputs": [
    {
     "data": {
      "text/html": [
       "<div>\n",
       "<style scoped>\n",
       "    .dataframe tbody tr th:only-of-type {\n",
       "        vertical-align: middle;\n",
       "    }\n",
       "\n",
       "    .dataframe tbody tr th {\n",
       "        vertical-align: top;\n",
       "    }\n",
       "\n",
       "    .dataframe thead th {\n",
       "        text-align: right;\n",
       "    }\n",
       "</style>\n",
       "<table border=\"1\" class=\"dataframe\">\n",
       "  <thead>\n",
       "    <tr style=\"text-align: right;\">\n",
       "      <th></th>\n",
       "      <th>count_floors_post_eq</th>\n",
       "      <th>age_building</th>\n",
       "      <th>plinth_area_sq_ft</th>\n",
       "      <th>height_ft_pre_eq</th>\n",
       "      <th>height_ft_post_eq</th>\n",
       "      <th>land_surface_condition</th>\n",
       "      <th>foundation_type</th>\n",
       "      <th>roof_type</th>\n",
       "      <th>ground_floor_type</th>\n",
       "      <th>other_floor_type</th>\n",
       "      <th>...</th>\n",
       "      <th>has_superstructure_rc_non_engineered</th>\n",
       "      <th>has_superstructure_rc_engineered</th>\n",
       "      <th>has_superstructure_other</th>\n",
       "      <th>condition_post_eq</th>\n",
       "      <th>ward_id</th>\n",
       "      <th>count_families</th>\n",
       "      <th>has_secondary_use</th>\n",
       "      <th>area_assesed</th>\n",
       "      <th>has_geotechnical_risk</th>\n",
       "      <th>has_repair_started</th>\n",
       "    </tr>\n",
       "  </thead>\n",
       "  <tbody>\n",
       "    <tr>\n",
       "      <th>0</th>\n",
       "      <td>1</td>\n",
       "      <td>32</td>\n",
       "      <td>324</td>\n",
       "      <td>9</td>\n",
       "      <td>9</td>\n",
       "      <td>Moderate slope</td>\n",
       "      <td>Mud mortar-Stone/Brick</td>\n",
       "      <td>Bamboo/Timber-Light roof</td>\n",
       "      <td>Mud</td>\n",
       "      <td>Not applicable</td>\n",
       "      <td>...</td>\n",
       "      <td>0</td>\n",
       "      <td>0</td>\n",
       "      <td>1</td>\n",
       "      <td>Damaged-Repaired and used</td>\n",
       "      <td>70102</td>\n",
       "      <td>1.0</td>\n",
       "      <td>0.0-0-0-0-0-0-0-0-0-0-0</td>\n",
       "      <td>Both</td>\n",
       "      <td>0.0-0-0-0-0-0-0-0</td>\n",
       "      <td>1.0</td>\n",
       "    </tr>\n",
       "    <tr>\n",
       "      <th>1</th>\n",
       "      <td>2</td>\n",
       "      <td>34</td>\n",
       "      <td>456</td>\n",
       "      <td>18</td>\n",
       "      <td>18</td>\n",
       "      <td>Moderate slope</td>\n",
       "      <td>Mud mortar-Stone/Brick</td>\n",
       "      <td>Bamboo/Timber-Light roof</td>\n",
       "      <td>Mud</td>\n",
       "      <td>TImber/Bamboo-Mud</td>\n",
       "      <td>...</td>\n",
       "      <td>0</td>\n",
       "      <td>0</td>\n",
       "      <td>1</td>\n",
       "      <td>Damaged-Repaired and used</td>\n",
       "      <td>70102</td>\n",
       "      <td>1.0</td>\n",
       "      <td>0.0-0-0-0-0-0-0-0-0-0-0</td>\n",
       "      <td>Both</td>\n",
       "      <td>0.0-0-0-0-0-0-0-0</td>\n",
       "      <td>1.0</td>\n",
       "    </tr>\n",
       "    <tr>\n",
       "      <th>2</th>\n",
       "      <td>2</td>\n",
       "      <td>20</td>\n",
       "      <td>452</td>\n",
       "      <td>18</td>\n",
       "      <td>18</td>\n",
       "      <td>Moderate slope</td>\n",
       "      <td>Mud mortar-Stone/Brick</td>\n",
       "      <td>Bamboo/Timber-Light roof</td>\n",
       "      <td>Mud</td>\n",
       "      <td>TImber/Bamboo-Mud</td>\n",
       "      <td>...</td>\n",
       "      <td>0</td>\n",
       "      <td>0</td>\n",
       "      <td>1</td>\n",
       "      <td>Damaged-Repaired and used</td>\n",
       "      <td>70103</td>\n",
       "      <td>1.0</td>\n",
       "      <td>0.0-0-0-0-0-0-0-0-0-0-0</td>\n",
       "      <td>Both</td>\n",
       "      <td>0.0-0-0-0-0-0-0-0</td>\n",
       "      <td>1.0</td>\n",
       "    </tr>\n",
       "    <tr>\n",
       "      <th>3</th>\n",
       "      <td>1</td>\n",
       "      <td>44</td>\n",
       "      <td>546</td>\n",
       "      <td>9</td>\n",
       "      <td>9</td>\n",
       "      <td>Moderate slope</td>\n",
       "      <td>Mud mortar-Stone/Brick</td>\n",
       "      <td>Bamboo/Timber-Light roof</td>\n",
       "      <td>Mud</td>\n",
       "      <td>Not applicable</td>\n",
       "      <td>...</td>\n",
       "      <td>0</td>\n",
       "      <td>0</td>\n",
       "      <td>0</td>\n",
       "      <td>Damaged-Not used</td>\n",
       "      <td>70103</td>\n",
       "      <td>1.0</td>\n",
       "      <td>0.0-0-0-0-0-0-0-0-0-0-0</td>\n",
       "      <td>Both</td>\n",
       "      <td>0.0-0-0-0-0-0-0-0</td>\n",
       "      <td>1.0</td>\n",
       "    </tr>\n",
       "    <tr>\n",
       "      <th>4</th>\n",
       "      <td>1</td>\n",
       "      <td>25</td>\n",
       "      <td>324</td>\n",
       "      <td>9</td>\n",
       "      <td>9</td>\n",
       "      <td>Moderate slope</td>\n",
       "      <td>Mud mortar-Stone/Brick</td>\n",
       "      <td>Bamboo/Timber-Light roof</td>\n",
       "      <td>Mud</td>\n",
       "      <td>Not applicable</td>\n",
       "      <td>...</td>\n",
       "      <td>0</td>\n",
       "      <td>0</td>\n",
       "      <td>1</td>\n",
       "      <td>Damaged-Not used</td>\n",
       "      <td>70105</td>\n",
       "      <td>1.0</td>\n",
       "      <td>0.0-0-0-0-0-0-0-0-0-0-0</td>\n",
       "      <td>Both</td>\n",
       "      <td>0.0-0-0-0-0-0-0-0</td>\n",
       "      <td>1.0</td>\n",
       "    </tr>\n",
       "  </tbody>\n",
       "</table>\n",
       "<p>5 rows × 30 columns</p>\n",
       "</div>"
      ],
      "text/plain": [
       "   count_floors_post_eq  age_building  plinth_area_sq_ft  height_ft_pre_eq  \\\n",
       "0                     1            32                324                 9   \n",
       "1                     2            34                456                18   \n",
       "2                     2            20                452                18   \n",
       "3                     1            44                546                 9   \n",
       "4                     1            25                324                 9   \n",
       "\n",
       "   height_ft_post_eq land_surface_condition         foundation_type  \\\n",
       "0                  9         Moderate slope  Mud mortar-Stone/Brick   \n",
       "1                 18         Moderate slope  Mud mortar-Stone/Brick   \n",
       "2                 18         Moderate slope  Mud mortar-Stone/Brick   \n",
       "3                  9         Moderate slope  Mud mortar-Stone/Brick   \n",
       "4                  9         Moderate slope  Mud mortar-Stone/Brick   \n",
       "\n",
       "                  roof_type ground_floor_type   other_floor_type  ...  \\\n",
       "0  Bamboo/Timber-Light roof               Mud     Not applicable  ...   \n",
       "1  Bamboo/Timber-Light roof               Mud  TImber/Bamboo-Mud  ...   \n",
       "2  Bamboo/Timber-Light roof               Mud  TImber/Bamboo-Mud  ...   \n",
       "3  Bamboo/Timber-Light roof               Mud     Not applicable  ...   \n",
       "4  Bamboo/Timber-Light roof               Mud     Not applicable  ...   \n",
       "\n",
       "  has_superstructure_rc_non_engineered has_superstructure_rc_engineered  \\\n",
       "0                                    0                                0   \n",
       "1                                    0                                0   \n",
       "2                                    0                                0   \n",
       "3                                    0                                0   \n",
       "4                                    0                                0   \n",
       "\n",
       "   has_superstructure_other          condition_post_eq  ward_id  \\\n",
       "0                         1  Damaged-Repaired and used    70102   \n",
       "1                         1  Damaged-Repaired and used    70102   \n",
       "2                         1  Damaged-Repaired and used    70103   \n",
       "3                         0           Damaged-Not used    70103   \n",
       "4                         1           Damaged-Not used    70105   \n",
       "\n",
       "   count_families        has_secondary_use  area_assesed  \\\n",
       "0             1.0  0.0-0-0-0-0-0-0-0-0-0-0          Both   \n",
       "1             1.0  0.0-0-0-0-0-0-0-0-0-0-0          Both   \n",
       "2             1.0  0.0-0-0-0-0-0-0-0-0-0-0          Both   \n",
       "3             1.0  0.0-0-0-0-0-0-0-0-0-0-0          Both   \n",
       "4             1.0  0.0-0-0-0-0-0-0-0-0-0-0          Both   \n",
       "\n",
       "   has_geotechnical_risk  has_repair_started  \n",
       "0      0.0-0-0-0-0-0-0-0                 1.0  \n",
       "1      0.0-0-0-0-0-0-0-0                 1.0  \n",
       "2      0.0-0-0-0-0-0-0-0                 1.0  \n",
       "3      0.0-0-0-0-0-0-0-0                 1.0  \n",
       "4      0.0-0-0-0-0-0-0-0                 1.0  \n",
       "\n",
       "[5 rows x 30 columns]"
      ]
     },
     "execution_count": 122,
     "metadata": {},
     "output_type": "execute_result"
    }
   ],
   "source": [
    "data.head()"
   ]
  },
  {
   "cell_type": "markdown",
   "metadata": {
    "colab_type": "text",
    "id": "iTGC7WwzuPlE"
   },
   "source": [
    "we create two class with or without grade.so that in x contain dataset without grade and y contain with label.for training purpose we make this category"
   ]
  },
  {
   "cell_type": "code",
   "execution_count": 123,
   "metadata": {
    "colab": {},
    "colab_type": "code",
    "id": "vDQXdm_nuLbg"
   },
   "outputs": [],
   "source": [
    "#Import Random Forest Model\n",
    "from sklearn.ensemble import RandomForestClassifier\n",
    "\n",
    "#Create a Gaussian Classifier\n",
    "clf=RandomForestClassifier(n_estimators=100)\n"
   ]
  },
  {
   "cell_type": "code",
   "execution_count": 124,
   "metadata": {
    "colab": {
     "base_uri": "https://localhost:8080/",
     "height": 153
    },
    "colab_type": "code",
    "id": "_3LgxO9PuLbi",
    "outputId": "f3b6a6bc-c091-4941-8a1c-103ebb348a17"
   },
   "outputs": [
    {
     "data": {
      "text/plain": [
       "RandomForestClassifier(bootstrap=True, ccp_alpha=0.0, class_weight=None,\n",
       "                       criterion='gini', max_depth=None, max_features='auto',\n",
       "                       max_leaf_nodes=None, max_samples=None,\n",
       "                       min_impurity_decrease=0.0, min_impurity_split=None,\n",
       "                       min_samples_leaf=1, min_samples_split=2,\n",
       "                       min_weight_fraction_leaf=0.0, n_estimators=100,\n",
       "                       n_jobs=None, oob_score=False, random_state=None,\n",
       "                       verbose=0, warm_start=False)"
      ]
     },
     "execution_count": 124,
     "metadata": {},
     "output_type": "execute_result"
    }
   ],
   "source": [
    "\n",
    "#Train the model using the training sets y_pred=clf.predict(X_test)\n",
    "clf.fit(train,train_labl)"
   ]
  },
  {
   "cell_type": "code",
   "execution_count": 125,
   "metadata": {
    "colab": {},
    "colab_type": "code",
    "id": "Q5BgfNlkuLbm"
   },
   "outputs": [],
   "source": [
    "pred=clf.predict(test)"
   ]
  },
  {
   "cell_type": "markdown",
   "metadata": {},
   "source": [
    "At this point we have trained our algorithm and made some predictions. Now we'll see how accurate our algorithm is. \n",
    "For classification tasks some commonly used metrics are confusion matrix, precision, recall, and F1 score. \n",
    "Lucky for us Scikit=-Learn's metrics library contains the classification_report and confusion_matrix methods that can be used to calculate these metrics for us:"
   ]
  },
  {
   "cell_type": "code",
   "execution_count": 126,
   "metadata": {
    "colab": {
     "base_uri": "https://localhost:8080/",
     "height": 306
    },
    "colab_type": "code",
    "id": "q7-4QlFfuLbq",
    "outputId": "3eabf34e-8a4a-4502-afc6-dc6119884da4"
   },
   "outputs": [
    {
     "name": "stdout",
     "output_type": "stream",
     "text": [
      "[[10269  1211   637    93     0]\n",
      " [  374  7662  5923  2987     9]\n",
      " [  131  4638 10373  9263    16]\n",
      " [   33  1564  5864 22753    67]\n",
      " [    6    36   193  1791 39799]]\n",
      "              precision    recall  f1-score   support\n",
      "\n",
      "     Grade 1       0.95      0.84      0.89     12210\n",
      "     Grade 2       0.51      0.45      0.48     16955\n",
      "     Grade 3       0.45      0.42      0.44     24421\n",
      "     Grade 4       0.62      0.75      0.68     30281\n",
      "     Grade 5       1.00      0.95      0.97     41825\n",
      "\n",
      "    accuracy                           0.72    125692\n",
      "   macro avg       0.70      0.68      0.69    125692\n",
      "weighted avg       0.73      0.72      0.72    125692\n",
      "\n"
     ]
    }
   ],
   "source": [
    "\n",
    "from sklearn.metrics import classification_report, confusion_matrix\n",
    "print(confusion_matrix(test_labl,pred))\n",
    "print(classification_report(test_labl, pred))"
   ]
  },
  {
   "cell_type": "code",
   "execution_count": 127,
   "metadata": {
    "colab": {
     "base_uri": "https://localhost:8080/",
     "height": 34
    },
    "colab_type": "code",
    "id": "5-zw0fsguLbw",
    "outputId": "687f81b8-b31d-4cf7-d913-2cf2f2c1b628"
   },
   "outputs": [
    {
     "name": "stdout",
     "output_type": "stream",
     "text": [
      "Accuracy: 72.285%\n"
     ]
    }
   ],
   "source": [
    "result =clf.score(test, test_labl)\n",
    "print(\"Accuracy: %.3f%%\" % (result*100.0))\n",
    "\n",
    "#est1=x_Test.sample()\n",
    "# Use the forest's predict method on the test data\n",
    "#predictions = clf.predict(y_Test)\n",
    "# Calculate the absolute errors\n",
    "#errors = abs(predictions - y_Test)\n",
    "# Print out the mean absolute error (mae)\n",
    "#print('Mean Absolute Error:', round(np.mean(errors), 2), 'degrees.')"
   ]
  },
  {
   "cell_type": "code",
   "execution_count": 128,
   "metadata": {
    "colab": {},
    "colab_type": "code",
    "id": "qhBQIwSfuPll"
   },
   "outputs": [],
   "source": [
    "test_data=pd.read_csv(path+'/test.csv') "
   ]
  },
  {
   "cell_type": "code",
   "execution_count": 129,
   "metadata": {
    "colab": {
     "base_uri": "https://localhost:8080/",
     "height": 258
    },
    "colab_type": "code",
    "id": "BA-CQpcMuPln",
    "outputId": "f456b97b-1e35-4d38-f16e-c318d43e13db"
   },
   "outputs": [
    {
     "data": {
      "text/html": [
       "<div>\n",
       "<style scoped>\n",
       "    .dataframe tbody tr th:only-of-type {\n",
       "        vertical-align: middle;\n",
       "    }\n",
       "\n",
       "    .dataframe tbody tr th {\n",
       "        vertical-align: top;\n",
       "    }\n",
       "\n",
       "    .dataframe thead th {\n",
       "        text-align: right;\n",
       "    }\n",
       "</style>\n",
       "<table border=\"1\" class=\"dataframe\">\n",
       "  <thead>\n",
       "    <tr style=\"text-align: right;\">\n",
       "      <th></th>\n",
       "      <th>area_assesed</th>\n",
       "      <th>building_id</th>\n",
       "      <th>district_id</th>\n",
       "      <th>has_geotechnical_risk</th>\n",
       "      <th>has_geotechnical_risk_fault_crack</th>\n",
       "      <th>has_geotechnical_risk_flood</th>\n",
       "      <th>has_geotechnical_risk_land_settlement</th>\n",
       "      <th>has_geotechnical_risk_landslide</th>\n",
       "      <th>has_geotechnical_risk_liquefaction</th>\n",
       "      <th>has_geotechnical_risk_other</th>\n",
       "      <th>has_geotechnical_risk_rock_fall</th>\n",
       "      <th>has_repair_started</th>\n",
       "      <th>vdcmun_id</th>\n",
       "    </tr>\n",
       "  </thead>\n",
       "  <tbody>\n",
       "    <tr>\n",
       "      <th>0</th>\n",
       "      <td>Both</td>\n",
       "      <td>a3380c4f75</td>\n",
       "      <td>7</td>\n",
       "      <td>0.0</td>\n",
       "      <td>0</td>\n",
       "      <td>0</td>\n",
       "      <td>0</td>\n",
       "      <td>0</td>\n",
       "      <td>0</td>\n",
       "      <td>0</td>\n",
       "      <td>0</td>\n",
       "      <td>1.0</td>\n",
       "      <td>701</td>\n",
       "    </tr>\n",
       "    <tr>\n",
       "      <th>1</th>\n",
       "      <td>Both</td>\n",
       "      <td>a338a4e653</td>\n",
       "      <td>7</td>\n",
       "      <td>0.0</td>\n",
       "      <td>0</td>\n",
       "      <td>0</td>\n",
       "      <td>0</td>\n",
       "      <td>0</td>\n",
       "      <td>0</td>\n",
       "      <td>0</td>\n",
       "      <td>0</td>\n",
       "      <td>1.0</td>\n",
       "      <td>701</td>\n",
       "    </tr>\n",
       "    <tr>\n",
       "      <th>2</th>\n",
       "      <td>Building removed</td>\n",
       "      <td>a338a4e6b7</td>\n",
       "      <td>7</td>\n",
       "      <td>0.0</td>\n",
       "      <td>0</td>\n",
       "      <td>0</td>\n",
       "      <td>0</td>\n",
       "      <td>0</td>\n",
       "      <td>0</td>\n",
       "      <td>0</td>\n",
       "      <td>0</td>\n",
       "      <td>1.0</td>\n",
       "      <td>701</td>\n",
       "    </tr>\n",
       "    <tr>\n",
       "      <th>3</th>\n",
       "      <td>Both</td>\n",
       "      <td>a33a6eaa3a</td>\n",
       "      <td>7</td>\n",
       "      <td>0.0</td>\n",
       "      <td>0</td>\n",
       "      <td>0</td>\n",
       "      <td>0</td>\n",
       "      <td>0</td>\n",
       "      <td>0</td>\n",
       "      <td>0</td>\n",
       "      <td>0</td>\n",
       "      <td>1.0</td>\n",
       "      <td>701</td>\n",
       "    </tr>\n",
       "    <tr>\n",
       "      <th>4</th>\n",
       "      <td>Building removed</td>\n",
       "      <td>a33b073ff6</td>\n",
       "      <td>7</td>\n",
       "      <td>0.0</td>\n",
       "      <td>0</td>\n",
       "      <td>0</td>\n",
       "      <td>0</td>\n",
       "      <td>0</td>\n",
       "      <td>0</td>\n",
       "      <td>0</td>\n",
       "      <td>0</td>\n",
       "      <td>1.0</td>\n",
       "      <td>701</td>\n",
       "    </tr>\n",
       "  </tbody>\n",
       "</table>\n",
       "</div>"
      ],
      "text/plain": [
       "       area_assesed building_id  district_id  has_geotechnical_risk  \\\n",
       "0              Both  a3380c4f75            7                    0.0   \n",
       "1              Both  a338a4e653            7                    0.0   \n",
       "2  Building removed  a338a4e6b7            7                    0.0   \n",
       "3              Both  a33a6eaa3a            7                    0.0   \n",
       "4  Building removed  a33b073ff6            7                    0.0   \n",
       "\n",
       "   has_geotechnical_risk_fault_crack  has_geotechnical_risk_flood  \\\n",
       "0                                  0                            0   \n",
       "1                                  0                            0   \n",
       "2                                  0                            0   \n",
       "3                                  0                            0   \n",
       "4                                  0                            0   \n",
       "\n",
       "   has_geotechnical_risk_land_settlement  has_geotechnical_risk_landslide  \\\n",
       "0                                      0                                0   \n",
       "1                                      0                                0   \n",
       "2                                      0                                0   \n",
       "3                                      0                                0   \n",
       "4                                      0                                0   \n",
       "\n",
       "   has_geotechnical_risk_liquefaction  has_geotechnical_risk_other  \\\n",
       "0                                   0                            0   \n",
       "1                                   0                            0   \n",
       "2                                   0                            0   \n",
       "3                                   0                            0   \n",
       "4                                   0                            0   \n",
       "\n",
       "   has_geotechnical_risk_rock_fall  has_repair_started  vdcmun_id  \n",
       "0                                0                 1.0        701  \n",
       "1                                0                 1.0        701  \n",
       "2                                0                 1.0        701  \n",
       "3                                0                 1.0        701  \n",
       "4                                0                 1.0        701  "
      ]
     },
     "execution_count": 129,
     "metadata": {},
     "output_type": "execute_result"
    }
   ],
   "source": [
    "test_data.head()"
   ]
  },
  {
   "cell_type": "code",
   "execution_count": 130,
   "metadata": {
    "colab": {},
    "colab_type": "code",
    "id": "PWZZvlkouPlr"
   },
   "outputs": [],
   "source": [
    "test_data[\"has_geotechnical_risk\"]=test_data.iloc[:,4:12].astype(str).agg('-'.join,axis=1)\n",
    "test_data.drop(['district_id','vdcmun_id'],axis=1,inplace=True)"
   ]
  },
  {
   "cell_type": "code",
   "execution_count": 131,
   "metadata": {
    "colab": {
     "base_uri": "https://localhost:8080/",
     "height": 258
    },
    "colab_type": "code",
    "id": "WY_7LtJpuPlt",
    "outputId": "9db534f4-2bf9-4d94-c2e7-fd0a61ff7065"
   },
   "outputs": [
    {
     "data": {
      "text/html": [
       "<div>\n",
       "<style scoped>\n",
       "    .dataframe tbody tr th:only-of-type {\n",
       "        vertical-align: middle;\n",
       "    }\n",
       "\n",
       "    .dataframe tbody tr th {\n",
       "        vertical-align: top;\n",
       "    }\n",
       "\n",
       "    .dataframe thead th {\n",
       "        text-align: right;\n",
       "    }\n",
       "</style>\n",
       "<table border=\"1\" class=\"dataframe\">\n",
       "  <thead>\n",
       "    <tr style=\"text-align: right;\">\n",
       "      <th></th>\n",
       "      <th>area_assesed</th>\n",
       "      <th>building_id</th>\n",
       "      <th>has_geotechnical_risk</th>\n",
       "      <th>has_geotechnical_risk_fault_crack</th>\n",
       "      <th>has_geotechnical_risk_flood</th>\n",
       "      <th>has_geotechnical_risk_land_settlement</th>\n",
       "      <th>has_geotechnical_risk_landslide</th>\n",
       "      <th>has_geotechnical_risk_liquefaction</th>\n",
       "      <th>has_geotechnical_risk_other</th>\n",
       "      <th>has_geotechnical_risk_rock_fall</th>\n",
       "      <th>has_repair_started</th>\n",
       "    </tr>\n",
       "  </thead>\n",
       "  <tbody>\n",
       "    <tr>\n",
       "      <th>0</th>\n",
       "      <td>Both</td>\n",
       "      <td>a3380c4f75</td>\n",
       "      <td>0-0-0-0-0-0-0-1.0</td>\n",
       "      <td>0</td>\n",
       "      <td>0</td>\n",
       "      <td>0</td>\n",
       "      <td>0</td>\n",
       "      <td>0</td>\n",
       "      <td>0</td>\n",
       "      <td>0</td>\n",
       "      <td>1.0</td>\n",
       "    </tr>\n",
       "    <tr>\n",
       "      <th>1</th>\n",
       "      <td>Both</td>\n",
       "      <td>a338a4e653</td>\n",
       "      <td>0-0-0-0-0-0-0-1.0</td>\n",
       "      <td>0</td>\n",
       "      <td>0</td>\n",
       "      <td>0</td>\n",
       "      <td>0</td>\n",
       "      <td>0</td>\n",
       "      <td>0</td>\n",
       "      <td>0</td>\n",
       "      <td>1.0</td>\n",
       "    </tr>\n",
       "    <tr>\n",
       "      <th>2</th>\n",
       "      <td>Building removed</td>\n",
       "      <td>a338a4e6b7</td>\n",
       "      <td>0-0-0-0-0-0-0-1.0</td>\n",
       "      <td>0</td>\n",
       "      <td>0</td>\n",
       "      <td>0</td>\n",
       "      <td>0</td>\n",
       "      <td>0</td>\n",
       "      <td>0</td>\n",
       "      <td>0</td>\n",
       "      <td>1.0</td>\n",
       "    </tr>\n",
       "    <tr>\n",
       "      <th>3</th>\n",
       "      <td>Both</td>\n",
       "      <td>a33a6eaa3a</td>\n",
       "      <td>0-0-0-0-0-0-0-1.0</td>\n",
       "      <td>0</td>\n",
       "      <td>0</td>\n",
       "      <td>0</td>\n",
       "      <td>0</td>\n",
       "      <td>0</td>\n",
       "      <td>0</td>\n",
       "      <td>0</td>\n",
       "      <td>1.0</td>\n",
       "    </tr>\n",
       "    <tr>\n",
       "      <th>4</th>\n",
       "      <td>Building removed</td>\n",
       "      <td>a33b073ff6</td>\n",
       "      <td>0-0-0-0-0-0-0-1.0</td>\n",
       "      <td>0</td>\n",
       "      <td>0</td>\n",
       "      <td>0</td>\n",
       "      <td>0</td>\n",
       "      <td>0</td>\n",
       "      <td>0</td>\n",
       "      <td>0</td>\n",
       "      <td>1.0</td>\n",
       "    </tr>\n",
       "  </tbody>\n",
       "</table>\n",
       "</div>"
      ],
      "text/plain": [
       "       area_assesed building_id has_geotechnical_risk  \\\n",
       "0              Both  a3380c4f75     0-0-0-0-0-0-0-1.0   \n",
       "1              Both  a338a4e653     0-0-0-0-0-0-0-1.0   \n",
       "2  Building removed  a338a4e6b7     0-0-0-0-0-0-0-1.0   \n",
       "3              Both  a33a6eaa3a     0-0-0-0-0-0-0-1.0   \n",
       "4  Building removed  a33b073ff6     0-0-0-0-0-0-0-1.0   \n",
       "\n",
       "   has_geotechnical_risk_fault_crack  has_geotechnical_risk_flood  \\\n",
       "0                                  0                            0   \n",
       "1                                  0                            0   \n",
       "2                                  0                            0   \n",
       "3                                  0                            0   \n",
       "4                                  0                            0   \n",
       "\n",
       "   has_geotechnical_risk_land_settlement  has_geotechnical_risk_landslide  \\\n",
       "0                                      0                                0   \n",
       "1                                      0                                0   \n",
       "2                                      0                                0   \n",
       "3                                      0                                0   \n",
       "4                                      0                                0   \n",
       "\n",
       "   has_geotechnical_risk_liquefaction  has_geotechnical_risk_other  \\\n",
       "0                                   0                            0   \n",
       "1                                   0                            0   \n",
       "2                                   0                            0   \n",
       "3                                   0                            0   \n",
       "4                                   0                            0   \n",
       "\n",
       "   has_geotechnical_risk_rock_fall  has_repair_started  \n",
       "0                                0                 1.0  \n",
       "1                                0                 1.0  \n",
       "2                                0                 1.0  \n",
       "3                                0                 1.0  \n",
       "4                                0                 1.0  "
      ]
     },
     "execution_count": 131,
     "metadata": {},
     "output_type": "execute_result"
    }
   ],
   "source": [
    "test_data.head()"
   ]
  },
  {
   "cell_type": "code",
   "execution_count": 132,
   "metadata": {
    "colab": {
     "base_uri": "https://localhost:8080/",
     "height": 204
    },
    "colab_type": "code",
    "id": "LS4gLtq0uPlw",
    "outputId": "d137539c-cd99-4ca5-cb4e-75d83d99a9ba"
   },
   "outputs": [
    {
     "data": {
      "text/html": [
       "<div>\n",
       "<style scoped>\n",
       "    .dataframe tbody tr th:only-of-type {\n",
       "        vertical-align: middle;\n",
       "    }\n",
       "\n",
       "    .dataframe tbody tr th {\n",
       "        vertical-align: top;\n",
       "    }\n",
       "\n",
       "    .dataframe thead th {\n",
       "        text-align: right;\n",
       "    }\n",
       "</style>\n",
       "<table border=\"1\" class=\"dataframe\">\n",
       "  <thead>\n",
       "    <tr style=\"text-align: right;\">\n",
       "      <th></th>\n",
       "      <th>area_assesed</th>\n",
       "      <th>building_id</th>\n",
       "      <th>has_geotechnical_risk</th>\n",
       "      <th>has_repair_started</th>\n",
       "    </tr>\n",
       "  </thead>\n",
       "  <tbody>\n",
       "    <tr>\n",
       "      <th>0</th>\n",
       "      <td>Both</td>\n",
       "      <td>a3380c4f75</td>\n",
       "      <td>0-0-0-0-0-0-0-1.0</td>\n",
       "      <td>1.0</td>\n",
       "    </tr>\n",
       "    <tr>\n",
       "      <th>1</th>\n",
       "      <td>Both</td>\n",
       "      <td>a338a4e653</td>\n",
       "      <td>0-0-0-0-0-0-0-1.0</td>\n",
       "      <td>1.0</td>\n",
       "    </tr>\n",
       "    <tr>\n",
       "      <th>2</th>\n",
       "      <td>Building removed</td>\n",
       "      <td>a338a4e6b7</td>\n",
       "      <td>0-0-0-0-0-0-0-1.0</td>\n",
       "      <td>1.0</td>\n",
       "    </tr>\n",
       "    <tr>\n",
       "      <th>3</th>\n",
       "      <td>Both</td>\n",
       "      <td>a33a6eaa3a</td>\n",
       "      <td>0-0-0-0-0-0-0-1.0</td>\n",
       "      <td>1.0</td>\n",
       "    </tr>\n",
       "    <tr>\n",
       "      <th>4</th>\n",
       "      <td>Building removed</td>\n",
       "      <td>a33b073ff6</td>\n",
       "      <td>0-0-0-0-0-0-0-1.0</td>\n",
       "      <td>1.0</td>\n",
       "    </tr>\n",
       "  </tbody>\n",
       "</table>\n",
       "</div>"
      ],
      "text/plain": [
       "       area_assesed building_id has_geotechnical_risk  has_repair_started\n",
       "0              Both  a3380c4f75     0-0-0-0-0-0-0-1.0                 1.0\n",
       "1              Both  a338a4e653     0-0-0-0-0-0-0-1.0                 1.0\n",
       "2  Building removed  a338a4e6b7     0-0-0-0-0-0-0-1.0                 1.0\n",
       "3              Both  a33a6eaa3a     0-0-0-0-0-0-0-1.0                 1.0\n",
       "4  Building removed  a33b073ff6     0-0-0-0-0-0-0-1.0                 1.0"
      ]
     },
     "execution_count": 132,
     "metadata": {},
     "output_type": "execute_result"
    }
   ],
   "source": [
    "test_data.drop(test_data.columns[3:10],axis=1,inplace=True)\n",
    "test_data.head()"
   ]
  },
  {
   "cell_type": "code",
   "execution_count": 133,
   "metadata": {
    "colab": {},
    "colab_type": "code",
    "id": "eqHmlMnuuPl0"
   },
   "outputs": [],
   "source": [
    "test_data=test_data.merge(data2,on='building_id')"
   ]
  },
  {
   "cell_type": "code",
   "execution_count": 134,
   "metadata": {
    "colab": {},
    "colab_type": "code",
    "id": "ApjBjUF7uPl6"
   },
   "outputs": [],
   "source": [
    "test_data=test_data.merge(data4,on=\"building_id\")\n",
    "test_data.fillna(0,inplace=True)"
   ]
  },
  {
   "cell_type": "code",
   "execution_count": 135,
   "metadata": {
    "colab": {},
    "colab_type": "code",
    "id": "GP1YZFkzuPmA"
   },
   "outputs": [],
   "source": [
    "test_data.drop('building_id',axis=1,inplace=True)"
   ]
  },
  {
   "cell_type": "code",
   "execution_count": 136,
   "metadata": {
    "colab": {},
    "colab_type": "code",
    "id": "SRaEMdFLuPmK"
   },
   "outputs": [],
   "source": [
    "test_data.drop(['count_floors_pre_eq'],axis=1,inplace=True)"
   ]
  },
  {
   "cell_type": "code",
   "execution_count": 137,
   "metadata": {
    "colab": {},
    "colab_type": "code",
    "id": "mSPVOjWYy4-U"
   },
   "outputs": [],
   "source": [
    "test_data.drop(['legal_ownership_status'],axis=1,inplace=True)"
   ]
  },
  {
   "cell_type": "code",
   "execution_count": 138,
   "metadata": {
    "colab": {
     "base_uri": "https://localhost:8080/",
     "height": 343
    },
    "colab_type": "code",
    "id": "qVoRBSefywt0",
    "outputId": "468cb2b2-98fb-443f-ee0b-5443c3f45d44"
   },
   "outputs": [
    {
     "data": {
      "text/html": [
       "<div>\n",
       "<style scoped>\n",
       "    .dataframe tbody tr th:only-of-type {\n",
       "        vertical-align: middle;\n",
       "    }\n",
       "\n",
       "    .dataframe tbody tr th {\n",
       "        vertical-align: top;\n",
       "    }\n",
       "\n",
       "    .dataframe thead th {\n",
       "        text-align: right;\n",
       "    }\n",
       "</style>\n",
       "<table border=\"1\" class=\"dataframe\">\n",
       "  <thead>\n",
       "    <tr style=\"text-align: right;\">\n",
       "      <th></th>\n",
       "      <th>area_assesed</th>\n",
       "      <th>has_geotechnical_risk</th>\n",
       "      <th>has_repair_started</th>\n",
       "      <th>ward_id</th>\n",
       "      <th>count_families</th>\n",
       "      <th>has_secondary_use</th>\n",
       "      <th>count_floors_post_eq</th>\n",
       "      <th>age_building</th>\n",
       "      <th>plinth_area_sq_ft</th>\n",
       "      <th>height_ft_pre_eq</th>\n",
       "      <th>...</th>\n",
       "      <th>has_superstructure_stone_flag</th>\n",
       "      <th>has_superstructure_cement_mortar_stone</th>\n",
       "      <th>has_superstructure_mud_mortar_brick</th>\n",
       "      <th>has_superstructure_cement_mortar_brick</th>\n",
       "      <th>has_superstructure_timber</th>\n",
       "      <th>has_superstructure_bamboo</th>\n",
       "      <th>has_superstructure_rc_non_engineered</th>\n",
       "      <th>has_superstructure_rc_engineered</th>\n",
       "      <th>has_superstructure_other</th>\n",
       "      <th>condition_post_eq</th>\n",
       "    </tr>\n",
       "  </thead>\n",
       "  <tbody>\n",
       "    <tr>\n",
       "      <th>0</th>\n",
       "      <td>Both</td>\n",
       "      <td>0-0-0-0-0-0-0-1.0</td>\n",
       "      <td>1.0</td>\n",
       "      <td>70102</td>\n",
       "      <td>1.0</td>\n",
       "      <td>0.0-0-0-0-0-0-0-0-0-0-0</td>\n",
       "      <td>1</td>\n",
       "      <td>28</td>\n",
       "      <td>454</td>\n",
       "      <td>9</td>\n",
       "      <td>...</td>\n",
       "      <td>0</td>\n",
       "      <td>0</td>\n",
       "      <td>0</td>\n",
       "      <td>0</td>\n",
       "      <td>1</td>\n",
       "      <td>1</td>\n",
       "      <td>0</td>\n",
       "      <td>0</td>\n",
       "      <td>1</td>\n",
       "      <td>Damaged-Repaired and used</td>\n",
       "    </tr>\n",
       "    <tr>\n",
       "      <th>1</th>\n",
       "      <td>Both</td>\n",
       "      <td>0-0-0-0-0-0-0-1.0</td>\n",
       "      <td>1.0</td>\n",
       "      <td>70103</td>\n",
       "      <td>1.0</td>\n",
       "      <td>0.0-0-0-0-0-0-0-0-0-0-0</td>\n",
       "      <td>0</td>\n",
       "      <td>25</td>\n",
       "      <td>542</td>\n",
       "      <td>9</td>\n",
       "      <td>...</td>\n",
       "      <td>0</td>\n",
       "      <td>0</td>\n",
       "      <td>0</td>\n",
       "      <td>0</td>\n",
       "      <td>1</td>\n",
       "      <td>1</td>\n",
       "      <td>0</td>\n",
       "      <td>0</td>\n",
       "      <td>1</td>\n",
       "      <td>Damaged-Rubble unclear</td>\n",
       "    </tr>\n",
       "    <tr>\n",
       "      <th>2</th>\n",
       "      <td>Building removed</td>\n",
       "      <td>0-0-0-0-0-0-0-1.0</td>\n",
       "      <td>1.0</td>\n",
       "      <td>70103</td>\n",
       "      <td>1.0</td>\n",
       "      <td>0.0-0-0-0-0-0-0-0-0-0-0</td>\n",
       "      <td>0</td>\n",
       "      <td>35</td>\n",
       "      <td>589</td>\n",
       "      <td>18</td>\n",
       "      <td>...</td>\n",
       "      <td>0</td>\n",
       "      <td>0</td>\n",
       "      <td>0</td>\n",
       "      <td>0</td>\n",
       "      <td>1</td>\n",
       "      <td>1</td>\n",
       "      <td>0</td>\n",
       "      <td>0</td>\n",
       "      <td>0</td>\n",
       "      <td>Damaged-Rubble Clear-New building built</td>\n",
       "    </tr>\n",
       "    <tr>\n",
       "      <th>3</th>\n",
       "      <td>Both</td>\n",
       "      <td>0-0-0-0-0-0-0-1.0</td>\n",
       "      <td>1.0</td>\n",
       "      <td>70106</td>\n",
       "      <td>1.0</td>\n",
       "      <td>0.0-0-0-0-0-0-0-0-0-0-0</td>\n",
       "      <td>2</td>\n",
       "      <td>22</td>\n",
       "      <td>468</td>\n",
       "      <td>18</td>\n",
       "      <td>...</td>\n",
       "      <td>1</td>\n",
       "      <td>0</td>\n",
       "      <td>0</td>\n",
       "      <td>0</td>\n",
       "      <td>1</td>\n",
       "      <td>1</td>\n",
       "      <td>0</td>\n",
       "      <td>0</td>\n",
       "      <td>1</td>\n",
       "      <td>Damaged-Repaired and used</td>\n",
       "    </tr>\n",
       "    <tr>\n",
       "      <th>4</th>\n",
       "      <td>Building removed</td>\n",
       "      <td>0-0-0-0-0-0-0-1.0</td>\n",
       "      <td>1.0</td>\n",
       "      <td>70107</td>\n",
       "      <td>1.0</td>\n",
       "      <td>0.0-0-0-0-0-0-0-0-0-0-0</td>\n",
       "      <td>0</td>\n",
       "      <td>24</td>\n",
       "      <td>426</td>\n",
       "      <td>9</td>\n",
       "      <td>...</td>\n",
       "      <td>1</td>\n",
       "      <td>0</td>\n",
       "      <td>0</td>\n",
       "      <td>0</td>\n",
       "      <td>1</td>\n",
       "      <td>1</td>\n",
       "      <td>0</td>\n",
       "      <td>0</td>\n",
       "      <td>1</td>\n",
       "      <td>Damaged-Rubble Clear-New building built</td>\n",
       "    </tr>\n",
       "  </tbody>\n",
       "</table>\n",
       "<p>5 rows × 30 columns</p>\n",
       "</div>"
      ],
      "text/plain": [
       "       area_assesed has_geotechnical_risk  has_repair_started  ward_id  \\\n",
       "0              Both     0-0-0-0-0-0-0-1.0                 1.0    70102   \n",
       "1              Both     0-0-0-0-0-0-0-1.0                 1.0    70103   \n",
       "2  Building removed     0-0-0-0-0-0-0-1.0                 1.0    70103   \n",
       "3              Both     0-0-0-0-0-0-0-1.0                 1.0    70106   \n",
       "4  Building removed     0-0-0-0-0-0-0-1.0                 1.0    70107   \n",
       "\n",
       "   count_families        has_secondary_use  count_floors_post_eq  \\\n",
       "0             1.0  0.0-0-0-0-0-0-0-0-0-0-0                     1   \n",
       "1             1.0  0.0-0-0-0-0-0-0-0-0-0-0                     0   \n",
       "2             1.0  0.0-0-0-0-0-0-0-0-0-0-0                     0   \n",
       "3             1.0  0.0-0-0-0-0-0-0-0-0-0-0                     2   \n",
       "4             1.0  0.0-0-0-0-0-0-0-0-0-0-0                     0   \n",
       "\n",
       "   age_building  plinth_area_sq_ft  height_ft_pre_eq  ...  \\\n",
       "0            28                454                 9  ...   \n",
       "1            25                542                 9  ...   \n",
       "2            35                589                18  ...   \n",
       "3            22                468                18  ...   \n",
       "4            24                426                 9  ...   \n",
       "\n",
       "   has_superstructure_stone_flag has_superstructure_cement_mortar_stone  \\\n",
       "0                              0                                      0   \n",
       "1                              0                                      0   \n",
       "2                              0                                      0   \n",
       "3                              1                                      0   \n",
       "4                              1                                      0   \n",
       "\n",
       "  has_superstructure_mud_mortar_brick has_superstructure_cement_mortar_brick  \\\n",
       "0                                   0                                      0   \n",
       "1                                   0                                      0   \n",
       "2                                   0                                      0   \n",
       "3                                   0                                      0   \n",
       "4                                   0                                      0   \n",
       "\n",
       "  has_superstructure_timber has_superstructure_bamboo  \\\n",
       "0                         1                         1   \n",
       "1                         1                         1   \n",
       "2                         1                         1   \n",
       "3                         1                         1   \n",
       "4                         1                         1   \n",
       "\n",
       "  has_superstructure_rc_non_engineered has_superstructure_rc_engineered  \\\n",
       "0                                    0                                0   \n",
       "1                                    0                                0   \n",
       "2                                    0                                0   \n",
       "3                                    0                                0   \n",
       "4                                    0                                0   \n",
       "\n",
       "   has_superstructure_other                        condition_post_eq  \n",
       "0                         1                Damaged-Repaired and used  \n",
       "1                         1                   Damaged-Rubble unclear  \n",
       "2                         0  Damaged-Rubble Clear-New building built  \n",
       "3                         1                Damaged-Repaired and used  \n",
       "4                         1  Damaged-Rubble Clear-New building built  \n",
       "\n",
       "[5 rows x 30 columns]"
      ]
     },
     "execution_count": 138,
     "metadata": {},
     "output_type": "execute_result"
    }
   ],
   "source": [
    "test_data.head()"
   ]
  },
  {
   "cell_type": "code",
   "execution_count": 139,
   "metadata": {
    "colab": {
     "base_uri": "https://localhost:8080/",
     "height": 54
    },
    "colab_type": "code",
    "id": "9WxsbqowuPmQ",
    "outputId": "85abb877-5933-416f-9c82-32d9c1bebf25"
   },
   "outputs": [
    {
     "name": "stdout",
     "output_type": "stream",
     "text": [
      "['area_assesed', 'has_geotechnical_risk', 'has_repair_started', 'ward_id', 'count_families', 'has_secondary_use', 'count_floors_post_eq', 'age_building', 'plinth_area_sq_ft', 'height_ft_pre_eq', 'height_ft_post_eq', 'land_surface_condition', 'foundation_type', 'roof_type', 'ground_floor_type', 'other_floor_type', 'position', 'plan_configuration', 'has_superstructure_adobe_mud', 'has_superstructure_mud_mortar_stone', 'has_superstructure_stone_flag', 'has_superstructure_cement_mortar_stone', 'has_superstructure_mud_mortar_brick', 'has_superstructure_cement_mortar_brick', 'has_superstructure_timber', 'has_superstructure_bamboo', 'has_superstructure_rc_non_engineered', 'has_superstructure_rc_engineered', 'has_superstructure_other', 'condition_post_eq']\n"
     ]
    }
   ],
   "source": [
    "test_ftrs=list(test_data)\n",
    "print(test_ftrs)"
   ]
  },
  {
   "cell_type": "code",
   "execution_count": 140,
   "metadata": {
    "colab": {},
    "colab_type": "code",
    "id": "-4fmLCIBuPmS"
   },
   "outputs": [],
   "source": [
    "from sklearn.preprocessing import LabelEncoder\n",
    "# Instatniate LabelEncoder\n",
    "test_le = LabelEncoder()\n",
    "for test_ftr in test_ftrs:\n",
    "  # LabelEncode damage_grade of data\n",
    "  test_data[test_ftr] =test_le.fit_transform(test_data[test_ftr])\n",
    "  # Inspecting encoded data\n",
    "  "
   ]
  },
  {
   "cell_type": "code",
   "execution_count": 141,
   "metadata": {
    "colab": {
     "base_uri": "https://localhost:8080/",
     "height": 224
    },
    "colab_type": "code",
    "id": "TkRIG2vsuPmV",
    "outputId": "a01cfba2-239c-49c1-d23e-7ce1d6608ca7"
   },
   "outputs": [
    {
     "data": {
      "text/html": [
       "<div>\n",
       "<style scoped>\n",
       "    .dataframe tbody tr th:only-of-type {\n",
       "        vertical-align: middle;\n",
       "    }\n",
       "\n",
       "    .dataframe tbody tr th {\n",
       "        vertical-align: top;\n",
       "    }\n",
       "\n",
       "    .dataframe thead th {\n",
       "        text-align: right;\n",
       "    }\n",
       "</style>\n",
       "<table border=\"1\" class=\"dataframe\">\n",
       "  <thead>\n",
       "    <tr style=\"text-align: right;\">\n",
       "      <th></th>\n",
       "      <th>area_assesed</th>\n",
       "      <th>has_geotechnical_risk</th>\n",
       "      <th>has_repair_started</th>\n",
       "      <th>ward_id</th>\n",
       "      <th>count_families</th>\n",
       "      <th>has_secondary_use</th>\n",
       "      <th>count_floors_post_eq</th>\n",
       "      <th>age_building</th>\n",
       "      <th>plinth_area_sq_ft</th>\n",
       "      <th>height_ft_pre_eq</th>\n",
       "      <th>...</th>\n",
       "      <th>has_superstructure_stone_flag</th>\n",
       "      <th>has_superstructure_cement_mortar_stone</th>\n",
       "      <th>has_superstructure_mud_mortar_brick</th>\n",
       "      <th>has_superstructure_cement_mortar_brick</th>\n",
       "      <th>has_superstructure_timber</th>\n",
       "      <th>has_superstructure_bamboo</th>\n",
       "      <th>has_superstructure_rc_non_engineered</th>\n",
       "      <th>has_superstructure_rc_engineered</th>\n",
       "      <th>has_superstructure_other</th>\n",
       "      <th>condition_post_eq</th>\n",
       "    </tr>\n",
       "  </thead>\n",
       "  <tbody>\n",
       "    <tr>\n",
       "      <th>0</th>\n",
       "      <td>0</td>\n",
       "      <td>1</td>\n",
       "      <td>1</td>\n",
       "      <td>0</td>\n",
       "      <td>1</td>\n",
       "      <td>0</td>\n",
       "      <td>1</td>\n",
       "      <td>28</td>\n",
       "      <td>383</td>\n",
       "      <td>3</td>\n",
       "      <td>...</td>\n",
       "      <td>0</td>\n",
       "      <td>0</td>\n",
       "      <td>0</td>\n",
       "      <td>0</td>\n",
       "      <td>1</td>\n",
       "      <td>1</td>\n",
       "      <td>0</td>\n",
       "      <td>0</td>\n",
       "      <td>1</td>\n",
       "      <td>2</td>\n",
       "    </tr>\n",
       "    <tr>\n",
       "      <th>1</th>\n",
       "      <td>0</td>\n",
       "      <td>1</td>\n",
       "      <td>1</td>\n",
       "      <td>1</td>\n",
       "      <td>1</td>\n",
       "      <td>0</td>\n",
       "      <td>0</td>\n",
       "      <td>25</td>\n",
       "      <td>471</td>\n",
       "      <td>3</td>\n",
       "      <td>...</td>\n",
       "      <td>0</td>\n",
       "      <td>0</td>\n",
       "      <td>0</td>\n",
       "      <td>0</td>\n",
       "      <td>1</td>\n",
       "      <td>1</td>\n",
       "      <td>0</td>\n",
       "      <td>0</td>\n",
       "      <td>1</td>\n",
       "      <td>5</td>\n",
       "    </tr>\n",
       "    <tr>\n",
       "      <th>2</th>\n",
       "      <td>1</td>\n",
       "      <td>1</td>\n",
       "      <td>1</td>\n",
       "      <td>1</td>\n",
       "      <td>1</td>\n",
       "      <td>0</td>\n",
       "      <td>0</td>\n",
       "      <td>35</td>\n",
       "      <td>518</td>\n",
       "      <td>12</td>\n",
       "      <td>...</td>\n",
       "      <td>0</td>\n",
       "      <td>0</td>\n",
       "      <td>0</td>\n",
       "      <td>0</td>\n",
       "      <td>1</td>\n",
       "      <td>1</td>\n",
       "      <td>0</td>\n",
       "      <td>0</td>\n",
       "      <td>0</td>\n",
       "      <td>3</td>\n",
       "    </tr>\n",
       "    <tr>\n",
       "      <th>3</th>\n",
       "      <td>0</td>\n",
       "      <td>1</td>\n",
       "      <td>1</td>\n",
       "      <td>2</td>\n",
       "      <td>1</td>\n",
       "      <td>0</td>\n",
       "      <td>2</td>\n",
       "      <td>22</td>\n",
       "      <td>397</td>\n",
       "      <td>12</td>\n",
       "      <td>...</td>\n",
       "      <td>1</td>\n",
       "      <td>0</td>\n",
       "      <td>0</td>\n",
       "      <td>0</td>\n",
       "      <td>1</td>\n",
       "      <td>1</td>\n",
       "      <td>0</td>\n",
       "      <td>0</td>\n",
       "      <td>1</td>\n",
       "      <td>2</td>\n",
       "    </tr>\n",
       "    <tr>\n",
       "      <th>4</th>\n",
       "      <td>1</td>\n",
       "      <td>1</td>\n",
       "      <td>1</td>\n",
       "      <td>3</td>\n",
       "      <td>1</td>\n",
       "      <td>0</td>\n",
       "      <td>0</td>\n",
       "      <td>24</td>\n",
       "      <td>355</td>\n",
       "      <td>3</td>\n",
       "      <td>...</td>\n",
       "      <td>1</td>\n",
       "      <td>0</td>\n",
       "      <td>0</td>\n",
       "      <td>0</td>\n",
       "      <td>1</td>\n",
       "      <td>1</td>\n",
       "      <td>0</td>\n",
       "      <td>0</td>\n",
       "      <td>1</td>\n",
       "      <td>3</td>\n",
       "    </tr>\n",
       "  </tbody>\n",
       "</table>\n",
       "<p>5 rows × 30 columns</p>\n",
       "</div>"
      ],
      "text/plain": [
       "   area_assesed  has_geotechnical_risk  has_repair_started  ward_id  \\\n",
       "0             0                      1                   1        0   \n",
       "1             0                      1                   1        1   \n",
       "2             1                      1                   1        1   \n",
       "3             0                      1                   1        2   \n",
       "4             1                      1                   1        3   \n",
       "\n",
       "   count_families  has_secondary_use  count_floors_post_eq  age_building  \\\n",
       "0               1                  0                     1            28   \n",
       "1               1                  0                     0            25   \n",
       "2               1                  0                     0            35   \n",
       "3               1                  0                     2            22   \n",
       "4               1                  0                     0            24   \n",
       "\n",
       "   plinth_area_sq_ft  height_ft_pre_eq  ...  has_superstructure_stone_flag  \\\n",
       "0                383                 3  ...                              0   \n",
       "1                471                 3  ...                              0   \n",
       "2                518                12  ...                              0   \n",
       "3                397                12  ...                              1   \n",
       "4                355                 3  ...                              1   \n",
       "\n",
       "   has_superstructure_cement_mortar_stone  \\\n",
       "0                                       0   \n",
       "1                                       0   \n",
       "2                                       0   \n",
       "3                                       0   \n",
       "4                                       0   \n",
       "\n",
       "   has_superstructure_mud_mortar_brick  \\\n",
       "0                                    0   \n",
       "1                                    0   \n",
       "2                                    0   \n",
       "3                                    0   \n",
       "4                                    0   \n",
       "\n",
       "   has_superstructure_cement_mortar_brick  has_superstructure_timber  \\\n",
       "0                                       0                          1   \n",
       "1                                       0                          1   \n",
       "2                                       0                          1   \n",
       "3                                       0                          1   \n",
       "4                                       0                          1   \n",
       "\n",
       "   has_superstructure_bamboo  has_superstructure_rc_non_engineered  \\\n",
       "0                          1                                     0   \n",
       "1                          1                                     0   \n",
       "2                          1                                     0   \n",
       "3                          1                                     0   \n",
       "4                          1                                     0   \n",
       "\n",
       "   has_superstructure_rc_engineered  has_superstructure_other  \\\n",
       "0                                 0                         1   \n",
       "1                                 0                         1   \n",
       "2                                 0                         0   \n",
       "3                                 0                         1   \n",
       "4                                 0                         1   \n",
       "\n",
       "   condition_post_eq  \n",
       "0                  2  \n",
       "1                  5  \n",
       "2                  3  \n",
       "3                  2  \n",
       "4                  3  \n",
       "\n",
       "[5 rows x 30 columns]"
      ]
     },
     "execution_count": 141,
     "metadata": {},
     "output_type": "execute_result"
    }
   ],
   "source": [
    "test_data.head()"
   ]
  },
  {
   "cell_type": "code",
   "execution_count": 142,
   "metadata": {
    "colab": {},
    "colab_type": "code",
    "id": "GqdkRBQ7uPmc"
   },
   "outputs": [],
   "source": [
    "predictions=clf.predict(test_data)"
   ]
  },
  {
   "cell_type": "code",
   "execution_count": 143,
   "metadata": {
    "colab": {
     "base_uri": "https://localhost:8080/",
     "height": 51
    },
    "colab_type": "code",
    "id": "jpj-zhDyzvco",
    "outputId": "2a60f252-67ee-4d87-aa54-12f0fc9a734c"
   },
   "outputs": [
    {
     "data": {
      "text/plain": [
       "array(['Grade 5', 'Grade 5', 'Grade 2', ..., 'Grade 5', 'Grade 2',\n",
       "       'Grade 2'], dtype=object)"
      ]
     },
     "execution_count": 143,
     "metadata": {},
     "output_type": "execute_result"
    }
   ],
   "source": [
    "predictions"
   ]
  },
  {
   "cell_type": "code",
   "execution_count": 144,
   "metadata": {
    "colab": {},
    "colab_type": "code",
    "id": "91RiiMIYuPmj"
   },
   "outputs": [],
   "source": [
    "test=pd.read_csv(path+'/test.csv') "
   ]
  },
  {
   "cell_type": "code",
   "execution_count": 145,
   "metadata": {
    "colab": {},
    "colab_type": "code",
    "id": "htYVwDiiuPmo"
   },
   "outputs": [],
   "source": [
    "predict=pd.DataFrame({'building_id':test['building_id'],'damage_grade':predictions})"
   ]
  },
  {
   "cell_type": "code",
   "execution_count": 146,
   "metadata": {
    "colab": {},
    "colab_type": "code",
    "id": "K8AqfSUtuPms"
   },
   "outputs": [],
   "source": [
    "predict.to_excel(r'testresult.xlsx', index = False)"
   ]
  },
  {
   "cell_type": "code",
   "execution_count": 0,
   "metadata": {
    "colab": {},
    "colab_type": "code",
    "id": "8xXslW5RLsan"
   },
   "outputs": [],
   "source": []
  }
 ],
 "metadata": {
  "colab": {
   "collapsed_sections": [],
   "name": "Earthquake_damage.ipynb",
   "provenance": []
  },
  "kernelspec": {
   "display_name": "Python 3",
   "language": "python",
   "name": "python3"
  },
  "language_info": {
   "codemirror_mode": {
    "name": "ipython",
    "version": 3
   },
   "file_extension": ".py",
   "mimetype": "text/x-python",
   "name": "python",
   "nbconvert_exporter": "python",
   "pygments_lexer": "ipython3",
   "version": "3.7.4"
  }
 },
 "nbformat": 4,
 "nbformat_minor": 1
}
